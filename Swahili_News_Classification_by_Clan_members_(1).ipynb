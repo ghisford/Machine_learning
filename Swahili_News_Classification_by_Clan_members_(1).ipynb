{
  "cells": [
    {
      "cell_type": "markdown",
      "metadata": {
        "id": "view-in-github",
        "colab_type": "text"
      },
      "source": [
        "<a href=\"https://colab.research.google.com/github/ghisford/Machine_learning/blob/main/Swahili_News_Classification_by_Clan_members_(1).ipynb\" target=\"_parent\"><img src=\"https://colab.research.google.com/assets/colab-badge.svg\" alt=\"Open In Colab\"/></a>"
      ]
    },
    {
      "cell_type": "markdown",
      "metadata": {
        "id": "rsMgf8LLsoOq"
      },
      "source": [
        "Let's install PyTorch and fastai libraries first. You have to repeat this step every time you restart this notebook in colab."
      ]
    },
    {
      "cell_type": "code",
      "execution_count": null,
      "metadata": {
        "colab": {
          "base_uri": "https://localhost:8080/"
        },
        "id": "9L-mYNWDBB4g",
        "outputId": "e04d17f5-98ca-4fbe-8362-3706216564ec"
      },
      "outputs": [
        {
          "output_type": "stream",
          "name": "stdout",
          "text": [
            "Requirement already satisfied: torch in /usr/local/lib/python3.10/dist-packages (2.3.0+cu121)\n",
            "Requirement already satisfied: torchvision in /usr/local/lib/python3.10/dist-packages (0.18.0+cu121)\n",
            "Requirement already satisfied: filelock in /usr/local/lib/python3.10/dist-packages (from torch) (3.14.0)\n",
            "Requirement already satisfied: typing-extensions>=4.8.0 in /usr/local/lib/python3.10/dist-packages (from torch) (4.12.1)\n",
            "Requirement already satisfied: sympy in /usr/local/lib/python3.10/dist-packages (from torch) (1.12.1)\n",
            "Requirement already satisfied: networkx in /usr/local/lib/python3.10/dist-packages (from torch) (3.3)\n",
            "Requirement already satisfied: jinja2 in /usr/local/lib/python3.10/dist-packages (from torch) (3.1.4)\n",
            "Requirement already satisfied: fsspec in /usr/local/lib/python3.10/dist-packages (from torch) (2023.6.0)\n",
            "Collecting nvidia-cuda-nvrtc-cu12==12.1.105 (from torch)\n",
            "  Using cached nvidia_cuda_nvrtc_cu12-12.1.105-py3-none-manylinux1_x86_64.whl (23.7 MB)\n",
            "Collecting nvidia-cuda-runtime-cu12==12.1.105 (from torch)\n",
            "  Using cached nvidia_cuda_runtime_cu12-12.1.105-py3-none-manylinux1_x86_64.whl (823 kB)\n",
            "Collecting nvidia-cuda-cupti-cu12==12.1.105 (from torch)\n",
            "  Using cached nvidia_cuda_cupti_cu12-12.1.105-py3-none-manylinux1_x86_64.whl (14.1 MB)\n",
            "Collecting nvidia-cudnn-cu12==8.9.2.26 (from torch)\n",
            "  Using cached nvidia_cudnn_cu12-8.9.2.26-py3-none-manylinux1_x86_64.whl (731.7 MB)\n",
            "Collecting nvidia-cublas-cu12==12.1.3.1 (from torch)\n",
            "  Using cached nvidia_cublas_cu12-12.1.3.1-py3-none-manylinux1_x86_64.whl (410.6 MB)\n",
            "Collecting nvidia-cufft-cu12==11.0.2.54 (from torch)\n",
            "  Using cached nvidia_cufft_cu12-11.0.2.54-py3-none-manylinux1_x86_64.whl (121.6 MB)\n",
            "Collecting nvidia-curand-cu12==10.3.2.106 (from torch)\n",
            "  Using cached nvidia_curand_cu12-10.3.2.106-py3-none-manylinux1_x86_64.whl (56.5 MB)\n",
            "Collecting nvidia-cusolver-cu12==11.4.5.107 (from torch)\n",
            "  Using cached nvidia_cusolver_cu12-11.4.5.107-py3-none-manylinux1_x86_64.whl (124.2 MB)\n",
            "Collecting nvidia-cusparse-cu12==12.1.0.106 (from torch)\n",
            "  Using cached nvidia_cusparse_cu12-12.1.0.106-py3-none-manylinux1_x86_64.whl (196.0 MB)\n",
            "Collecting nvidia-nccl-cu12==2.20.5 (from torch)\n",
            "  Using cached nvidia_nccl_cu12-2.20.5-py3-none-manylinux2014_x86_64.whl (176.2 MB)\n",
            "Collecting nvidia-nvtx-cu12==12.1.105 (from torch)\n",
            "  Using cached nvidia_nvtx_cu12-12.1.105-py3-none-manylinux1_x86_64.whl (99 kB)\n",
            "Requirement already satisfied: triton==2.3.0 in /usr/local/lib/python3.10/dist-packages (from torch) (2.3.0)\n",
            "Collecting nvidia-nvjitlink-cu12 (from nvidia-cusolver-cu12==11.4.5.107->torch)\n",
            "  Downloading nvidia_nvjitlink_cu12-12.5.40-py3-none-manylinux2014_x86_64.whl (21.3 MB)\n",
            "\u001b[2K     \u001b[90m━━━━━━━━━━━━━━━━━━━━━━━━━━━━━━━━━━━━━━━━\u001b[0m \u001b[32m21.3/21.3 MB\u001b[0m \u001b[31m50.5 MB/s\u001b[0m eta \u001b[36m0:00:00\u001b[0m\n",
            "\u001b[?25hRequirement already satisfied: numpy in /usr/local/lib/python3.10/dist-packages (from torchvision) (1.25.2)\n",
            "Requirement already satisfied: pillow!=8.3.*,>=5.3.0 in /usr/local/lib/python3.10/dist-packages (from torchvision) (9.4.0)\n",
            "Requirement already satisfied: MarkupSafe>=2.0 in /usr/local/lib/python3.10/dist-packages (from jinja2->torch) (2.1.5)\n",
            "Requirement already satisfied: mpmath<1.4.0,>=1.1.0 in /usr/local/lib/python3.10/dist-packages (from sympy->torch) (1.3.0)\n",
            "Installing collected packages: nvidia-nvtx-cu12, nvidia-nvjitlink-cu12, nvidia-nccl-cu12, nvidia-curand-cu12, nvidia-cufft-cu12, nvidia-cuda-runtime-cu12, nvidia-cuda-nvrtc-cu12, nvidia-cuda-cupti-cu12, nvidia-cublas-cu12, nvidia-cusparse-cu12, nvidia-cudnn-cu12, nvidia-cusolver-cu12\n",
            "Successfully installed nvidia-cublas-cu12-12.1.3.1 nvidia-cuda-cupti-cu12-12.1.105 nvidia-cuda-nvrtc-cu12-12.1.105 nvidia-cuda-runtime-cu12-12.1.105 nvidia-cudnn-cu12-8.9.2.26 nvidia-cufft-cu12-11.0.2.54 nvidia-curand-cu12-10.3.2.106 nvidia-cusolver-cu12-11.4.5.107 nvidia-cusparse-cu12-12.1.0.106 nvidia-nccl-cu12-2.20.5 nvidia-nvjitlink-cu12-12.5.40 nvidia-nvtx-cu12-12.1.105\n",
            "Requirement already satisfied: fastai in /usr/local/lib/python3.10/dist-packages (2.7.15)\n",
            "Requirement already satisfied: pip in /usr/local/lib/python3.10/dist-packages (from fastai) (23.1.2)\n",
            "Requirement already satisfied: packaging in /usr/local/lib/python3.10/dist-packages (from fastai) (24.0)\n",
            "Requirement already satisfied: fastdownload<2,>=0.0.5 in /usr/local/lib/python3.10/dist-packages (from fastai) (0.0.7)\n",
            "Requirement already satisfied: fastcore<1.6,>=1.5.29 in /usr/local/lib/python3.10/dist-packages (from fastai) (1.5.43)\n",
            "Requirement already satisfied: torchvision>=0.11 in /usr/local/lib/python3.10/dist-packages (from fastai) (0.18.0+cu121)\n",
            "Requirement already satisfied: matplotlib in /usr/local/lib/python3.10/dist-packages (from fastai) (3.7.1)\n",
            "Requirement already satisfied: pandas in /usr/local/lib/python3.10/dist-packages (from fastai) (2.0.3)\n",
            "Requirement already satisfied: requests in /usr/local/lib/python3.10/dist-packages (from fastai) (2.31.0)\n",
            "Requirement already satisfied: pyyaml in /usr/local/lib/python3.10/dist-packages (from fastai) (6.0.1)\n",
            "Requirement already satisfied: fastprogress>=0.2.4 in /usr/local/lib/python3.10/dist-packages (from fastai) (1.0.3)\n",
            "Requirement already satisfied: pillow>=9.0.0 in /usr/local/lib/python3.10/dist-packages (from fastai) (9.4.0)\n",
            "Requirement already satisfied: scikit-learn in /usr/local/lib/python3.10/dist-packages (from fastai) (1.2.2)\n",
            "Requirement already satisfied: scipy in /usr/local/lib/python3.10/dist-packages (from fastai) (1.11.4)\n",
            "Requirement already satisfied: spacy<4 in /usr/local/lib/python3.10/dist-packages (from fastai) (3.7.4)\n",
            "Requirement already satisfied: torch<2.4,>=1.10 in /usr/local/lib/python3.10/dist-packages (from fastai) (2.3.0+cu121)\n",
            "Requirement already satisfied: spacy-legacy<3.1.0,>=3.0.11 in /usr/local/lib/python3.10/dist-packages (from spacy<4->fastai) (3.0.12)\n",
            "Requirement already satisfied: spacy-loggers<2.0.0,>=1.0.0 in /usr/local/lib/python3.10/dist-packages (from spacy<4->fastai) (1.0.5)\n",
            "Requirement already satisfied: murmurhash<1.1.0,>=0.28.0 in /usr/local/lib/python3.10/dist-packages (from spacy<4->fastai) (1.0.10)\n",
            "Requirement already satisfied: cymem<2.1.0,>=2.0.2 in /usr/local/lib/python3.10/dist-packages (from spacy<4->fastai) (2.0.8)\n",
            "Requirement already satisfied: preshed<3.1.0,>=3.0.2 in /usr/local/lib/python3.10/dist-packages (from spacy<4->fastai) (3.0.9)\n",
            "Requirement already satisfied: thinc<8.3.0,>=8.2.2 in /usr/local/lib/python3.10/dist-packages (from spacy<4->fastai) (8.2.3)\n",
            "Requirement already satisfied: wasabi<1.2.0,>=0.9.1 in /usr/local/lib/python3.10/dist-packages (from spacy<4->fastai) (1.1.3)\n",
            "Requirement already satisfied: srsly<3.0.0,>=2.4.3 in /usr/local/lib/python3.10/dist-packages (from spacy<4->fastai) (2.4.8)\n",
            "Requirement already satisfied: catalogue<2.1.0,>=2.0.6 in /usr/local/lib/python3.10/dist-packages (from spacy<4->fastai) (2.0.10)\n",
            "Requirement already satisfied: weasel<0.4.0,>=0.1.0 in /usr/local/lib/python3.10/dist-packages (from spacy<4->fastai) (0.3.4)\n",
            "Requirement already satisfied: typer<0.10.0,>=0.3.0 in /usr/local/lib/python3.10/dist-packages (from spacy<4->fastai) (0.9.4)\n",
            "Requirement already satisfied: smart-open<7.0.0,>=5.2.1 in /usr/local/lib/python3.10/dist-packages (from spacy<4->fastai) (6.4.0)\n",
            "Requirement already satisfied: tqdm<5.0.0,>=4.38.0 in /usr/local/lib/python3.10/dist-packages (from spacy<4->fastai) (4.66.4)\n",
            "Requirement already satisfied: pydantic!=1.8,!=1.8.1,<3.0.0,>=1.7.4 in /usr/local/lib/python3.10/dist-packages (from spacy<4->fastai) (2.7.3)\n",
            "Requirement already satisfied: jinja2 in /usr/local/lib/python3.10/dist-packages (from spacy<4->fastai) (3.1.4)\n",
            "Requirement already satisfied: setuptools in /usr/local/lib/python3.10/dist-packages (from spacy<4->fastai) (67.7.2)\n",
            "Requirement already satisfied: langcodes<4.0.0,>=3.2.0 in /usr/local/lib/python3.10/dist-packages (from spacy<4->fastai) (3.4.0)\n",
            "Requirement already satisfied: numpy>=1.19.0 in /usr/local/lib/python3.10/dist-packages (from spacy<4->fastai) (1.25.2)\n",
            "Requirement already satisfied: charset-normalizer<4,>=2 in /usr/local/lib/python3.10/dist-packages (from requests->fastai) (3.3.2)\n",
            "Requirement already satisfied: idna<4,>=2.5 in /usr/local/lib/python3.10/dist-packages (from requests->fastai) (3.7)\n",
            "Requirement already satisfied: urllib3<3,>=1.21.1 in /usr/local/lib/python3.10/dist-packages (from requests->fastai) (2.0.7)\n",
            "Requirement already satisfied: certifi>=2017.4.17 in /usr/local/lib/python3.10/dist-packages (from requests->fastai) (2024.6.2)\n",
            "Requirement already satisfied: filelock in /usr/local/lib/python3.10/dist-packages (from torch<2.4,>=1.10->fastai) (3.14.0)\n",
            "Requirement already satisfied: typing-extensions>=4.8.0 in /usr/local/lib/python3.10/dist-packages (from torch<2.4,>=1.10->fastai) (4.12.1)\n",
            "Requirement already satisfied: sympy in /usr/local/lib/python3.10/dist-packages (from torch<2.4,>=1.10->fastai) (1.12.1)\n",
            "Requirement already satisfied: networkx in /usr/local/lib/python3.10/dist-packages (from torch<2.4,>=1.10->fastai) (3.3)\n",
            "Requirement already satisfied: fsspec in /usr/local/lib/python3.10/dist-packages (from torch<2.4,>=1.10->fastai) (2023.6.0)\n",
            "Requirement already satisfied: nvidia-cuda-nvrtc-cu12==12.1.105 in /usr/local/lib/python3.10/dist-packages (from torch<2.4,>=1.10->fastai) (12.1.105)\n",
            "Requirement already satisfied: nvidia-cuda-runtime-cu12==12.1.105 in /usr/local/lib/python3.10/dist-packages (from torch<2.4,>=1.10->fastai) (12.1.105)\n",
            "Requirement already satisfied: nvidia-cuda-cupti-cu12==12.1.105 in /usr/local/lib/python3.10/dist-packages (from torch<2.4,>=1.10->fastai) (12.1.105)\n",
            "Requirement already satisfied: nvidia-cudnn-cu12==8.9.2.26 in /usr/local/lib/python3.10/dist-packages (from torch<2.4,>=1.10->fastai) (8.9.2.26)\n",
            "Requirement already satisfied: nvidia-cublas-cu12==12.1.3.1 in /usr/local/lib/python3.10/dist-packages (from torch<2.4,>=1.10->fastai) (12.1.3.1)\n",
            "Requirement already satisfied: nvidia-cufft-cu12==11.0.2.54 in /usr/local/lib/python3.10/dist-packages (from torch<2.4,>=1.10->fastai) (11.0.2.54)\n",
            "Requirement already satisfied: nvidia-curand-cu12==10.3.2.106 in /usr/local/lib/python3.10/dist-packages (from torch<2.4,>=1.10->fastai) (10.3.2.106)\n",
            "Requirement already satisfied: nvidia-cusolver-cu12==11.4.5.107 in /usr/local/lib/python3.10/dist-packages (from torch<2.4,>=1.10->fastai) (11.4.5.107)\n",
            "Requirement already satisfied: nvidia-cusparse-cu12==12.1.0.106 in /usr/local/lib/python3.10/dist-packages (from torch<2.4,>=1.10->fastai) (12.1.0.106)\n",
            "Requirement already satisfied: nvidia-nccl-cu12==2.20.5 in /usr/local/lib/python3.10/dist-packages (from torch<2.4,>=1.10->fastai) (2.20.5)\n",
            "Requirement already satisfied: nvidia-nvtx-cu12==12.1.105 in /usr/local/lib/python3.10/dist-packages (from torch<2.4,>=1.10->fastai) (12.1.105)\n",
            "Requirement already satisfied: triton==2.3.0 in /usr/local/lib/python3.10/dist-packages (from torch<2.4,>=1.10->fastai) (2.3.0)\n",
            "Requirement already satisfied: nvidia-nvjitlink-cu12 in /usr/local/lib/python3.10/dist-packages (from nvidia-cusolver-cu12==11.4.5.107->torch<2.4,>=1.10->fastai) (12.5.40)\n",
            "Requirement already satisfied: contourpy>=1.0.1 in /usr/local/lib/python3.10/dist-packages (from matplotlib->fastai) (1.2.1)\n",
            "Requirement already satisfied: cycler>=0.10 in /usr/local/lib/python3.10/dist-packages (from matplotlib->fastai) (0.12.1)\n",
            "Requirement already satisfied: fonttools>=4.22.0 in /usr/local/lib/python3.10/dist-packages (from matplotlib->fastai) (4.53.0)\n",
            "Requirement already satisfied: kiwisolver>=1.0.1 in /usr/local/lib/python3.10/dist-packages (from matplotlib->fastai) (1.4.5)\n",
            "Requirement already satisfied: pyparsing>=2.3.1 in /usr/local/lib/python3.10/dist-packages (from matplotlib->fastai) (3.1.2)\n",
            "Requirement already satisfied: python-dateutil>=2.7 in /usr/local/lib/python3.10/dist-packages (from matplotlib->fastai) (2.8.2)\n",
            "Requirement already satisfied: pytz>=2020.1 in /usr/local/lib/python3.10/dist-packages (from pandas->fastai) (2023.4)\n",
            "Requirement already satisfied: tzdata>=2022.1 in /usr/local/lib/python3.10/dist-packages (from pandas->fastai) (2024.1)\n",
            "Requirement already satisfied: joblib>=1.1.1 in /usr/local/lib/python3.10/dist-packages (from scikit-learn->fastai) (1.4.2)\n",
            "Requirement already satisfied: threadpoolctl>=2.0.0 in /usr/local/lib/python3.10/dist-packages (from scikit-learn->fastai) (3.5.0)\n",
            "Requirement already satisfied: language-data>=1.2 in /usr/local/lib/python3.10/dist-packages (from langcodes<4.0.0,>=3.2.0->spacy<4->fastai) (1.2.0)\n",
            "Requirement already satisfied: annotated-types>=0.4.0 in /usr/local/lib/python3.10/dist-packages (from pydantic!=1.8,!=1.8.1,<3.0.0,>=1.7.4->spacy<4->fastai) (0.7.0)\n",
            "Requirement already satisfied: pydantic-core==2.18.4 in /usr/local/lib/python3.10/dist-packages (from pydantic!=1.8,!=1.8.1,<3.0.0,>=1.7.4->spacy<4->fastai) (2.18.4)\n",
            "Requirement already satisfied: six>=1.5 in /usr/local/lib/python3.10/dist-packages (from python-dateutil>=2.7->matplotlib->fastai) (1.16.0)\n",
            "Requirement already satisfied: blis<0.8.0,>=0.7.8 in /usr/local/lib/python3.10/dist-packages (from thinc<8.3.0,>=8.2.2->spacy<4->fastai) (0.7.11)\n",
            "Requirement already satisfied: confection<1.0.0,>=0.0.1 in /usr/local/lib/python3.10/dist-packages (from thinc<8.3.0,>=8.2.2->spacy<4->fastai) (0.1.5)\n",
            "Requirement already satisfied: click<9.0.0,>=7.1.1 in /usr/local/lib/python3.10/dist-packages (from typer<0.10.0,>=0.3.0->spacy<4->fastai) (8.1.7)\n",
            "Requirement already satisfied: cloudpathlib<0.17.0,>=0.7.0 in /usr/local/lib/python3.10/dist-packages (from weasel<0.4.0,>=0.1.0->spacy<4->fastai) (0.16.0)\n",
            "Requirement already satisfied: MarkupSafe>=2.0 in /usr/local/lib/python3.10/dist-packages (from jinja2->spacy<4->fastai) (2.1.5)\n",
            "Requirement already satisfied: mpmath<1.4.0,>=1.1.0 in /usr/local/lib/python3.10/dist-packages (from sympy->torch<2.4,>=1.10->fastai) (1.3.0)\n",
            "Requirement already satisfied: marisa-trie>=0.7.7 in /usr/local/lib/python3.10/dist-packages (from language-data>=1.2->langcodes<4.0.0,>=3.2.0->spacy<4->fastai) (1.1.1)\n"
          ]
        }
      ],
      "source": [
        "!pip install torch torchvision\n",
        "!pip install fastai"
      ]
    },
    {
      "cell_type": "code",
      "execution_count": null,
      "metadata": {
        "id": "SA87AbrrBigr"
      },
      "outputs": [],
      "source": [
        "# import libraries\n",
        "import torch\n",
        "import fastai\n",
        "from fastai.text.all import *\n",
        "import pandas as pd\n",
        "import numpy as np\n",
        "from functools import partial\n",
        "import io\n",
        "import os\n",
        "from sklearn.model_selection import train_test_split"
      ]
    },
    {
      "cell_type": "code",
      "execution_count": null,
      "metadata": {
        "colab": {
          "base_uri": "https://localhost:8080/",
          "height": 35
        },
        "id": "pzYMlnbd-wKz",
        "outputId": "4e19b9c8-06f3-4a03-998d-76b70efd6f71"
      },
      "outputs": [
        {
          "output_type": "execute_result",
          "data": {
            "text/plain": [
              "'2.7.15'"
            ],
            "application/vnd.google.colaboratory.intrinsic+json": {
              "type": "string"
            }
          },
          "metadata": {},
          "execution_count": 3
        }
      ],
      "source": [
        "fastai.__version__"
      ]
    },
    {
      "cell_type": "code",
      "execution_count": null,
      "metadata": {
        "id": "r9SHCfiABlcF"
      },
      "outputs": [],
      "source": [
        "#data to be used\n",
        "train = pd.read_csv(\"/content/Train.csv\")\n",
        "test = pd.read_csv(\"/content/Test.csv\")\n",
        "ss = pd.read_csv(\"/content/SampleSubmission.csv\")\n"
      ]
    },
    {
      "cell_type": "code",
      "execution_count": null,
      "metadata": {
        "id": "Xvs8MygLEKri",
        "colab": {
          "base_uri": "https://localhost:8080/",
          "height": 553
        },
        "outputId": "d02b1061-9508-49f8-a401-55f32c38a61b"
      },
      "outputs": [
        {
          "output_type": "execute_result",
          "data": {
            "text/plain": [
              "       id  \\\n",
              "0     SW0   \n",
              "1     SW1   \n",
              "2    SW10   \n",
              "3   SW100   \n",
              "4  SW1000   \n",
              "\n",
              "                                                                                                                                                                                                                                                                                                                                                                                                                                                                                                                                                                                                                   content  \\\n",
              "0   SERIKALI imesema haitakuwa tayari kuona amani na utulivu wa nchi inachezewa huku ikisisitiza uwepo wa umoja kati ya wananchi bila kujali tofauti ya imani, kabila au itikadi yoyote.Hayo yalisemwa na Naibu Waziri wa Mambo ya Ndani ya Nchi, Hamad Yussuf Masauni wakati akifungua semina ya siku mbili iliyofanyika jijini Dar es Salaam ikiwahusisha viongozi wa taasisi za Kiislamu, lengo ikiwa ni kuwakumbusha kuhubiri amani katika sehemu zao.Naibu Waziri amesema mwelekeo na malengo ya Serikali ya Awamu ya Tano ni kukuza maendeleo katika sehemu mbalimbali nchini lengo ikiwa kuinua maisha ya wananc...   \n",
              "1   Mkuu wa Mkoa wa Tabora, Aggrey Mwanri amesitisha likizo za viongozi wote mkoani humo kutekeleza maazimio ya Jukwaa la Fursa za Biashara la mkoa huo.Mwanri ameagiza kuwa, hata kama kuna likizo zimeidhinishwa zifutwe.Amemuagiza Katibu Tawala wa Mkoa huo, Msalika Makungu kuandika barua kwa viongozi kuhusu uamuzi huo na amebainisha kuwa hakushauriwa na mtu, kaamua yeye.“Anayebisha anyooshe mkono, ajifanye angalau anajikuna tu” amesema Mwanri kwenye jukwaa hilo la nane lililomalizika leo.Amewaeleza viongozi wa Tabora kuwa, mambo waliyopanga kuyafanya wakati wa likizo nje ya Tabora wanaweza kuy...   \n",
              "2   SERIKALI imetoa miezi sita kwa taasisi zote za umma ambazo hazitumii mfumo wa GePG katika ukusanyaji wa fedha kufanya hivyo na baada ya hapo itafanya ukaguzi na kuwawajibisha maofi sa masuhuli walioshindwa kutekeleza hilo.Akifungua mkutano wa mwaka wa kwanza wa watumiaji wa mfumo huo jana jijini hapa, Naibu Katibu Mkuu Wizara ya Fedha na Mipango, Dk Hartibu Kazungu alisema ukaguzi huo ambao utaanza kufanyika Juni mwakani baada ya kipindi kilichowekwa kupita ili kuwabaini maofisa wazembe.Alisema, wizara yake itafanya ukaguzi wa ofisi zote za umma ili kubaini kama kuna fedha zinazokusanywa ...   \n",
              "3   KAMPUNI ya mchezo wa kubahatisha ya M-bet imeingia makubaliano ya udhamini na timu ya soka ya Manispaa ya Kinondoni (KMC) kwa miaka mitano wenye thamani ya sh Bilioni 1.Akizungumzia udhamini huo jana baada ya kusaini mkataba huo, Meneja Masoko wa Mbet, Allen Mushi alisema sababu ya kuiunga mkono timu hiyo ni baada ya kuvutiwa na kiwango bora walichokionesha timu hiyo tangu msimu uliopita. Alisema kitendo cha kumaliza ligi katika nafasi ya nne bora sio cha mchezo na kwamba hata wanapokuwa uwanjani hucheza soka la kuvutia tofauti na wengine.“Tumeichagua KMC kwasababu tumevutiwa na mambo men...   \n",
              "4   WATANZANIA wamekumbushwa kusherehekea sikukuu ya Krismasi kwa kuenzi amani, umoja na kulinda tamaduni za nchi ili kupambana na changamoto mbalimbali zinazojitokeza, ikiwemo vitendo vya ushoga na matumizi ya dawa za kulevya.Akizungumza wakati wa kutoa heri ya sikukuu hiyo ya Kuzaliwa Yesu Kristo, Kiongozi wa Waislamu wa madhehebu ya Shia Ithnasheriya, Shehe Hemed Jalala alisema kuzaliwa kwa Yesu kunalenga kuhubiri na kutangaza amani ulimwenguni. Shehe Jalala alisema licha ya Wayahudi kutilia shaka kuzaliwa kwa Yesu, lakini pindi alipozaliwa alitangaza amani kwake na duniani kote akitaka ki...   \n",
              "\n",
              "   category  \n",
              "0   Kitaifa  \n",
              "1  Biashara  \n",
              "2   Kitaifa  \n",
              "3   michezo  \n",
              "4   Kitaifa  "
            ],
            "text/html": [
              "\n",
              "  <div id=\"df-435ac243-5872-42b4-b396-2b389d066c39\" class=\"colab-df-container\">\n",
              "    <div>\n",
              "<style scoped>\n",
              "    .dataframe tbody tr th:only-of-type {\n",
              "        vertical-align: middle;\n",
              "    }\n",
              "\n",
              "    .dataframe tbody tr th {\n",
              "        vertical-align: top;\n",
              "    }\n",
              "\n",
              "    .dataframe thead th {\n",
              "        text-align: right;\n",
              "    }\n",
              "</style>\n",
              "<table border=\"1\" class=\"dataframe\">\n",
              "  <thead>\n",
              "    <tr style=\"text-align: right;\">\n",
              "      <th></th>\n",
              "      <th>id</th>\n",
              "      <th>content</th>\n",
              "      <th>category</th>\n",
              "    </tr>\n",
              "  </thead>\n",
              "  <tbody>\n",
              "    <tr>\n",
              "      <th>0</th>\n",
              "      <td>SW0</td>\n",
              "      <td>SERIKALI imesema haitakuwa tayari kuona amani na utulivu wa nchi inachezewa huku ikisisitiza uwepo wa umoja kati ya wananchi bila kujali tofauti ya imani, kabila au itikadi yoyote.Hayo yalisemwa na Naibu Waziri wa Mambo ya Ndani ya Nchi, Hamad Yussuf Masauni wakati akifungua semina ya siku mbili iliyofanyika jijini Dar es Salaam ikiwahusisha viongozi wa taasisi za Kiislamu, lengo ikiwa ni kuwakumbusha kuhubiri amani katika sehemu zao.Naibu Waziri amesema mwelekeo na malengo ya Serikali ya Awamu ya Tano ni kukuza maendeleo katika sehemu mbalimbali nchini lengo ikiwa kuinua maisha ya wananc...</td>\n",
              "      <td>Kitaifa</td>\n",
              "    </tr>\n",
              "    <tr>\n",
              "      <th>1</th>\n",
              "      <td>SW1</td>\n",
              "      <td>Mkuu wa Mkoa wa Tabora, Aggrey Mwanri amesitisha likizo za viongozi wote mkoani humo kutekeleza maazimio ya Jukwaa la Fursa za Biashara la mkoa huo.Mwanri ameagiza kuwa, hata kama kuna likizo zimeidhinishwa zifutwe.Amemuagiza Katibu Tawala wa Mkoa huo, Msalika Makungu kuandika barua kwa viongozi kuhusu uamuzi huo na amebainisha kuwa hakushauriwa na mtu, kaamua yeye.“Anayebisha anyooshe mkono, ajifanye angalau anajikuna tu” amesema Mwanri kwenye jukwaa hilo la nane lililomalizika leo.Amewaeleza viongozi wa Tabora kuwa, mambo waliyopanga kuyafanya wakati wa likizo nje ya Tabora wanaweza kuy...</td>\n",
              "      <td>Biashara</td>\n",
              "    </tr>\n",
              "    <tr>\n",
              "      <th>2</th>\n",
              "      <td>SW10</td>\n",
              "      <td>SERIKALI imetoa miezi sita kwa taasisi zote za umma ambazo hazitumii mfumo wa GePG katika ukusanyaji wa fedha kufanya hivyo na baada ya hapo itafanya ukaguzi na kuwawajibisha maofi sa masuhuli walioshindwa kutekeleza hilo.Akifungua mkutano wa mwaka wa kwanza wa watumiaji wa mfumo huo jana jijini hapa, Naibu Katibu Mkuu Wizara ya Fedha na Mipango, Dk Hartibu Kazungu alisema ukaguzi huo ambao utaanza kufanyika Juni mwakani baada ya kipindi kilichowekwa kupita ili kuwabaini maofisa wazembe.Alisema, wizara yake itafanya ukaguzi wa ofisi zote za umma ili kubaini kama kuna fedha zinazokusanywa ...</td>\n",
              "      <td>Kitaifa</td>\n",
              "    </tr>\n",
              "    <tr>\n",
              "      <th>3</th>\n",
              "      <td>SW100</td>\n",
              "      <td>KAMPUNI ya mchezo wa kubahatisha ya M-bet imeingia makubaliano ya udhamini na timu ya soka ya Manispaa ya Kinondoni (KMC) kwa miaka mitano wenye thamani ya sh Bilioni 1.Akizungumzia udhamini huo jana baada ya kusaini mkataba huo, Meneja Masoko wa Mbet, Allen Mushi alisema sababu ya kuiunga mkono timu hiyo ni baada ya kuvutiwa na kiwango bora walichokionesha timu hiyo tangu msimu uliopita. Alisema kitendo cha kumaliza ligi katika nafasi ya nne bora sio cha mchezo na kwamba hata wanapokuwa uwanjani hucheza soka la kuvutia tofauti na wengine.“Tumeichagua KMC kwasababu tumevutiwa na mambo men...</td>\n",
              "      <td>michezo</td>\n",
              "    </tr>\n",
              "    <tr>\n",
              "      <th>4</th>\n",
              "      <td>SW1000</td>\n",
              "      <td>WATANZANIA wamekumbushwa kusherehekea sikukuu ya Krismasi kwa kuenzi amani, umoja na kulinda tamaduni za nchi ili kupambana na changamoto mbalimbali zinazojitokeza, ikiwemo vitendo vya ushoga na matumizi ya dawa za kulevya.Akizungumza wakati wa kutoa heri ya sikukuu hiyo ya Kuzaliwa Yesu Kristo, Kiongozi wa Waislamu wa madhehebu ya Shia Ithnasheriya, Shehe Hemed Jalala alisema kuzaliwa kwa Yesu kunalenga kuhubiri na kutangaza amani ulimwenguni. Shehe Jalala alisema licha ya Wayahudi kutilia shaka kuzaliwa kwa Yesu, lakini pindi alipozaliwa alitangaza amani kwake na duniani kote akitaka ki...</td>\n",
              "      <td>Kitaifa</td>\n",
              "    </tr>\n",
              "  </tbody>\n",
              "</table>\n",
              "</div>\n",
              "    <div class=\"colab-df-buttons\">\n",
              "\n",
              "  <div class=\"colab-df-container\">\n",
              "    <button class=\"colab-df-convert\" onclick=\"convertToInteractive('df-435ac243-5872-42b4-b396-2b389d066c39')\"\n",
              "            title=\"Convert this dataframe to an interactive table.\"\n",
              "            style=\"display:none;\">\n",
              "\n",
              "  <svg xmlns=\"http://www.w3.org/2000/svg\" height=\"24px\" viewBox=\"0 -960 960 960\">\n",
              "    <path d=\"M120-120v-720h720v720H120Zm60-500h600v-160H180v160Zm220 220h160v-160H400v160Zm0 220h160v-160H400v160ZM180-400h160v-160H180v160Zm440 0h160v-160H620v160ZM180-180h160v-160H180v160Zm440 0h160v-160H620v160Z\"/>\n",
              "  </svg>\n",
              "    </button>\n",
              "\n",
              "  <style>\n",
              "    .colab-df-container {\n",
              "      display:flex;\n",
              "      gap: 12px;\n",
              "    }\n",
              "\n",
              "    .colab-df-convert {\n",
              "      background-color: #E8F0FE;\n",
              "      border: none;\n",
              "      border-radius: 50%;\n",
              "      cursor: pointer;\n",
              "      display: none;\n",
              "      fill: #1967D2;\n",
              "      height: 32px;\n",
              "      padding: 0 0 0 0;\n",
              "      width: 32px;\n",
              "    }\n",
              "\n",
              "    .colab-df-convert:hover {\n",
              "      background-color: #E2EBFA;\n",
              "      box-shadow: 0px 1px 2px rgba(60, 64, 67, 0.3), 0px 1px 3px 1px rgba(60, 64, 67, 0.15);\n",
              "      fill: #174EA6;\n",
              "    }\n",
              "\n",
              "    .colab-df-buttons div {\n",
              "      margin-bottom: 4px;\n",
              "    }\n",
              "\n",
              "    [theme=dark] .colab-df-convert {\n",
              "      background-color: #3B4455;\n",
              "      fill: #D2E3FC;\n",
              "    }\n",
              "\n",
              "    [theme=dark] .colab-df-convert:hover {\n",
              "      background-color: #434B5C;\n",
              "      box-shadow: 0px 1px 3px 1px rgba(0, 0, 0, 0.15);\n",
              "      filter: drop-shadow(0px 1px 2px rgba(0, 0, 0, 0.3));\n",
              "      fill: #FFFFFF;\n",
              "    }\n",
              "  </style>\n",
              "\n",
              "    <script>\n",
              "      const buttonEl =\n",
              "        document.querySelector('#df-435ac243-5872-42b4-b396-2b389d066c39 button.colab-df-convert');\n",
              "      buttonEl.style.display =\n",
              "        google.colab.kernel.accessAllowed ? 'block' : 'none';\n",
              "\n",
              "      async function convertToInteractive(key) {\n",
              "        const element = document.querySelector('#df-435ac243-5872-42b4-b396-2b389d066c39');\n",
              "        const dataTable =\n",
              "          await google.colab.kernel.invokeFunction('convertToInteractive',\n",
              "                                                    [key], {});\n",
              "        if (!dataTable) return;\n",
              "\n",
              "        const docLinkHtml = 'Like what you see? Visit the ' +\n",
              "          '<a target=\"_blank\" href=https://colab.research.google.com/notebooks/data_table.ipynb>data table notebook</a>'\n",
              "          + ' to learn more about interactive tables.';\n",
              "        element.innerHTML = '';\n",
              "        dataTable['output_type'] = 'display_data';\n",
              "        await google.colab.output.renderOutput(dataTable, element);\n",
              "        const docLink = document.createElement('div');\n",
              "        docLink.innerHTML = docLinkHtml;\n",
              "        element.appendChild(docLink);\n",
              "      }\n",
              "    </script>\n",
              "  </div>\n",
              "\n",
              "\n",
              "<div id=\"df-1d8cde80-56fd-4ad8-a34b-dd2639e4f9c0\">\n",
              "  <button class=\"colab-df-quickchart\" onclick=\"quickchart('df-1d8cde80-56fd-4ad8-a34b-dd2639e4f9c0')\"\n",
              "            title=\"Suggest charts\"\n",
              "            style=\"display:none;\">\n",
              "\n",
              "<svg xmlns=\"http://www.w3.org/2000/svg\" height=\"24px\"viewBox=\"0 0 24 24\"\n",
              "     width=\"24px\">\n",
              "    <g>\n",
              "        <path d=\"M19 3H5c-1.1 0-2 .9-2 2v14c0 1.1.9 2 2 2h14c1.1 0 2-.9 2-2V5c0-1.1-.9-2-2-2zM9 17H7v-7h2v7zm4 0h-2V7h2v10zm4 0h-2v-4h2v4z\"/>\n",
              "    </g>\n",
              "</svg>\n",
              "  </button>\n",
              "\n",
              "<style>\n",
              "  .colab-df-quickchart {\n",
              "      --bg-color: #E8F0FE;\n",
              "      --fill-color: #1967D2;\n",
              "      --hover-bg-color: #E2EBFA;\n",
              "      --hover-fill-color: #174EA6;\n",
              "      --disabled-fill-color: #AAA;\n",
              "      --disabled-bg-color: #DDD;\n",
              "  }\n",
              "\n",
              "  [theme=dark] .colab-df-quickchart {\n",
              "      --bg-color: #3B4455;\n",
              "      --fill-color: #D2E3FC;\n",
              "      --hover-bg-color: #434B5C;\n",
              "      --hover-fill-color: #FFFFFF;\n",
              "      --disabled-bg-color: #3B4455;\n",
              "      --disabled-fill-color: #666;\n",
              "  }\n",
              "\n",
              "  .colab-df-quickchart {\n",
              "    background-color: var(--bg-color);\n",
              "    border: none;\n",
              "    border-radius: 50%;\n",
              "    cursor: pointer;\n",
              "    display: none;\n",
              "    fill: var(--fill-color);\n",
              "    height: 32px;\n",
              "    padding: 0;\n",
              "    width: 32px;\n",
              "  }\n",
              "\n",
              "  .colab-df-quickchart:hover {\n",
              "    background-color: var(--hover-bg-color);\n",
              "    box-shadow: 0 1px 2px rgba(60, 64, 67, 0.3), 0 1px 3px 1px rgba(60, 64, 67, 0.15);\n",
              "    fill: var(--button-hover-fill-color);\n",
              "  }\n",
              "\n",
              "  .colab-df-quickchart-complete:disabled,\n",
              "  .colab-df-quickchart-complete:disabled:hover {\n",
              "    background-color: var(--disabled-bg-color);\n",
              "    fill: var(--disabled-fill-color);\n",
              "    box-shadow: none;\n",
              "  }\n",
              "\n",
              "  .colab-df-spinner {\n",
              "    border: 2px solid var(--fill-color);\n",
              "    border-color: transparent;\n",
              "    border-bottom-color: var(--fill-color);\n",
              "    animation:\n",
              "      spin 1s steps(1) infinite;\n",
              "  }\n",
              "\n",
              "  @keyframes spin {\n",
              "    0% {\n",
              "      border-color: transparent;\n",
              "      border-bottom-color: var(--fill-color);\n",
              "      border-left-color: var(--fill-color);\n",
              "    }\n",
              "    20% {\n",
              "      border-color: transparent;\n",
              "      border-left-color: var(--fill-color);\n",
              "      border-top-color: var(--fill-color);\n",
              "    }\n",
              "    30% {\n",
              "      border-color: transparent;\n",
              "      border-left-color: var(--fill-color);\n",
              "      border-top-color: var(--fill-color);\n",
              "      border-right-color: var(--fill-color);\n",
              "    }\n",
              "    40% {\n",
              "      border-color: transparent;\n",
              "      border-right-color: var(--fill-color);\n",
              "      border-top-color: var(--fill-color);\n",
              "    }\n",
              "    60% {\n",
              "      border-color: transparent;\n",
              "      border-right-color: var(--fill-color);\n",
              "    }\n",
              "    80% {\n",
              "      border-color: transparent;\n",
              "      border-right-color: var(--fill-color);\n",
              "      border-bottom-color: var(--fill-color);\n",
              "    }\n",
              "    90% {\n",
              "      border-color: transparent;\n",
              "      border-bottom-color: var(--fill-color);\n",
              "    }\n",
              "  }\n",
              "</style>\n",
              "\n",
              "  <script>\n",
              "    async function quickchart(key) {\n",
              "      const quickchartButtonEl =\n",
              "        document.querySelector('#' + key + ' button');\n",
              "      quickchartButtonEl.disabled = true;  // To prevent multiple clicks.\n",
              "      quickchartButtonEl.classList.add('colab-df-spinner');\n",
              "      try {\n",
              "        const charts = await google.colab.kernel.invokeFunction(\n",
              "            'suggestCharts', [key], {});\n",
              "      } catch (error) {\n",
              "        console.error('Error during call to suggestCharts:', error);\n",
              "      }\n",
              "      quickchartButtonEl.classList.remove('colab-df-spinner');\n",
              "      quickchartButtonEl.classList.add('colab-df-quickchart-complete');\n",
              "    }\n",
              "    (() => {\n",
              "      let quickchartButtonEl =\n",
              "        document.querySelector('#df-1d8cde80-56fd-4ad8-a34b-dd2639e4f9c0 button');\n",
              "      quickchartButtonEl.style.display =\n",
              "        google.colab.kernel.accessAllowed ? 'block' : 'none';\n",
              "    })();\n",
              "  </script>\n",
              "</div>\n",
              "\n",
              "    </div>\n",
              "  </div>\n"
            ],
            "application/vnd.google.colaboratory.intrinsic+json": {
              "type": "dataframe",
              "variable_name": "train",
              "summary": "{\n  \"name\": \"train\",\n  \"rows\": 5151,\n  \"fields\": [\n    {\n      \"column\": \"id\",\n      \"properties\": {\n        \"dtype\": \"string\",\n        \"num_unique_values\": 5151,\n        \"samples\": [\n          \"SW3118\",\n          \"SW2594\",\n          \"SW4968\"\n        ],\n        \"semantic_type\": \"\",\n        \"description\": \"\"\n      }\n    },\n    {\n      \"column\": \"content\",\n      \"properties\": {\n        \"dtype\": \"string\",\n        \"num_unique_values\": 5151,\n        \"samples\": [\n          \" SERIKALI imeipongeza Kamati ya Mazungumzo iliyofanikisha kusainiwa kwa mkataba wa ujenzi wa mradi wa kuzalisha umeme wa Mto Rufi ji kwa wakati.Kamati hiyo yenye wajumbe takribani 19 na kuongozwa na Katibu Mkuu wa Wizara ya Ujenzi, Uchukuzi na Mawasiliano, Dk Leonard Chamuriho, iliundwa na Rais John Magufuli kwa kushirikiana na Wizara ya Nishati.Wakati akizungumza kwenye hafla ya utiaji saini wa mkataba huo juzi Ikulu jijini Dar es Salaam, Rais Magufuli aliipongeza kamati hiyo kwa kufanikisha mazungumzo hayo kati ya Tanzania na ujumbe wa kutoka Misri.Rais Magufuli alisema wakati mwingine alikuwa akipigiwa simu na kamati hiyo ya Dk Chamuriho saa nane usiku, lakini pia wakati mwingine wajumbe wa kamati walilazimika kufanya kazi usiku kucha kwa ajili ya kufanikisha mazungumzo hayo, ambayo yalisaidia kusainiwa kwa mkataba huo juzi.\\u201cDk Chamuriho hatoki Wizara ya Nishati, yeye ni Katibu Mkuu wa Wizara ya Ujenzi, Uchukuzi na Mawasiliano; ameiongoza Kamati hii vizuri kwenye mazungumzo na wenzetu wa Misri, lakini pia ndiye aliyeongoza Kamati za Mazungumzo za Mradi wa Reli ya Kisasa (SGR) na manunuzi ya ndege,\\u201d alieleza Rais Magufuli.Kutokana na utendaji huo mzuri wa kamati, Rais Magufuli aliendelea kuwataka Watanzania kushikamana katika kujenga uchumi wa nchi yao, hata kama wakati mwingine miradi kama hiyo inapigwa vita.Alisema Wamisri ni watu wanaojituma katika kuleta maendeleo ya taifa lao, kwa kuwa miradi mingi ya maendeleo nchini mwao imetekelezwa na wao wenyewe. Aliwataka Watanzania kufanya kazi kwa bidii, kwa kuwa endapo miradi kama hiyo inakwama, maana yake ni maendeleo ya Watanzania yamekwama.Kutokana na kazi nzuri iliyofanywa na Kamati hiyo iliyoongozwa na Dk Chamuriho, Rais Magufuli aliagiza wajumbe wote wa kamati hiyo ambao muda wao wa kustaafu ulikuwa umefika, wasistaafu, bali waendelee na kazi mpaka ujenzi wa mradi huo utakapokamilika katika kipindi cha miaka mitatu na nusu ijayo.Mbali ya Dk Chamuriho, wajumbe wengine ni Mkurugenzi Mtendaji wa Shirika la Umeme Tanzania (Tanesco), Dk Tito Mwinuka, wengine pia wanatoka Tanesco, Hazina, na wanasheria. Imeelezwa kuwa kukamilika kwa mradi huo, kutachochea ukuaji wa sekta ya viwanda, sekta ya usafirishaji hususani uendeshaji wa reli ya kisasa itakayotumia umeme na ukuaji wa uchumi.Jaji Mkuu wa Tanzania, Profesa Ibrahim Juma alisema kutekeleza ujenzi wa mradi huo, Serikali ya Awamu ya Tano chini ya Rais Magufuli, inatimiza ndoto ya Baba wa Taifa, Mwalimu Julius Nyerere.Alisema ndoto hiyo ya Mwalimu lazima iendelezwa na Watanzania wote. Lakini, pia alimpongeza Waziri wa Nishati, Dk Medard Kalemani kwa kuielewa ndoto hiyo vizuri kutokana na namna alivyouelezea mradi huo wa kuzalisha umeme wa Mto Rufiji, ambao utabadilisha maisha ya Watanzania utakapokamilika.\",\n          \" MAKUBALIANO ya kimataifa yakiwemo yanayotaka Serikali kutoa kipaumbele kwa sekta kadhaa kwa kutenga kiwango fulani katika bajeti, yamebainika ni vigumu kutekelezwa ipasavyo kutokana na uhaba wa fedha zinazopaswa kugawanywa.Serikali imekiri kuhusu hilo ikisema kazi inayotakiwa kufanyika, ni kujielekeza kuwezesha ukusanyaji na kupata mapato zaidi ili vipaumbele vya kisekta na kitaifa viwekwe vizuri; vinginevyo nchi ikitekeleza maazimio kama inavyotakiwa, baadhi ya sekta zinaweza kukosa fedha.Miongoni mwa makubaliano ambayo serikali kupitia kwa Waziri wa Fedha na Mipango, Dk Philip Mpango imekiri kwamba mbele ya safari inabidi kujipanga vizuri kabla ya kuyatekeleza, ni pamoja na Azimio la Sadc linalotaka serikali itenge asilimia 20 ya bajeti yote kwa ajili ya elimu.\\u201cHuko mbele tukifika, lazima tutapanga vizuri badala ya kusema tutatekeleza haya maazimio,\\u201d alisema Waziri Mpango wakati akijibu hoja za wabunge zinazohusu masuala ya fedha wakati wakichangia bajeti ya Wizara ya Elimu, Sayansi na Teknolojia iliyopitishwa hivi karibuni.Katika maoni, mapendekezo na ushauri wa wabunge 116 waliochangia bajeti hiyo, baadhi yao walitaka serikali kuheshimu makubaliano ya kimataifa ikiwamo azimio hilo la SADC.Ingawa Dk Mpango alikiri kuwa serikali inapaswa kuyaheshimu, alisema licha ya azimio hilo la kutaka itengwe asilimia 20 ya bajeti yote kwa ajili ya elimu, yapo mengine yanayoelekeza utengaji wa sehemu ya bajeti kwa ajili ya sekta kadhaa.\\u201cNi kweli; lakini yapo maazimio mengine ambayo Tanzania imekubali,\\u201d alisema Waziri Mpango na kutaja Azimio la Maputo sambamba na sekta na kiwango cha fedha kinachopaswa kutengwa kwenye bajeti.Kwa mujibu wa Dk Mpango, azimio hilo linataka serikali kutenga asilimia 10 ya bajeti yote kwa ajili ya kilimo; afya asilimia 15 ya bajeti yote; utafiti asilimia moja ya pato la taifa na asilimia 0.05 ya bajeti kwa ajili ya takwimu.\\u201cSasa kama maazimio yote haya yatatekelezwa, sekta tatu tu zitachukua asilimia 45 ya bajeti yote. Sasa kipi kitasalia kwa ajili ya miundombinu, ulinzi na usalama, maji na bajeti ya bunge?\\u201d alisema Waziri Mpango.Waziri alisema ni muhimu wabunge wakazingatia kwamba pia sekta nyingine ni muhimu kwa maendeleo ya elimu.Alitoa mfano wa bajeti ya ulinzi na usalama kwamba ni muhimu kwani vijana walioko shuleni watasoma wakiwa wamehakikishiwa ulinzi na usalama.Vivyo hivyo kwa upande wa bajeti ya afya, maji, miundombinu ya umeme na teknolojia ya habari na mawasiliano. \\u201cNi muhimu tuangalie mambo yote hayo, alisema na kusisitiza kwamba kikubwa ni ukubwa wa \\u2018keki\\u2019\\u201d.Alisema kazi inayotakiwa kufanyika ni kujielekeza kupata mapato zaidi ili vipaumbele vya kisekta na kitaifa viwekewe vizuri. Bunge linaendelea na mkutano wake wa bajeti jijini Dodoma ambako wizara kadhaa zimeshapitishiwa bajeti zake kwa mwaka 2019/20. Miongoni mwake ni Wizara ya Elimu, Sayansi na Teknolojia ambayo wabunge waliidhinisha na kupitisha bajeti ya Sh trilioni 1.3 kwa mwaka wa fedha 2019/20.Mwaka huu unaokaribia kumalizika (2018/19), wizara hii ilitengewa Sh trilioni 1.4 kiasi ambacho kwa kulinganisha na bajeti ijayo, wabunge walitafsiri kuwa bajeti ya elimu imeshuka.Akizungumzia tafsiri kwamba bajeti ya elimu imeshuka na kwamba bajeti ya maendeleo imekuwa na mserereko wa kupungua, Dk Mpango alisema kwa kuangalia takwimu, ni kweli.Alisema, \\u201cukiangalia takwimu, zinaonesha bajeti inapungua katika kutoka asilimia 17 ya bajeti yote 2015/16; asilimia 16 mwaka 2016/17 asilimia 15 mwaka 2017/18 asilimia 14 mwaka 2018/19 na asilimia 14 ya mwaka ujao wa fedha.\\u201cHata hivyo, si kweli kwamba bajeti ya maendeleo imekuwa na mserereko wa kupungua. Ukiunganisha hizi namba unaona kilichopungua ni bajeti ya matumizi ya kawaida na inapungua kwa miaka miwili iliyopita,\\u201d anasema.Anaainisha mwaka 2015/16 bajeti ilikuwa Sh bilioni 3.2 ikaongezeka hadi Sh bilioni 3.7 kwa mwaka 2016/17. Mwaka 2017/18 ndipo ilishuka kidogo hadi Sh bilioni 3.5 na mwaka huu ni Sh bilioni 3.4 huku kwa mwaka ujao (2019/20) ikishuka hadi Sh bilioni 3.1.Hata hivyo, alisema hali hiyo inatokana na hatua ambazo serikali ilichukua ikiwamo kuondoa watumishi hewa kutoka katika sekta ya elimu na pia uundaji mpya uliofanyika katika taasisi mbalimbali na kuondoa baadhi ya watumishi kutoka kwenye taasisi mbalimbali za wizara.Waziri alisema ni muhimu wabunge wakatambua mchango mkubwa wa wadau wengine wa elimu nchini na hususani wamiliki wa shule binafsi lakini pia taasisi za dini.\",\n          \" DAKTARI wa Hospitali ya Taifa Muhimbili (MNH), Dar es Salaam Idara ya Huduma za Dharura, Deus Kitapondya amesema ni vyema ukafanyika utafiti ili kubaini kiwango cha ya madhara kiafya na kisaikolojia yanayowapata wasafiri wa mabasi ya mwendokasi jijini Dar es Salaam kutokana na mbanano ndani ya mabasi hayo.Dk Kitapondya alitoa kauli hiyo baada ya mwandishi kutaka kujua kama katika kazi zake za utabibu aliwahi kukutana na wagonjwa walioumia kutokana na tatizo hilo.Pamoja na kukiri kuwahi kuwatibu wagonjwa wanne akiwemo mwandishi wa habari wa gazeti hili, Matern Kayera walioumia kutokana na kubanana ndani ya mabasi hayo, daktari huyo alisema japo hajafanya utafiti, lakini anaamini hali hiyo inawasababishia watumiaji wengi wa mabasi hayo matatizo ya kisaikolojia ikiwemo kukosa amani na utulivu wa kiakili wanapoamua kusafiri nayo.Kwa mujibu wa daktari huyo, msongamano wa abiria ni kigezo tosha cha kuwafanya watu kuwa na hofu ya namna ya kupanda au kushuka kwenye mabasi hayo kutokana na kusukumana au kubanana hali inayowaondolea utulivu na kuwafanya wakose amani moyoni, hivyo kuna kila umuhimu kwa utafiti kufanyika kubaini kiwango cha madhara ya kiafya na kisaikolojia wanayowapata watumiaji wa usafiri huo.Kwa kuwa msongamano huo hutokea zaidi nyakati za asubuhi watu wanapowahi kwenye shughuli zao au jioni wanaporudi majumbani, hivyo baadhi yao huathirika kisaikolojia kutokana na kuwaza kama wataweza kupanda au kushuka kwa urahisi, kubanana, kukosa kiti, kuchelewa kazini au majumbani, shuleni au kwenye shughuli zao mbalimbali pamoja na mwili kuchoka.\\u201cUmeibua hoja ya msingi, nadhani kuna haja ya utafiti kufanyika ili kubaini kiwango cha madhara ya kisaikolojia na kimwili ambayo watu wanayapata kutokana na kutumia usafiri wa mabasi ya mwendokasi,\\u201d alisema Dk Kitapondya.Mbali na madhara ya kisaikolojia, mtaalamu huyo wa afya alisema alishawahi kuwatibu wagonjwa wanne walioumia kutokana na msongamano ndani ya mabasi hayo.\"\n        ],\n        \"semantic_type\": \"\",\n        \"description\": \"\"\n      }\n    },\n    {\n      \"column\": \"category\",\n      \"properties\": {\n        \"dtype\": \"category\",\n        \"num_unique_values\": 5,\n        \"samples\": [\n          \"Biashara\",\n          \"Burudani\",\n          \"michezo\"\n        ],\n        \"semantic_type\": \"\",\n        \"description\": \"\"\n      }\n    }\n  ]\n}"
            }
          },
          "metadata": {},
          "execution_count": 5
        }
      ],
      "source": [
        "train.head(5)"
      ]
    },
    {
      "cell_type": "markdown",
      "metadata": {
        "id": "xvvFWWM4ljoH"
      },
      "source": [
        "### Data Preparation"
      ]
    },
    {
      "cell_type": "code",
      "execution_count": null,
      "metadata": {
        "id": "tFweD7ehIGlR",
        "colab": {
          "base_uri": "https://localhost:8080/"
        },
        "outputId": "4005a55c-ceca-4381-cced-1eb289f84ec9"
      },
      "outputs": [
        {
          "output_type": "execute_result",
          "data": {
            "text/plain": [
              "5"
            ]
          },
          "metadata": {},
          "execution_count": 6
        }
      ],
      "source": [
        "n_labels = len(train[\"category\"].unique())\n",
        "n_labels"
      ]
    },
    {
      "cell_type": "code",
      "execution_count": null,
      "metadata": {
        "id": "7VvgbR2B7p-W",
        "colab": {
          "base_uri": "https://localhost:8080/"
        },
        "outputId": "8a7b9ae9-8051-4813-dfca-3b1b6022a9df"
      },
      "outputs": [
        {
          "output_type": "execute_result",
          "data": {
            "text/plain": [
              "((3605, 3), (1546, 3))"
            ]
          },
          "metadata": {},
          "execution_count": 7
        }
      ],
      "source": [
        "df_trn, df_val = train_test_split(train, stratify = train['category'], test_size=0.3, random_state=123)\n",
        "df_trn.shape, df_val.shape"
      ]
    },
    {
      "cell_type": "code",
      "execution_count": null,
      "metadata": {
        "id": "HrF8Xdps9sXQ",
        "colab": {
          "base_uri": "https://localhost:8080/",
          "height": 467
        },
        "outputId": "a8a8aa15-1f7b-4107-83f1-1c1cf2d42235"
      },
      "outputs": [
        {
          "output_type": "execute_result",
          "data": {
            "text/plain": [
              "                                                                                                                                                                                                                                                                                                                                                                                                                                                                                                                                                                                                                      content\n",
              "167    Hayo yalisema juzi na Waziri wa Viwanda na Biashara, Dk Abdallah Kigoda wakati akifungua kikao cha kazi kilichofanyika Dar es Salaam na kuwashirikisha viongozi wa wizara na wakuu wa taasisi zake.Alisema katika kipindi cha mwaka juzi, sekta hiyo ilikua kwa asilimia 8.2, ikilinganishwa na asilimia 7.8 mwaka 2011. Pia, mchango wa sekta hiyo katika pato la taifa, uliongezeka kutoka asilimia 9.7 mwaka 2011 hadi 9.85 mwaka 2012/2013.Alisema mwaka juzi sekta ya viwanda vidogo na biashara ndogo, ilichangia asilimia 27.9 katika pato la taifa na kuajiri watu milioni 5.2 wanaofanyakazi katika jasili...\n",
              "3863  ['Muogeleaji wa Italia Filippo Magnini amemuokoa Anrea Benedetto ambaye alikuwa akizama kwenye maji siku ya Jumapili.', 'Bingwa wa zamani wa michuano ya kuogelea alijitosa majini baada ya marafiki wa mwanaume huyo kuanza kupiga kelele katika ufukwe wa Cala Sinzias.', 'Magnini aliunyanyua uso wa Benedetto juu ya maji mpaka wahudumu waokoaji walipowasili.', \"''Nilianya nilichotakiwa kufanya,'' mwanamichezo huyo mstaafu alisema.\", 'Ni siku mbili pekee kabla, bwana Benedetto, 45, alikua amefunga ndoa na mpenzi wake wa jinsia moja.', 'Tukio hilo la Jumapili lilishuhudiwa na rafiki wa wapenzi ha...\n",
              "914    UONGOZI wa timu ya soka ya Yanga umesema hauna mpango wa kubadilisha kikosi chake katika mchezo wao na Azam FC ambao utachezwa leo usiku kuanzia saa 2:15 wa Kombe la Mapinduzi Timu hizo zinakutana leo katika dimba la Amaan, Azam inashuka ikiwa na pointi moja baada ya mchezo wake wa kwanza kutoka sare na Jamhuri na Yanga wana pointi tatu kufuatia kushinda katika mchezo wake wa juzi na timu ya KVZ na kuongoza Kundi A, ambalo linaundwa na timu hizo.Kauli hiyo imetolewa na Meneja wa timu hiyo, Nadir Haroub Cannavaro alipozungumza na waandishi wa habari mara baada ya mchezo huo dhidi ya KVZ na...\n",
              "158    HALI ya uzazi wa mpango nchini bado iko nyuma, jambo ambalo linahitaji kuwekewa nguvu kubwa, imeelezwa. Akizungumza katika mkutano uliozikutanisha asasi za kiraia, Mkurugenzi wa Miradi wa Taasisi ya Afya Tanzania, Salvatory Hokororo alisema jamii bado haina elimu ya kutosha.“Kulingana na takwimu za Wizara ya Afya, Maendeleo ya Jamii, Jinsia, Wazee na Watoto, tuna asilimia 32 na tungependa kufikia asilimia 60, kwa hiyo kwa takwimu hizi ina maana kwamba bado tuko chini sana,” alisema.Alisema elimu ya uzazi wa mpango haijapewa msukumo mkubwa ndio maana haijasambaa kwa kiasi kikubwa. “Naona h...\n",
              "5122   Katika mchezo wa kwanza, Yanga wakiwa nyumbani walipata ushindi mwembamba wa bao 1-0, hivyo katika mchezo huo wawakilishi hao wa Tanzania Bara, wanahitaji sare au ushindi wa namna yoyote ili kusonga mbele hatua inayofuata.Akizungumza na gazeti hili kabla ya timu kuondoka, msemaji wa Yanga Dismas Ten, alisema wamekwenda Shelisheli wakiwa na uhakika na ushindi kutokana na maandalizi mazuri ambayo wameyafanya tangu mchezo wao wa mwisho wa ligi dhidi ya Majimaji.“Timu imefanya mazoezi ya kutosha na kocha ameridhishwa nayo, lakini pia wachezaji wote wapo fiti kiafya na kiakili kwa ajili ya pam..."
            ],
            "text/html": [
              "\n",
              "  <div id=\"df-bedb7175-f453-4da5-817a-2c193018db89\" class=\"colab-df-container\">\n",
              "    <div>\n",
              "<style scoped>\n",
              "    .dataframe tbody tr th:only-of-type {\n",
              "        vertical-align: middle;\n",
              "    }\n",
              "\n",
              "    .dataframe tbody tr th {\n",
              "        vertical-align: top;\n",
              "    }\n",
              "\n",
              "    .dataframe thead th {\n",
              "        text-align: right;\n",
              "    }\n",
              "</style>\n",
              "<table border=\"1\" class=\"dataframe\">\n",
              "  <thead>\n",
              "    <tr style=\"text-align: right;\">\n",
              "      <th></th>\n",
              "      <th>content</th>\n",
              "    </tr>\n",
              "  </thead>\n",
              "  <tbody>\n",
              "    <tr>\n",
              "      <th>167</th>\n",
              "      <td>Hayo yalisema juzi na Waziri wa Viwanda na Biashara, Dk Abdallah Kigoda wakati akifungua kikao cha kazi kilichofanyika Dar es Salaam na kuwashirikisha viongozi wa wizara na wakuu wa taasisi zake.Alisema katika kipindi cha mwaka juzi, sekta hiyo ilikua kwa asilimia 8.2, ikilinganishwa na asilimia 7.8 mwaka 2011. Pia, mchango wa sekta hiyo katika pato la taifa, uliongezeka kutoka asilimia 9.7 mwaka 2011 hadi 9.85 mwaka 2012/2013.Alisema mwaka juzi sekta ya viwanda vidogo na biashara ndogo, ilichangia asilimia 27.9 katika pato la taifa na kuajiri watu milioni 5.2 wanaofanyakazi katika jasili...</td>\n",
              "    </tr>\n",
              "    <tr>\n",
              "      <th>3863</th>\n",
              "      <td>['Muogeleaji wa Italia Filippo Magnini amemuokoa Anrea Benedetto ambaye alikuwa akizama kwenye maji siku ya Jumapili.', 'Bingwa wa zamani wa michuano ya kuogelea alijitosa majini baada ya marafiki wa mwanaume huyo kuanza kupiga kelele katika ufukwe wa Cala Sinzias.', 'Magnini aliunyanyua uso wa Benedetto juu ya maji mpaka wahudumu waokoaji walipowasili.', \"''Nilianya nilichotakiwa kufanya,'' mwanamichezo huyo mstaafu alisema.\", 'Ni siku mbili pekee kabla, bwana Benedetto, 45, alikua amefunga ndoa na mpenzi wake wa jinsia moja.', 'Tukio hilo la Jumapili lilishuhudiwa na rafiki wa wapenzi ha...</td>\n",
              "    </tr>\n",
              "    <tr>\n",
              "      <th>914</th>\n",
              "      <td>UONGOZI wa timu ya soka ya Yanga umesema hauna mpango wa kubadilisha kikosi chake katika mchezo wao na Azam FC ambao utachezwa leo usiku kuanzia saa 2:15 wa Kombe la Mapinduzi Timu hizo zinakutana leo katika dimba la Amaan, Azam inashuka ikiwa na pointi moja baada ya mchezo wake wa kwanza kutoka sare na Jamhuri na Yanga wana pointi tatu kufuatia kushinda katika mchezo wake wa juzi na timu ya KVZ na kuongoza Kundi A, ambalo linaundwa na timu hizo.Kauli hiyo imetolewa na Meneja wa timu hiyo, Nadir Haroub Cannavaro alipozungumza na waandishi wa habari mara baada ya mchezo huo dhidi ya KVZ na...</td>\n",
              "    </tr>\n",
              "    <tr>\n",
              "      <th>158</th>\n",
              "      <td>HALI ya uzazi wa mpango nchini bado iko nyuma, jambo ambalo linahitaji kuwekewa nguvu kubwa, imeelezwa. Akizungumza katika mkutano uliozikutanisha asasi za kiraia, Mkurugenzi wa Miradi wa Taasisi ya Afya Tanzania, Salvatory Hokororo alisema jamii bado haina elimu ya kutosha.“Kulingana na takwimu za Wizara ya Afya, Maendeleo ya Jamii, Jinsia, Wazee na Watoto, tuna asilimia 32 na tungependa kufikia asilimia 60, kwa hiyo kwa takwimu hizi ina maana kwamba bado tuko chini sana,” alisema.Alisema elimu ya uzazi wa mpango haijapewa msukumo mkubwa ndio maana haijasambaa kwa kiasi kikubwa. “Naona h...</td>\n",
              "    </tr>\n",
              "    <tr>\n",
              "      <th>5122</th>\n",
              "      <td>Katika mchezo wa kwanza, Yanga wakiwa nyumbani walipata ushindi mwembamba wa bao 1-0, hivyo katika mchezo huo wawakilishi hao wa Tanzania Bara, wanahitaji sare au ushindi wa namna yoyote ili kusonga mbele hatua inayofuata.Akizungumza na gazeti hili kabla ya timu kuondoka, msemaji wa Yanga Dismas Ten, alisema wamekwenda Shelisheli wakiwa na uhakika na ushindi kutokana na maandalizi mazuri ambayo wameyafanya tangu mchezo wao wa mwisho wa ligi dhidi ya Majimaji.“Timu imefanya mazoezi ya kutosha na kocha ameridhishwa nayo, lakini pia wachezaji wote wapo fiti kiafya na kiakili kwa ajili ya pam...</td>\n",
              "    </tr>\n",
              "  </tbody>\n",
              "</table>\n",
              "</div>\n",
              "    <div class=\"colab-df-buttons\">\n",
              "\n",
              "  <div class=\"colab-df-container\">\n",
              "    <button class=\"colab-df-convert\" onclick=\"convertToInteractive('df-bedb7175-f453-4da5-817a-2c193018db89')\"\n",
              "            title=\"Convert this dataframe to an interactive table.\"\n",
              "            style=\"display:none;\">\n",
              "\n",
              "  <svg xmlns=\"http://www.w3.org/2000/svg\" height=\"24px\" viewBox=\"0 -960 960 960\">\n",
              "    <path d=\"M120-120v-720h720v720H120Zm60-500h600v-160H180v160Zm220 220h160v-160H400v160Zm0 220h160v-160H400v160ZM180-400h160v-160H180v160Zm440 0h160v-160H620v160ZM180-180h160v-160H180v160Zm440 0h160v-160H620v160Z\"/>\n",
              "  </svg>\n",
              "    </button>\n",
              "\n",
              "  <style>\n",
              "    .colab-df-container {\n",
              "      display:flex;\n",
              "      gap: 12px;\n",
              "    }\n",
              "\n",
              "    .colab-df-convert {\n",
              "      background-color: #E8F0FE;\n",
              "      border: none;\n",
              "      border-radius: 50%;\n",
              "      cursor: pointer;\n",
              "      display: none;\n",
              "      fill: #1967D2;\n",
              "      height: 32px;\n",
              "      padding: 0 0 0 0;\n",
              "      width: 32px;\n",
              "    }\n",
              "\n",
              "    .colab-df-convert:hover {\n",
              "      background-color: #E2EBFA;\n",
              "      box-shadow: 0px 1px 2px rgba(60, 64, 67, 0.3), 0px 1px 3px 1px rgba(60, 64, 67, 0.15);\n",
              "      fill: #174EA6;\n",
              "    }\n",
              "\n",
              "    .colab-df-buttons div {\n",
              "      margin-bottom: 4px;\n",
              "    }\n",
              "\n",
              "    [theme=dark] .colab-df-convert {\n",
              "      background-color: #3B4455;\n",
              "      fill: #D2E3FC;\n",
              "    }\n",
              "\n",
              "    [theme=dark] .colab-df-convert:hover {\n",
              "      background-color: #434B5C;\n",
              "      box-shadow: 0px 1px 3px 1px rgba(0, 0, 0, 0.15);\n",
              "      filter: drop-shadow(0px 1px 2px rgba(0, 0, 0, 0.3));\n",
              "      fill: #FFFFFF;\n",
              "    }\n",
              "  </style>\n",
              "\n",
              "    <script>\n",
              "      const buttonEl =\n",
              "        document.querySelector('#df-bedb7175-f453-4da5-817a-2c193018db89 button.colab-df-convert');\n",
              "      buttonEl.style.display =\n",
              "        google.colab.kernel.accessAllowed ? 'block' : 'none';\n",
              "\n",
              "      async function convertToInteractive(key) {\n",
              "        const element = document.querySelector('#df-bedb7175-f453-4da5-817a-2c193018db89');\n",
              "        const dataTable =\n",
              "          await google.colab.kernel.invokeFunction('convertToInteractive',\n",
              "                                                    [key], {});\n",
              "        if (!dataTable) return;\n",
              "\n",
              "        const docLinkHtml = 'Like what you see? Visit the ' +\n",
              "          '<a target=\"_blank\" href=https://colab.research.google.com/notebooks/data_table.ipynb>data table notebook</a>'\n",
              "          + ' to learn more about interactive tables.';\n",
              "        element.innerHTML = '';\n",
              "        dataTable['output_type'] = 'display_data';\n",
              "        await google.colab.output.renderOutput(dataTable, element);\n",
              "        const docLink = document.createElement('div');\n",
              "        docLink.innerHTML = docLinkHtml;\n",
              "        element.appendChild(docLink);\n",
              "      }\n",
              "    </script>\n",
              "  </div>\n",
              "\n",
              "\n",
              "<div id=\"df-4a9d0adc-caa3-430b-bc4e-79e9b253b6a3\">\n",
              "  <button class=\"colab-df-quickchart\" onclick=\"quickchart('df-4a9d0adc-caa3-430b-bc4e-79e9b253b6a3')\"\n",
              "            title=\"Suggest charts\"\n",
              "            style=\"display:none;\">\n",
              "\n",
              "<svg xmlns=\"http://www.w3.org/2000/svg\" height=\"24px\"viewBox=\"0 0 24 24\"\n",
              "     width=\"24px\">\n",
              "    <g>\n",
              "        <path d=\"M19 3H5c-1.1 0-2 .9-2 2v14c0 1.1.9 2 2 2h14c1.1 0 2-.9 2-2V5c0-1.1-.9-2-2-2zM9 17H7v-7h2v7zm4 0h-2V7h2v10zm4 0h-2v-4h2v4z\"/>\n",
              "    </g>\n",
              "</svg>\n",
              "  </button>\n",
              "\n",
              "<style>\n",
              "  .colab-df-quickchart {\n",
              "      --bg-color: #E8F0FE;\n",
              "      --fill-color: #1967D2;\n",
              "      --hover-bg-color: #E2EBFA;\n",
              "      --hover-fill-color: #174EA6;\n",
              "      --disabled-fill-color: #AAA;\n",
              "      --disabled-bg-color: #DDD;\n",
              "  }\n",
              "\n",
              "  [theme=dark] .colab-df-quickchart {\n",
              "      --bg-color: #3B4455;\n",
              "      --fill-color: #D2E3FC;\n",
              "      --hover-bg-color: #434B5C;\n",
              "      --hover-fill-color: #FFFFFF;\n",
              "      --disabled-bg-color: #3B4455;\n",
              "      --disabled-fill-color: #666;\n",
              "  }\n",
              "\n",
              "  .colab-df-quickchart {\n",
              "    background-color: var(--bg-color);\n",
              "    border: none;\n",
              "    border-radius: 50%;\n",
              "    cursor: pointer;\n",
              "    display: none;\n",
              "    fill: var(--fill-color);\n",
              "    height: 32px;\n",
              "    padding: 0;\n",
              "    width: 32px;\n",
              "  }\n",
              "\n",
              "  .colab-df-quickchart:hover {\n",
              "    background-color: var(--hover-bg-color);\n",
              "    box-shadow: 0 1px 2px rgba(60, 64, 67, 0.3), 0 1px 3px 1px rgba(60, 64, 67, 0.15);\n",
              "    fill: var(--button-hover-fill-color);\n",
              "  }\n",
              "\n",
              "  .colab-df-quickchart-complete:disabled,\n",
              "  .colab-df-quickchart-complete:disabled:hover {\n",
              "    background-color: var(--disabled-bg-color);\n",
              "    fill: var(--disabled-fill-color);\n",
              "    box-shadow: none;\n",
              "  }\n",
              "\n",
              "  .colab-df-spinner {\n",
              "    border: 2px solid var(--fill-color);\n",
              "    border-color: transparent;\n",
              "    border-bottom-color: var(--fill-color);\n",
              "    animation:\n",
              "      spin 1s steps(1) infinite;\n",
              "  }\n",
              "\n",
              "  @keyframes spin {\n",
              "    0% {\n",
              "      border-color: transparent;\n",
              "      border-bottom-color: var(--fill-color);\n",
              "      border-left-color: var(--fill-color);\n",
              "    }\n",
              "    20% {\n",
              "      border-color: transparent;\n",
              "      border-left-color: var(--fill-color);\n",
              "      border-top-color: var(--fill-color);\n",
              "    }\n",
              "    30% {\n",
              "      border-color: transparent;\n",
              "      border-left-color: var(--fill-color);\n",
              "      border-top-color: var(--fill-color);\n",
              "      border-right-color: var(--fill-color);\n",
              "    }\n",
              "    40% {\n",
              "      border-color: transparent;\n",
              "      border-right-color: var(--fill-color);\n",
              "      border-top-color: var(--fill-color);\n",
              "    }\n",
              "    60% {\n",
              "      border-color: transparent;\n",
              "      border-right-color: var(--fill-color);\n",
              "    }\n",
              "    80% {\n",
              "      border-color: transparent;\n",
              "      border-right-color: var(--fill-color);\n",
              "      border-bottom-color: var(--fill-color);\n",
              "    }\n",
              "    90% {\n",
              "      border-color: transparent;\n",
              "      border-bottom-color: var(--fill-color);\n",
              "    }\n",
              "  }\n",
              "</style>\n",
              "\n",
              "  <script>\n",
              "    async function quickchart(key) {\n",
              "      const quickchartButtonEl =\n",
              "        document.querySelector('#' + key + ' button');\n",
              "      quickchartButtonEl.disabled = true;  // To prevent multiple clicks.\n",
              "      quickchartButtonEl.classList.add('colab-df-spinner');\n",
              "      try {\n",
              "        const charts = await google.colab.kernel.invokeFunction(\n",
              "            'suggestCharts', [key], {});\n",
              "      } catch (error) {\n",
              "        console.error('Error during call to suggestCharts:', error);\n",
              "      }\n",
              "      quickchartButtonEl.classList.remove('colab-df-spinner');\n",
              "      quickchartButtonEl.classList.add('colab-df-quickchart-complete');\n",
              "    }\n",
              "    (() => {\n",
              "      let quickchartButtonEl =\n",
              "        document.querySelector('#df-4a9d0adc-caa3-430b-bc4e-79e9b253b6a3 button');\n",
              "      quickchartButtonEl.style.display =\n",
              "        google.colab.kernel.accessAllowed ? 'block' : 'none';\n",
              "    })();\n",
              "  </script>\n",
              "</div>\n",
              "\n",
              "    </div>\n",
              "  </div>\n"
            ],
            "application/vnd.google.colaboratory.intrinsic+json": {
              "type": "dataframe",
              "variable_name": "df_lm",
              "summary": "{\n  \"name\": \"df_lm\",\n  \"rows\": 5151,\n  \"fields\": [\n    {\n      \"column\": \"content\",\n      \"properties\": {\n        \"dtype\": \"string\",\n        \"num_unique_values\": 5151,\n        \"samples\": [\n          \" KUTOKANA na kuwepo kwa wimbi la vitenge na khanga zisizokidhi viwango vya matakwa ya ubora nchini, Shirika la Viwango Tanzania (TBS), limetangaza kiama kwa wote wanaouza na kusambaza bidhaa hizo, bila ya kufuata sheria ya ubora.Hatua hiyo imekuja baada ya uchunguzi wa gazeti hili, kubaini kuwepo kwa bidhaa hizo zenye ubora na viwango hafifu katika masoko mengi nchini tofauti na matakwa ya viwango kisheria, ambayo ni kiwango namba TZS 165 kwa upande wa khanga na kiwango namba TZS 164 kwa vitenge.Kaimu Mkurugenzi Udhibiti Ubora wa TBS, Lazaro Msasalaga amesema kama zilivyo bidhaa nyingine sokoni, zipo pia zenye ubora hafifu na jukumu lao ni kufanya ukaguzi na kuzibaini kisha kuchukua hatua, ikiwemo kuziteketeza.\\u201cBidhaa zenye ubora hafifu zipo na kila mara tunafanya ukaguzi kwenye maduka hata viwandani na tunapobaini tunawaelimisha lakini pia tunateketeza ili kulinda ubora na tunaendelea kufanya ukaguzi ili kubaini khanga na vitenge visivyo na viwango na ubora unaotakiwa kwa mujibu wa matakwa kisheria,\\u201dalisema Msasalaga.Alisema ni lazima wazalishaji na waagizaji kutoka nje, wazingatie sheria ya sasa ya bidhaa hizo, ambayo imeeleza wazi matakwa ya viwango vinavyopaswa kuzalisha bidhaa husika na kwamba kwenda kinyume na matakwa hayo ni kinyume na utaratibu na lazima sheria ichukue mkondo wake.Akizungumzia viwango vya khanga na vitenge vinavyotambuliwa kisheria nchini na TBS, Ofisa Viwango Mwandamizi Kitengo cha Nguo cha TBS, Paul Manyilika alisema ni lazima mzalishaji wa nguo aina ya khanga, afuate matakwa ya kiwango namba TBS 165 ambacho kinaelezea vitu vinavyopaswa kuwepo katika khanga.Akifafanua, alisema vipimo vya khanga ni kiwango cha chini cha urefu wa khanga kipande kimoja kinapaswa kuwa sentimita 165 na upana wa sentimita 116, ambapo kwa doti moja (vipande viwili)vya khanga inapaswa kuwa na urefu wa sentimita 370 na upana wa sentimita 232.Aidha, khanga hiyo inapaswa kuwa na uzito wa kuanzia gramu 96 na kwamba mzalishaji anaweza kuongeza gramu tano au kupunguza gramu tano na bado sifa ya khanga ikabaki pale pale.Kwa sheria hiyo, uzalishaji wake unapaswa kuwa umetumia malighafi aina ya pamba kwa asilimia 100 na kwamba kama kuna viwanda au mfanyabiashara anauza khanga, tofauti na kiwango hicho anakwenda kinyume na sheria na anapaswa kuchukuliwa hatua.\\u201cKwa sasa hiyo ndiyo sheria yetu ilivyo na ndiyo inayotumika na wazalishaji wote wenye viwanda vya nguo wanaozalisha khanga na vitenge wamepewa mwongozo huo kama kuna uzalishaji haufuati viwango hivyo ni makosa kwani sheria haijabadilika,\\u201dalisema Manyilika.Akizungumzia upande wa kitenge, amesema kiwango cha matakwa kisheria kinachotumika ni namba TZS 164 ambacho kinaelezea ukubwa wa kitenge kiwango cha chini lazima uwe sentimita 200 (mita mbili) kwa kipande kimoja na upana wa sentimita 116 (mita 1.16) na vipande ni lazima vianze viwili.Alisema uzito kwa kitenge, unapaswa uwe kuanzia gramu 115 ambapo mzalishaji anaweza kuongeza gramu tano au kupunguza gramu tano na ni lazima kwa sheria ya sasa kitengenezwe kwa malighafi ya pamba kwa asilimia 100.\\u201cJapo kuna mabadiliko duniani na hasa kwenye utengenezaji wa nguo kwa kuwa hivi sasa zipo nchi zinatengeneza nguo kwa kuchanganya na malighafi, sifu, polista,pamba na vinginezo, ila hata sisi tuko kwenye mchakato wa kuangalia hilo ili sheria hapo baadaye tuone kama itabadilishwa itambue na hizo malighafi nyingine na sio pamba pekee,\\u201dalisema Msasalaga.Awali, akizungumzia khanga na vitenge vinavyoingia kutoka nje ya nchi, Manyilika amesema kisheria havipaswi kuingia na hata kama vikiingia ni lazima vikaguliwe, kuona kama mtengenezaji ametimiza vigezo vya masharti ya viwango vinavyokubalika nchini.\\u201cTunafanya ukaguzi wa mara kwa mara maeneo ya masoko, na tunapozikamata na kuthibitisha hazina ubora tunaziteketeza, lakini nyingi zinapita kwa njia za panya na wanaofanya hivyo ni wafanyabiashara wasio waaminifu ila tutawasaka na kuteketeza bidhaa hizo hafifu,\\u2019\\u2019alisema Manyilika.Uchunguzi uliofanywa na gazeti hili, umebaini kuwa khanga nyingi na vitenge vilivyopo sokoni au zilizokwishanunuliwa na wateja, hazina viwango tajwa na nyingi ni ndogo na nyepesi ukilinganisha na vipimo\",\n          \" MABINGWA wa kihistoria wa Ligi Kuu Bara, Yanga jana walionja ushindi wa kwanza baada ya kuifunga Coastal Union ya Tanga bao 1-0 katika mechi iliyochezwa kwenye uwanja wa Uhuru, Dar es Salaam.Yanga imepata ushindi huo baada ya kupoteza mechi ya kwanza ya ligi kwa bao 1-0 dhidi ya Ruvu Shooting kabla ya kulazimishwa sare ya mabao 3-3 na Polisi Tanzania katikati ya wiki iliyopita.Hata hivyo, pamoja na ushindi huo, Yanga bado inaonekana haina muunganiko mzuri na safu yake ya ushambuliaji ni butu.Bao la ushindi la Yanga lilifungwa na Abdulazizi Makame katika dakika ya 50 akiunganisha mpira wa kona uliochongwa na Mrisho Ngassa kabla ya kutokea piga nikupige langoni mwa Coastal.Katika mechi hiyo Yanga ilikosa mabao kadhaa likiwemo lile la dakika ya 15 ambapo David Molinga alipiga mpira pembeni mwa lango akiunganisha pasi ya Juma Abdul.Coastal nayo ilijibu mashambulizi dakika ya 30 ambapo mchezaji wake, Ayoub Lyanga akiwa kwenye nafasi nzuri ya kufunga alipiga shuti hafifu lililoishia mikononi mwa mlinda mlango wa Yanga, Faruku Shikarlo.Matokeo hayo yanaifanya Yanga ifikishe pointi nne ikiwa nafasi ya 12 kwenye msimamo wa ligi hiyo inayoongozwa na Simba yenye pointi 12\",\n          \"['Makampuni ya kamari yameongeza dau juu ya uwezekano wa kocha wa Manchester United Ole Gunnar Solskjaer kufutwa kazi baada ya kukubali kichapo cha kushtukiza dhidi ya Newcastle. Kocha wa Tottenham Mauricio Pochettino anapigiwa upatu kuchukua mikoba ya Solskjaer. (Sun)', 'Kocha wa Liverpool Jurgen Klopp amedokeza kuwa mrithi wake klabuni hapo atakuwa kocha wa Rangers ya Uskochi Steven Gerrard ama kocha wa zamani wa klabu hiyo forme Kenny Dalglish. ', 'Gerrard na Dalgish wote wameichezea Liverpool kwa mafanikio makubwa. (Star)', 'Beki wa zamani wa Liverpool Glen Johnson amemshauri mshambuliaji wa Tottenham Harry Kane, 26, tkuihama klabu yake na kumpigia chapuo ajiunge na Man City. (Manchester Evening News)', 'Kocha wa Arsenal Unai Emery anapiga hesabu za kumnunua beki wa Wolves Willy Boly. Wolves wanaweza kutaka dau la pauni milioni 20, wao walimnunua nyota huyo raia wa Ivory Coast kwa pauni milioni 10. (Sun).', 'Winga wa zamani wa Manchester United Ryan Giggs anaamini Ole Gunnar Solskjaer anatakiwa kusajili wachezaji wengine watano ili timu irejee kwenye kiwango chake. (Sun)', \\\"Real Madrid wapo tayari kuchuana na Juventus ikatika kinyang'anyiro cha kutaka kumsajili kiungo mkabaji wa Chelsea N'Golo Kante. Vigogo hao wa La Liga wanaweza kulipa dau la uasajili la kufikia pauni milioni 70 ili kumnasa Mfaransa huyo. (Sport, via Mail)\\\", 'Kocha wa Bournemouth Eddie Howe amemtaka mshambuliaji wake Callum Wilson kuzipa kisogo tetesi kuwa Man United inataka kumsajili mwezi Januari. (Daily Echo)', 'Winga wa Chelsea Christian Pulisic,21, anaripotiwa kutaka kuomba kutolewa kwa mkopo kama hatapata muda mwingi zaidi wa kucheza klabuni hapo. (Sun)', 'AC Milan walikuwa kwenye mipango ya kutaka kumfuta kazi kocha Marco Giampaolo wakati wa mapumziko wa mechi dhidi ya Geonasiku ya Jumamosi. Mpaka mapumziko Genoa walikuwa wakiongoza kwa goli moja lakini mchezo uliisha kwa Milan kupata ushindi wa 2-1 (SempreMilan, via Star)', 'Beki wa zamani wa pembeni wa Manchester United Alexander Buttner, 30, amesema alikataa maombi ya usajili kutoka klabu za Uskochi za Celtic na Rangers kabla ya kuamua kutimkia Marekani katika klabu ya New England Revolution. (Goal)', 'Mshambuliaji wa zamani wa Aston Villa Gabriel Agbonlahor, ambaye ndiye mshika rekodi ya kupachika mabao mengi zaidi kwa Villa amefichua kuwa wapinzani wao wa jadi klabu ya Birmingham City  walijaribu kumsajili kutoka klabu ya Villa Park  wakati alipokuwa mdogo. (Birmingham Live)', 'Nyota wa zamani wa Liverpool Steve McMahon amemdokeza kocha Jurgen Klopp kumsajili kiungo wa Leicester City James Maddison kabla ya wapinzani wao . (Stadium Astro, via Express).', 'TETESI ZA SOKA JUMAPILI', 'Leicester City wanamsaka mchezaji atakayeichukua nafasi ya beki wa kushoto mwenye miaka 22 Ben Chilwell, huku Chelsea na Manchester City wakiongoza mvutano wa kumsajili mchezaji huyo wa timu ya taifa ya England. (Sun on Sunday)', 'Manchester United imekana kuwa mchezaji wa kiungo cha kati wa timu ya taifa ya Ufaransa Paul Pogba anaomba  \\u00a3600,000 kwa wiki ili kusaini mkataba mpya na klabu hiyo. Mkataba wa mchezaji huyo mwenye miaka 26 umesalia miaka miwili kabla ya kumalizika. (Sunday Mirror) ', 'United wanataka kumsajili mshambuliaji wa Bournemouth Callum Wilson ifikappo Januari  na wanapanga kumvutia mchezjai huyo mwenye miaka 27 kwa kumpa nafasi ya  kutimiza tuhuma zake za kufuzu katika klabu ya taifa ya England kwa michuano ya Euro 2020. (Sunday Express)', 'Arsenal itapambana na  AC Milan katika kumsjaili mchezaji wa miaka 20 PSV Eindhoven Donyell Malen, na wapo tayari kutoa Euro 56m kwa raia huyo wa Uholanzi. (Tuttosport, kupitia Calciomercato)', 'Meneja wa Sheffield United Chris Wilder ana hamu ya kumsajili mshambuliaji wa Brentford Ollie Watkins na atawasilisha obi la thamani ya  \\u00a315m kwa mchezaji huyo mwenye umri wa miaka 23. (Sun on Sunday)', 'Wakala wa mchezaji wa Tottenham Hotspur na timu ya taifa ya Korea kusini Son Heung-min, mwenye miaka 27, amekataa kuondoa uwezekano wa kuwepo uhamisho katika siku zijazo wa mchezaji huyo kwenda katika timu ya Italia, Napoli(Calciomercato)', \\\"Mshambuliaji wa Red Bull Salzburg Erling Braut Haaland anasema uvumi unaomhusisha na uhamisho kwenda Arsenal na Manchester United 'umechosha'. raia huyo mwenye umri w amiaka 19 kutoka Norway ameongeza kuwa anataka 'kulindwa' dhidi ya uvumi. (Football London) \\\", 'Meneja wa Chelsea Frank Lampard amemuambia winga mwenye umri wa miaka 21 wa Marekani Christian Pulisic - aliyesajiliwa kwa \\u00a353m kutoka Borussia Dortmund - kuwa ada ya uhamisho wake  haitoshi kupa nafasi ya kwenye kikosi cha kwanza katika timu hiyo (Sunday Mirror)', 'Mlinzi wa Brazil David Luiz, mwenye umri wa miaka 32, anasema \\\"hakufikiria mara mbili\\\" kuhusu kujiunga na Arsenal kutoka Chelsea msimu wa joto, kwasababu alikuwa na fikra tofuati ya mchezo huo katika siku zijazo kwa Lampard. (Metro)', 'Aliyekuwa meneja wa Arsenal, Arsene Wenger anafikiria kuhusu kuichukua nafasi ya kiufundi  katika shirikisho la soka duniani Fifa, lakini raia huyo wa Ufaransa mwenye umri wamiaka 68 haondoshi uwezekano wa yeye kurudi katika jukumu la usimamizi wa timu. (beIN Sports)', 'Mchezaji wa kiungo cha kati wa Newcastle United Sean Longstaff, mwenye umri wa miaka 21, ameambiwa asahahu ndoto yake ya uhamisho wa \\u00a340m kwenda Manchester United. (Sunday Mirror)', 'Meneja wa Manchester City Pep Guardiola anasema shinikizo la kushinda mataji linafanya kuwa vigumu kuwachezesha wachezaji chipukizi kutoka chuo cha mafunzo cha klabu hiyo. (Sunday Telegraph)', 'Aliyekuwa kapteni wa Arsenalna mlinzi Laurent Koscielny anasema aliiwacha Gunners akiwa anajivuni. raia huyo wa Ufaransa mwenye umri wa miaka 34 alijiunga na Bordeaux msimu wa joto.(Mail on Sunday)', 'Kipa wa Manchester United David de Gea ana hamu ya kuinunua klabu ya divisheni ya pili Uhispania Elche huku mchezaji huyo wa kimataifa mwenye umri wa miaka 28 akitakiwa kulipa \\u00a316m ili makubaliano hayo yafanikiwe. (Sport)']\"\n        ],\n        \"semantic_type\": \"\",\n        \"description\": \"\"\n      }\n    }\n  ]\n}"
            }
          },
          "metadata": {},
          "execution_count": 8
        }
      ],
      "source": [
        "df_lm = pd.concat([df_trn, df_val], axis=0)[['content']]\n",
        "df_lm.head()"
      ]
    },
    {
      "cell_type": "code",
      "execution_count": null,
      "metadata": {
        "id": "O20gpHv-DGyN"
      },
      "outputs": [],
      "source": [
        "# The datablock\n",
        "dblock = DataBlock(\n",
        "    blocks=TextBlock.from_df('content', is_lm=True),\n",
        "    get_x=ColReader('text'),\n",
        "    splitter=RandomSplitter(0.1))\n",
        "\n"
      ]
    },
    {
      "cell_type": "code",
      "execution_count": null,
      "metadata": {
        "id": "uo_5uhtLCVp7",
        "colab": {
          "base_uri": "https://localhost:8080/",
          "height": 944
        },
        "outputId": "bb23b13f-bf7f-4691-d4a3-813953ecb936"
      },
      "outputs": [
        {
          "output_type": "execute_result",
          "data": {
            "text/plain": [
              "                                                                                                                                                                                                                                                                                                                                                                                                                                                                                                                                                                                                                      content\n",
              "167    Hayo yalisema juzi na Waziri wa Viwanda na Biashara, Dk Abdallah Kigoda wakati akifungua kikao cha kazi kilichofanyika Dar es Salaam na kuwashirikisha viongozi wa wizara na wakuu wa taasisi zake.Alisema katika kipindi cha mwaka juzi, sekta hiyo ilikua kwa asilimia 8.2, ikilinganishwa na asilimia 7.8 mwaka 2011. Pia, mchango wa sekta hiyo katika pato la taifa, uliongezeka kutoka asilimia 9.7 mwaka 2011 hadi 9.85 mwaka 2012/2013.Alisema mwaka juzi sekta ya viwanda vidogo na biashara ndogo, ilichangia asilimia 27.9 katika pato la taifa na kuajiri watu milioni 5.2 wanaofanyakazi katika jasili...\n",
              "3863  ['Muogeleaji wa Italia Filippo Magnini amemuokoa Anrea Benedetto ambaye alikuwa akizama kwenye maji siku ya Jumapili.', 'Bingwa wa zamani wa michuano ya kuogelea alijitosa majini baada ya marafiki wa mwanaume huyo kuanza kupiga kelele katika ufukwe wa Cala Sinzias.', 'Magnini aliunyanyua uso wa Benedetto juu ya maji mpaka wahudumu waokoaji walipowasili.', \"''Nilianya nilichotakiwa kufanya,'' mwanamichezo huyo mstaafu alisema.\", 'Ni siku mbili pekee kabla, bwana Benedetto, 45, alikua amefunga ndoa na mpenzi wake wa jinsia moja.', 'Tukio hilo la Jumapili lilishuhudiwa na rafiki wa wapenzi ha...\n",
              "914    UONGOZI wa timu ya soka ya Yanga umesema hauna mpango wa kubadilisha kikosi chake katika mchezo wao na Azam FC ambao utachezwa leo usiku kuanzia saa 2:15 wa Kombe la Mapinduzi Timu hizo zinakutana leo katika dimba la Amaan, Azam inashuka ikiwa na pointi moja baada ya mchezo wake wa kwanza kutoka sare na Jamhuri na Yanga wana pointi tatu kufuatia kushinda katika mchezo wake wa juzi na timu ya KVZ na kuongoza Kundi A, ambalo linaundwa na timu hizo.Kauli hiyo imetolewa na Meneja wa timu hiyo, Nadir Haroub Cannavaro alipozungumza na waandishi wa habari mara baada ya mchezo huo dhidi ya KVZ na...\n",
              "158    HALI ya uzazi wa mpango nchini bado iko nyuma, jambo ambalo linahitaji kuwekewa nguvu kubwa, imeelezwa. Akizungumza katika mkutano uliozikutanisha asasi za kiraia, Mkurugenzi wa Miradi wa Taasisi ya Afya Tanzania, Salvatory Hokororo alisema jamii bado haina elimu ya kutosha.“Kulingana na takwimu za Wizara ya Afya, Maendeleo ya Jamii, Jinsia, Wazee na Watoto, tuna asilimia 32 na tungependa kufikia asilimia 60, kwa hiyo kwa takwimu hizi ina maana kwamba bado tuko chini sana,” alisema.Alisema elimu ya uzazi wa mpango haijapewa msukumo mkubwa ndio maana haijasambaa kwa kiasi kikubwa. “Naona h...\n",
              "5122   Katika mchezo wa kwanza, Yanga wakiwa nyumbani walipata ushindi mwembamba wa bao 1-0, hivyo katika mchezo huo wawakilishi hao wa Tanzania Bara, wanahitaji sare au ushindi wa namna yoyote ili kusonga mbele hatua inayofuata.Akizungumza na gazeti hili kabla ya timu kuondoka, msemaji wa Yanga Dismas Ten, alisema wamekwenda Shelisheli wakiwa na uhakika na ushindi kutokana na maandalizi mazuri ambayo wameyafanya tangu mchezo wao wa mwisho wa ligi dhidi ya Majimaji.“Timu imefanya mazoezi ya kutosha na kocha ameridhishwa nayo, lakini pia wachezaji wote wapo fiti kiafya na kiakili kwa ajili ya pam...\n",
              "...                                                                                                                                                                                                                                                                                                                                                                                                                                                                                                                                                                                                                       ...\n",
              "4535   Katika taarifa ya Mwenyekiti wa CUF Taifa, Profesa Ibrahimu Lipumba, aliyoitoa kwa vyombo vya habari jana, amesema katika Bandari ya Dar es Salaam kuna wizi mkubwa wa makontena na vifaa vya magari kama vile taa na radio, uchakachuaji wa mafuta pamoja na urasimu wa kuchelewesha mzigo kutoka bandarini.Udhaifu mwingine aliouzungumzia ni ukubwa wa tozo za bandari na barabara, ugumu wa magari ya mizigo kufika na kutoka bandarini, taratibu zisizotabirika za kutoa mizigo na rushwa iliyokithiri miongoni mwa watendaji wa bandari na barabarani.Mwanasiasa huyo amekumbusha kuwa asilimia 90 ya biashar...\n",
              "4429   Mechi iliyozikutanisha klabu za Simba na Yanga mwishoni mwa wiki iliyopita imeingiza jumla ya Shilingi milioni 342.8. huku Yanga iliyokuwa timu mwenyeji ikipata Sh. milioni 165.Taarifa fupi iliyotolewa na Shirikisho la Soka (TFF) leo Jumatatu kupitia ukurasa wake wa Instagram, imeeleza kuwa katika mchezo huo uliochezwa Jumamosi, wiki iliyopita, jumla ya watazamaji 41,266 waliingia kushuhudia pambano hilo la watani wa jadi.Katika mechi hiyo, Simba iliifunga Yanga 1-0 baada ya Meddie Kagere kuunganisha krosi ya John Bocco Ádebayor'. Mgawanyo huo unaonesha kuwa makato ya kodi ni Sh milioni 5...\n",
              "4693   Katika promosheni hiyo iliyoanza mwishoni mwa Novemba mwaka jana, inayolenga kurudisha sehemu ya pato la kampuni kwa jamii inayoizunguka, wateja 82 wameibuka washindi katika droo za kila siku na kila wiki.Akizungumza baada ya kupata washindi wa wiki ya kwanza ya awamu ya pili ya promosheni , katika droo iliyochezwa juzi, Meneja wa Huduma za Kijamii wa Airtel Tanzania, Hawa Bayuni alisema zaidi ya Sh milioni 324 zilitengwa kama zawadi ya fedha taslimu kwa ajili ya promosheni.“Mwenendo wa washiriki wa Mimi ni Bingwa kuendelea kujikusanyia pointi unazidi kuvutia. Watu wengi wameona kuwa waki...\n",
              "3046   MABINGWA wa zamani wa Tanzania Bara, Yanga jana waliendelea kuchanja mbuga katika Ligi Kuu baada ya kuibuka na ushindi wa mabao 2-1 dhidi ya Kagera Sugar katika mchezo uliofanyika kwenye Uwanja wa Kaitaba mjini Bukoba.Huo ni ushindi wa pili wa Yanga ugenini na Kanda ya Ziwa baada ya wiki wili iliyopita kuibuka na ushindi kama huo dhidi ya Mwadui ya Shinyanga katika mchezo uliofanyika kwenye Uwanja wa Kambarage.Ushindi huo wa jana uliopatikana kupitia kwa wachezaji wake, Heritier Makambo na Justine Kaseke aliyeingia akitokea benchi, umeifanya Yanga kufikisha pointi 32, moja nyuma ya vinara...\n",
              "3488   MABALIKO ya matumizi ya mifuko mbadala kutoka plastiki, yameleta neema kwa wajasiriamali pamoja na wamiliki wa viwanda vilivyokuwa vikizalisha mifuko hiyo. Hali hiyo imetokana na mwitikio uliojitokeza siku chache baada ya kuanza kwa agizo la serikali la utekelezaji wa mifuko mbadala. Pamoja na hayo, katazo la matumizi, usambazaji na utengenezaji wa mifuko ya plastiki, limefanikiwa kwa kiwango kikubwa katika maeneo mbalimbali nchini kutokana na ushirikano mkubwa ulioneshwa na watanzania.Mashuhuda kutoka kwa wazalishaji wakiwemo watengenezaji wa mifuko mbadala hususani Kiwanda cha Kutengene...\n",
              "\n",
              "[5151 rows x 1 columns]"
            ],
            "text/html": [
              "\n",
              "  <div id=\"df-5d1e9bc2-aee5-4f5b-8478-f7d2e71ebe13\" class=\"colab-df-container\">\n",
              "    <div>\n",
              "<style scoped>\n",
              "    .dataframe tbody tr th:only-of-type {\n",
              "        vertical-align: middle;\n",
              "    }\n",
              "\n",
              "    .dataframe tbody tr th {\n",
              "        vertical-align: top;\n",
              "    }\n",
              "\n",
              "    .dataframe thead th {\n",
              "        text-align: right;\n",
              "    }\n",
              "</style>\n",
              "<table border=\"1\" class=\"dataframe\">\n",
              "  <thead>\n",
              "    <tr style=\"text-align: right;\">\n",
              "      <th></th>\n",
              "      <th>content</th>\n",
              "    </tr>\n",
              "  </thead>\n",
              "  <tbody>\n",
              "    <tr>\n",
              "      <th>167</th>\n",
              "      <td>Hayo yalisema juzi na Waziri wa Viwanda na Biashara, Dk Abdallah Kigoda wakati akifungua kikao cha kazi kilichofanyika Dar es Salaam na kuwashirikisha viongozi wa wizara na wakuu wa taasisi zake.Alisema katika kipindi cha mwaka juzi, sekta hiyo ilikua kwa asilimia 8.2, ikilinganishwa na asilimia 7.8 mwaka 2011. Pia, mchango wa sekta hiyo katika pato la taifa, uliongezeka kutoka asilimia 9.7 mwaka 2011 hadi 9.85 mwaka 2012/2013.Alisema mwaka juzi sekta ya viwanda vidogo na biashara ndogo, ilichangia asilimia 27.9 katika pato la taifa na kuajiri watu milioni 5.2 wanaofanyakazi katika jasili...</td>\n",
              "    </tr>\n",
              "    <tr>\n",
              "      <th>3863</th>\n",
              "      <td>['Muogeleaji wa Italia Filippo Magnini amemuokoa Anrea Benedetto ambaye alikuwa akizama kwenye maji siku ya Jumapili.', 'Bingwa wa zamani wa michuano ya kuogelea alijitosa majini baada ya marafiki wa mwanaume huyo kuanza kupiga kelele katika ufukwe wa Cala Sinzias.', 'Magnini aliunyanyua uso wa Benedetto juu ya maji mpaka wahudumu waokoaji walipowasili.', \"''Nilianya nilichotakiwa kufanya,'' mwanamichezo huyo mstaafu alisema.\", 'Ni siku mbili pekee kabla, bwana Benedetto, 45, alikua amefunga ndoa na mpenzi wake wa jinsia moja.', 'Tukio hilo la Jumapili lilishuhudiwa na rafiki wa wapenzi ha...</td>\n",
              "    </tr>\n",
              "    <tr>\n",
              "      <th>914</th>\n",
              "      <td>UONGOZI wa timu ya soka ya Yanga umesema hauna mpango wa kubadilisha kikosi chake katika mchezo wao na Azam FC ambao utachezwa leo usiku kuanzia saa 2:15 wa Kombe la Mapinduzi Timu hizo zinakutana leo katika dimba la Amaan, Azam inashuka ikiwa na pointi moja baada ya mchezo wake wa kwanza kutoka sare na Jamhuri na Yanga wana pointi tatu kufuatia kushinda katika mchezo wake wa juzi na timu ya KVZ na kuongoza Kundi A, ambalo linaundwa na timu hizo.Kauli hiyo imetolewa na Meneja wa timu hiyo, Nadir Haroub Cannavaro alipozungumza na waandishi wa habari mara baada ya mchezo huo dhidi ya KVZ na...</td>\n",
              "    </tr>\n",
              "    <tr>\n",
              "      <th>158</th>\n",
              "      <td>HALI ya uzazi wa mpango nchini bado iko nyuma, jambo ambalo linahitaji kuwekewa nguvu kubwa, imeelezwa. Akizungumza katika mkutano uliozikutanisha asasi za kiraia, Mkurugenzi wa Miradi wa Taasisi ya Afya Tanzania, Salvatory Hokororo alisema jamii bado haina elimu ya kutosha.“Kulingana na takwimu za Wizara ya Afya, Maendeleo ya Jamii, Jinsia, Wazee na Watoto, tuna asilimia 32 na tungependa kufikia asilimia 60, kwa hiyo kwa takwimu hizi ina maana kwamba bado tuko chini sana,” alisema.Alisema elimu ya uzazi wa mpango haijapewa msukumo mkubwa ndio maana haijasambaa kwa kiasi kikubwa. “Naona h...</td>\n",
              "    </tr>\n",
              "    <tr>\n",
              "      <th>5122</th>\n",
              "      <td>Katika mchezo wa kwanza, Yanga wakiwa nyumbani walipata ushindi mwembamba wa bao 1-0, hivyo katika mchezo huo wawakilishi hao wa Tanzania Bara, wanahitaji sare au ushindi wa namna yoyote ili kusonga mbele hatua inayofuata.Akizungumza na gazeti hili kabla ya timu kuondoka, msemaji wa Yanga Dismas Ten, alisema wamekwenda Shelisheli wakiwa na uhakika na ushindi kutokana na maandalizi mazuri ambayo wameyafanya tangu mchezo wao wa mwisho wa ligi dhidi ya Majimaji.“Timu imefanya mazoezi ya kutosha na kocha ameridhishwa nayo, lakini pia wachezaji wote wapo fiti kiafya na kiakili kwa ajili ya pam...</td>\n",
              "    </tr>\n",
              "    <tr>\n",
              "      <th>...</th>\n",
              "      <td>...</td>\n",
              "    </tr>\n",
              "    <tr>\n",
              "      <th>4535</th>\n",
              "      <td>Katika taarifa ya Mwenyekiti wa CUF Taifa, Profesa Ibrahimu Lipumba, aliyoitoa kwa vyombo vya habari jana, amesema katika Bandari ya Dar es Salaam kuna wizi mkubwa wa makontena na vifaa vya magari kama vile taa na radio, uchakachuaji wa mafuta pamoja na urasimu wa kuchelewesha mzigo kutoka bandarini.Udhaifu mwingine aliouzungumzia ni ukubwa wa tozo za bandari na barabara, ugumu wa magari ya mizigo kufika na kutoka bandarini, taratibu zisizotabirika za kutoa mizigo na rushwa iliyokithiri miongoni mwa watendaji wa bandari na barabarani.Mwanasiasa huyo amekumbusha kuwa asilimia 90 ya biashar...</td>\n",
              "    </tr>\n",
              "    <tr>\n",
              "      <th>4429</th>\n",
              "      <td>Mechi iliyozikutanisha klabu za Simba na Yanga mwishoni mwa wiki iliyopita imeingiza jumla ya Shilingi milioni 342.8. huku Yanga iliyokuwa timu mwenyeji ikipata Sh. milioni 165.Taarifa fupi iliyotolewa na Shirikisho la Soka (TFF) leo Jumatatu kupitia ukurasa wake wa Instagram, imeeleza kuwa katika mchezo huo uliochezwa Jumamosi, wiki iliyopita, jumla ya watazamaji 41,266 waliingia kushuhudia pambano hilo la watani wa jadi.Katika mechi hiyo, Simba iliifunga Yanga 1-0 baada ya Meddie Kagere kuunganisha krosi ya John Bocco Ádebayor'. Mgawanyo huo unaonesha kuwa makato ya kodi ni Sh milioni 5...</td>\n",
              "    </tr>\n",
              "    <tr>\n",
              "      <th>4693</th>\n",
              "      <td>Katika promosheni hiyo iliyoanza mwishoni mwa Novemba mwaka jana, inayolenga kurudisha sehemu ya pato la kampuni kwa jamii inayoizunguka, wateja 82 wameibuka washindi katika droo za kila siku na kila wiki.Akizungumza baada ya kupata washindi wa wiki ya kwanza ya awamu ya pili ya promosheni , katika droo iliyochezwa juzi, Meneja wa Huduma za Kijamii wa Airtel Tanzania, Hawa Bayuni alisema zaidi ya Sh milioni 324 zilitengwa kama zawadi ya fedha taslimu kwa ajili ya promosheni.“Mwenendo wa washiriki wa Mimi ni Bingwa kuendelea kujikusanyia pointi unazidi kuvutia. Watu wengi wameona kuwa waki...</td>\n",
              "    </tr>\n",
              "    <tr>\n",
              "      <th>3046</th>\n",
              "      <td>MABINGWA wa zamani wa Tanzania Bara, Yanga jana waliendelea kuchanja mbuga katika Ligi Kuu baada ya kuibuka na ushindi wa mabao 2-1 dhidi ya Kagera Sugar katika mchezo uliofanyika kwenye Uwanja wa Kaitaba mjini Bukoba.Huo ni ushindi wa pili wa Yanga ugenini na Kanda ya Ziwa baada ya wiki wili iliyopita kuibuka na ushindi kama huo dhidi ya Mwadui ya Shinyanga katika mchezo uliofanyika kwenye Uwanja wa Kambarage.Ushindi huo wa jana uliopatikana kupitia kwa wachezaji wake, Heritier Makambo na Justine Kaseke aliyeingia akitokea benchi, umeifanya Yanga kufikisha pointi 32, moja nyuma ya vinara...</td>\n",
              "    </tr>\n",
              "    <tr>\n",
              "      <th>3488</th>\n",
              "      <td>MABALIKO ya matumizi ya mifuko mbadala kutoka plastiki, yameleta neema kwa wajasiriamali pamoja na wamiliki wa viwanda vilivyokuwa vikizalisha mifuko hiyo. Hali hiyo imetokana na mwitikio uliojitokeza siku chache baada ya kuanza kwa agizo la serikali la utekelezaji wa mifuko mbadala. Pamoja na hayo, katazo la matumizi, usambazaji na utengenezaji wa mifuko ya plastiki, limefanikiwa kwa kiwango kikubwa katika maeneo mbalimbali nchini kutokana na ushirikano mkubwa ulioneshwa na watanzania.Mashuhuda kutoka kwa wazalishaji wakiwemo watengenezaji wa mifuko mbadala hususani Kiwanda cha Kutengene...</td>\n",
              "    </tr>\n",
              "  </tbody>\n",
              "</table>\n",
              "<p>5151 rows × 1 columns</p>\n",
              "</div>\n",
              "    <div class=\"colab-df-buttons\">\n",
              "\n",
              "  <div class=\"colab-df-container\">\n",
              "    <button class=\"colab-df-convert\" onclick=\"convertToInteractive('df-5d1e9bc2-aee5-4f5b-8478-f7d2e71ebe13')\"\n",
              "            title=\"Convert this dataframe to an interactive table.\"\n",
              "            style=\"display:none;\">\n",
              "\n",
              "  <svg xmlns=\"http://www.w3.org/2000/svg\" height=\"24px\" viewBox=\"0 -960 960 960\">\n",
              "    <path d=\"M120-120v-720h720v720H120Zm60-500h600v-160H180v160Zm220 220h160v-160H400v160Zm0 220h160v-160H400v160ZM180-400h160v-160H180v160Zm440 0h160v-160H620v160ZM180-180h160v-160H180v160Zm440 0h160v-160H620v160Z\"/>\n",
              "  </svg>\n",
              "    </button>\n",
              "\n",
              "  <style>\n",
              "    .colab-df-container {\n",
              "      display:flex;\n",
              "      gap: 12px;\n",
              "    }\n",
              "\n",
              "    .colab-df-convert {\n",
              "      background-color: #E8F0FE;\n",
              "      border: none;\n",
              "      border-radius: 50%;\n",
              "      cursor: pointer;\n",
              "      display: none;\n",
              "      fill: #1967D2;\n",
              "      height: 32px;\n",
              "      padding: 0 0 0 0;\n",
              "      width: 32px;\n",
              "    }\n",
              "\n",
              "    .colab-df-convert:hover {\n",
              "      background-color: #E2EBFA;\n",
              "      box-shadow: 0px 1px 2px rgba(60, 64, 67, 0.3), 0px 1px 3px 1px rgba(60, 64, 67, 0.15);\n",
              "      fill: #174EA6;\n",
              "    }\n",
              "\n",
              "    .colab-df-buttons div {\n",
              "      margin-bottom: 4px;\n",
              "    }\n",
              "\n",
              "    [theme=dark] .colab-df-convert {\n",
              "      background-color: #3B4455;\n",
              "      fill: #D2E3FC;\n",
              "    }\n",
              "\n",
              "    [theme=dark] .colab-df-convert:hover {\n",
              "      background-color: #434B5C;\n",
              "      box-shadow: 0px 1px 3px 1px rgba(0, 0, 0, 0.15);\n",
              "      filter: drop-shadow(0px 1px 2px rgba(0, 0, 0, 0.3));\n",
              "      fill: #FFFFFF;\n",
              "    }\n",
              "  </style>\n",
              "\n",
              "    <script>\n",
              "      const buttonEl =\n",
              "        document.querySelector('#df-5d1e9bc2-aee5-4f5b-8478-f7d2e71ebe13 button.colab-df-convert');\n",
              "      buttonEl.style.display =\n",
              "        google.colab.kernel.accessAllowed ? 'block' : 'none';\n",
              "\n",
              "      async function convertToInteractive(key) {\n",
              "        const element = document.querySelector('#df-5d1e9bc2-aee5-4f5b-8478-f7d2e71ebe13');\n",
              "        const dataTable =\n",
              "          await google.colab.kernel.invokeFunction('convertToInteractive',\n",
              "                                                    [key], {});\n",
              "        if (!dataTable) return;\n",
              "\n",
              "        const docLinkHtml = 'Like what you see? Visit the ' +\n",
              "          '<a target=\"_blank\" href=https://colab.research.google.com/notebooks/data_table.ipynb>data table notebook</a>'\n",
              "          + ' to learn more about interactive tables.';\n",
              "        element.innerHTML = '';\n",
              "        dataTable['output_type'] = 'display_data';\n",
              "        await google.colab.output.renderOutput(dataTable, element);\n",
              "        const docLink = document.createElement('div');\n",
              "        docLink.innerHTML = docLinkHtml;\n",
              "        element.appendChild(docLink);\n",
              "      }\n",
              "    </script>\n",
              "  </div>\n",
              "\n",
              "\n",
              "<div id=\"df-fb53884e-c32f-4aa1-a2ff-5bec1b6d0166\">\n",
              "  <button class=\"colab-df-quickchart\" onclick=\"quickchart('df-fb53884e-c32f-4aa1-a2ff-5bec1b6d0166')\"\n",
              "            title=\"Suggest charts\"\n",
              "            style=\"display:none;\">\n",
              "\n",
              "<svg xmlns=\"http://www.w3.org/2000/svg\" height=\"24px\"viewBox=\"0 0 24 24\"\n",
              "     width=\"24px\">\n",
              "    <g>\n",
              "        <path d=\"M19 3H5c-1.1 0-2 .9-2 2v14c0 1.1.9 2 2 2h14c1.1 0 2-.9 2-2V5c0-1.1-.9-2-2-2zM9 17H7v-7h2v7zm4 0h-2V7h2v10zm4 0h-2v-4h2v4z\"/>\n",
              "    </g>\n",
              "</svg>\n",
              "  </button>\n",
              "\n",
              "<style>\n",
              "  .colab-df-quickchart {\n",
              "      --bg-color: #E8F0FE;\n",
              "      --fill-color: #1967D2;\n",
              "      --hover-bg-color: #E2EBFA;\n",
              "      --hover-fill-color: #174EA6;\n",
              "      --disabled-fill-color: #AAA;\n",
              "      --disabled-bg-color: #DDD;\n",
              "  }\n",
              "\n",
              "  [theme=dark] .colab-df-quickchart {\n",
              "      --bg-color: #3B4455;\n",
              "      --fill-color: #D2E3FC;\n",
              "      --hover-bg-color: #434B5C;\n",
              "      --hover-fill-color: #FFFFFF;\n",
              "      --disabled-bg-color: #3B4455;\n",
              "      --disabled-fill-color: #666;\n",
              "  }\n",
              "\n",
              "  .colab-df-quickchart {\n",
              "    background-color: var(--bg-color);\n",
              "    border: none;\n",
              "    border-radius: 50%;\n",
              "    cursor: pointer;\n",
              "    display: none;\n",
              "    fill: var(--fill-color);\n",
              "    height: 32px;\n",
              "    padding: 0;\n",
              "    width: 32px;\n",
              "  }\n",
              "\n",
              "  .colab-df-quickchart:hover {\n",
              "    background-color: var(--hover-bg-color);\n",
              "    box-shadow: 0 1px 2px rgba(60, 64, 67, 0.3), 0 1px 3px 1px rgba(60, 64, 67, 0.15);\n",
              "    fill: var(--button-hover-fill-color);\n",
              "  }\n",
              "\n",
              "  .colab-df-quickchart-complete:disabled,\n",
              "  .colab-df-quickchart-complete:disabled:hover {\n",
              "    background-color: var(--disabled-bg-color);\n",
              "    fill: var(--disabled-fill-color);\n",
              "    box-shadow: none;\n",
              "  }\n",
              "\n",
              "  .colab-df-spinner {\n",
              "    border: 2px solid var(--fill-color);\n",
              "    border-color: transparent;\n",
              "    border-bottom-color: var(--fill-color);\n",
              "    animation:\n",
              "      spin 1s steps(1) infinite;\n",
              "  }\n",
              "\n",
              "  @keyframes spin {\n",
              "    0% {\n",
              "      border-color: transparent;\n",
              "      border-bottom-color: var(--fill-color);\n",
              "      border-left-color: var(--fill-color);\n",
              "    }\n",
              "    20% {\n",
              "      border-color: transparent;\n",
              "      border-left-color: var(--fill-color);\n",
              "      border-top-color: var(--fill-color);\n",
              "    }\n",
              "    30% {\n",
              "      border-color: transparent;\n",
              "      border-left-color: var(--fill-color);\n",
              "      border-top-color: var(--fill-color);\n",
              "      border-right-color: var(--fill-color);\n",
              "    }\n",
              "    40% {\n",
              "      border-color: transparent;\n",
              "      border-right-color: var(--fill-color);\n",
              "      border-top-color: var(--fill-color);\n",
              "    }\n",
              "    60% {\n",
              "      border-color: transparent;\n",
              "      border-right-color: var(--fill-color);\n",
              "    }\n",
              "    80% {\n",
              "      border-color: transparent;\n",
              "      border-right-color: var(--fill-color);\n",
              "      border-bottom-color: var(--fill-color);\n",
              "    }\n",
              "    90% {\n",
              "      border-color: transparent;\n",
              "      border-bottom-color: var(--fill-color);\n",
              "    }\n",
              "  }\n",
              "</style>\n",
              "\n",
              "  <script>\n",
              "    async function quickchart(key) {\n",
              "      const quickchartButtonEl =\n",
              "        document.querySelector('#' + key + ' button');\n",
              "      quickchartButtonEl.disabled = true;  // To prevent multiple clicks.\n",
              "      quickchartButtonEl.classList.add('colab-df-spinner');\n",
              "      try {\n",
              "        const charts = await google.colab.kernel.invokeFunction(\n",
              "            'suggestCharts', [key], {});\n",
              "      } catch (error) {\n",
              "        console.error('Error during call to suggestCharts:', error);\n",
              "      }\n",
              "      quickchartButtonEl.classList.remove('colab-df-spinner');\n",
              "      quickchartButtonEl.classList.add('colab-df-quickchart-complete');\n",
              "    }\n",
              "    (() => {\n",
              "      let quickchartButtonEl =\n",
              "        document.querySelector('#df-fb53884e-c32f-4aa1-a2ff-5bec1b6d0166 button');\n",
              "      quickchartButtonEl.style.display =\n",
              "        google.colab.kernel.accessAllowed ? 'block' : 'none';\n",
              "    })();\n",
              "  </script>\n",
              "</div>\n",
              "\n",
              "  <div id=\"id_b78cd3a3-28ae-4cc2-a607-82d9366946b4\">\n",
              "    <style>\n",
              "      .colab-df-generate {\n",
              "        background-color: #E8F0FE;\n",
              "        border: none;\n",
              "        border-radius: 50%;\n",
              "        cursor: pointer;\n",
              "        display: none;\n",
              "        fill: #1967D2;\n",
              "        height: 32px;\n",
              "        padding: 0 0 0 0;\n",
              "        width: 32px;\n",
              "      }\n",
              "\n",
              "      .colab-df-generate:hover {\n",
              "        background-color: #E2EBFA;\n",
              "        box-shadow: 0px 1px 2px rgba(60, 64, 67, 0.3), 0px 1px 3px 1px rgba(60, 64, 67, 0.15);\n",
              "        fill: #174EA6;\n",
              "      }\n",
              "\n",
              "      [theme=dark] .colab-df-generate {\n",
              "        background-color: #3B4455;\n",
              "        fill: #D2E3FC;\n",
              "      }\n",
              "\n",
              "      [theme=dark] .colab-df-generate:hover {\n",
              "        background-color: #434B5C;\n",
              "        box-shadow: 0px 1px 3px 1px rgba(0, 0, 0, 0.15);\n",
              "        filter: drop-shadow(0px 1px 2px rgba(0, 0, 0, 0.3));\n",
              "        fill: #FFFFFF;\n",
              "      }\n",
              "    </style>\n",
              "    <button class=\"colab-df-generate\" onclick=\"generateWithVariable('df_lm')\"\n",
              "            title=\"Generate code using this dataframe.\"\n",
              "            style=\"display:none;\">\n",
              "\n",
              "  <svg xmlns=\"http://www.w3.org/2000/svg\" height=\"24px\"viewBox=\"0 0 24 24\"\n",
              "       width=\"24px\">\n",
              "    <path d=\"M7,19H8.4L18.45,9,17,7.55,7,17.6ZM5,21V16.75L18.45,3.32a2,2,0,0,1,2.83,0l1.4,1.43a1.91,1.91,0,0,1,.58,1.4,1.91,1.91,0,0,1-.58,1.4L9.25,21ZM18.45,9,17,7.55Zm-12,3A5.31,5.31,0,0,0,4.9,8.1,5.31,5.31,0,0,0,1,6.5,5.31,5.31,0,0,0,4.9,4.9,5.31,5.31,0,0,0,6.5,1,5.31,5.31,0,0,0,8.1,4.9,5.31,5.31,0,0,0,12,6.5,5.46,5.46,0,0,0,6.5,12Z\"/>\n",
              "  </svg>\n",
              "    </button>\n",
              "    <script>\n",
              "      (() => {\n",
              "      const buttonEl =\n",
              "        document.querySelector('#id_b78cd3a3-28ae-4cc2-a607-82d9366946b4 button.colab-df-generate');\n",
              "      buttonEl.style.display =\n",
              "        google.colab.kernel.accessAllowed ? 'block' : 'none';\n",
              "\n",
              "      buttonEl.onclick = () => {\n",
              "        google.colab.notebook.generateWithVariable('df_lm');\n",
              "      }\n",
              "      })();\n",
              "    </script>\n",
              "  </div>\n",
              "\n",
              "    </div>\n",
              "  </div>\n"
            ],
            "application/vnd.google.colaboratory.intrinsic+json": {
              "type": "dataframe",
              "variable_name": "df_lm",
              "summary": "{\n  \"name\": \"df_lm\",\n  \"rows\": 5151,\n  \"fields\": [\n    {\n      \"column\": \"content\",\n      \"properties\": {\n        \"dtype\": \"string\",\n        \"num_unique_values\": 5151,\n        \"samples\": [\n          \" KUTOKANA na kuwepo kwa wimbi la vitenge na khanga zisizokidhi viwango vya matakwa ya ubora nchini, Shirika la Viwango Tanzania (TBS), limetangaza kiama kwa wote wanaouza na kusambaza bidhaa hizo, bila ya kufuata sheria ya ubora.Hatua hiyo imekuja baada ya uchunguzi wa gazeti hili, kubaini kuwepo kwa bidhaa hizo zenye ubora na viwango hafifu katika masoko mengi nchini tofauti na matakwa ya viwango kisheria, ambayo ni kiwango namba TZS 165 kwa upande wa khanga na kiwango namba TZS 164 kwa vitenge.Kaimu Mkurugenzi Udhibiti Ubora wa TBS, Lazaro Msasalaga amesema kama zilivyo bidhaa nyingine sokoni, zipo pia zenye ubora hafifu na jukumu lao ni kufanya ukaguzi na kuzibaini kisha kuchukua hatua, ikiwemo kuziteketeza.\\u201cBidhaa zenye ubora hafifu zipo na kila mara tunafanya ukaguzi kwenye maduka hata viwandani na tunapobaini tunawaelimisha lakini pia tunateketeza ili kulinda ubora na tunaendelea kufanya ukaguzi ili kubaini khanga na vitenge visivyo na viwango na ubora unaotakiwa kwa mujibu wa matakwa kisheria,\\u201dalisema Msasalaga.Alisema ni lazima wazalishaji na waagizaji kutoka nje, wazingatie sheria ya sasa ya bidhaa hizo, ambayo imeeleza wazi matakwa ya viwango vinavyopaswa kuzalisha bidhaa husika na kwamba kwenda kinyume na matakwa hayo ni kinyume na utaratibu na lazima sheria ichukue mkondo wake.Akizungumzia viwango vya khanga na vitenge vinavyotambuliwa kisheria nchini na TBS, Ofisa Viwango Mwandamizi Kitengo cha Nguo cha TBS, Paul Manyilika alisema ni lazima mzalishaji wa nguo aina ya khanga, afuate matakwa ya kiwango namba TBS 165 ambacho kinaelezea vitu vinavyopaswa kuwepo katika khanga.Akifafanua, alisema vipimo vya khanga ni kiwango cha chini cha urefu wa khanga kipande kimoja kinapaswa kuwa sentimita 165 na upana wa sentimita 116, ambapo kwa doti moja (vipande viwili)vya khanga inapaswa kuwa na urefu wa sentimita 370 na upana wa sentimita 232.Aidha, khanga hiyo inapaswa kuwa na uzito wa kuanzia gramu 96 na kwamba mzalishaji anaweza kuongeza gramu tano au kupunguza gramu tano na bado sifa ya khanga ikabaki pale pale.Kwa sheria hiyo, uzalishaji wake unapaswa kuwa umetumia malighafi aina ya pamba kwa asilimia 100 na kwamba kama kuna viwanda au mfanyabiashara anauza khanga, tofauti na kiwango hicho anakwenda kinyume na sheria na anapaswa kuchukuliwa hatua.\\u201cKwa sasa hiyo ndiyo sheria yetu ilivyo na ndiyo inayotumika na wazalishaji wote wenye viwanda vya nguo wanaozalisha khanga na vitenge wamepewa mwongozo huo kama kuna uzalishaji haufuati viwango hivyo ni makosa kwani sheria haijabadilika,\\u201dalisema Manyilika.Akizungumzia upande wa kitenge, amesema kiwango cha matakwa kisheria kinachotumika ni namba TZS 164 ambacho kinaelezea ukubwa wa kitenge kiwango cha chini lazima uwe sentimita 200 (mita mbili) kwa kipande kimoja na upana wa sentimita 116 (mita 1.16) na vipande ni lazima vianze viwili.Alisema uzito kwa kitenge, unapaswa uwe kuanzia gramu 115 ambapo mzalishaji anaweza kuongeza gramu tano au kupunguza gramu tano na ni lazima kwa sheria ya sasa kitengenezwe kwa malighafi ya pamba kwa asilimia 100.\\u201cJapo kuna mabadiliko duniani na hasa kwenye utengenezaji wa nguo kwa kuwa hivi sasa zipo nchi zinatengeneza nguo kwa kuchanganya na malighafi, sifu, polista,pamba na vinginezo, ila hata sisi tuko kwenye mchakato wa kuangalia hilo ili sheria hapo baadaye tuone kama itabadilishwa itambue na hizo malighafi nyingine na sio pamba pekee,\\u201dalisema Msasalaga.Awali, akizungumzia khanga na vitenge vinavyoingia kutoka nje ya nchi, Manyilika amesema kisheria havipaswi kuingia na hata kama vikiingia ni lazima vikaguliwe, kuona kama mtengenezaji ametimiza vigezo vya masharti ya viwango vinavyokubalika nchini.\\u201cTunafanya ukaguzi wa mara kwa mara maeneo ya masoko, na tunapozikamata na kuthibitisha hazina ubora tunaziteketeza, lakini nyingi zinapita kwa njia za panya na wanaofanya hivyo ni wafanyabiashara wasio waaminifu ila tutawasaka na kuteketeza bidhaa hizo hafifu,\\u2019\\u2019alisema Manyilika.Uchunguzi uliofanywa na gazeti hili, umebaini kuwa khanga nyingi na vitenge vilivyopo sokoni au zilizokwishanunuliwa na wateja, hazina viwango tajwa na nyingi ni ndogo na nyepesi ukilinganisha na vipimo\",\n          \" MABINGWA wa kihistoria wa Ligi Kuu Bara, Yanga jana walionja ushindi wa kwanza baada ya kuifunga Coastal Union ya Tanga bao 1-0 katika mechi iliyochezwa kwenye uwanja wa Uhuru, Dar es Salaam.Yanga imepata ushindi huo baada ya kupoteza mechi ya kwanza ya ligi kwa bao 1-0 dhidi ya Ruvu Shooting kabla ya kulazimishwa sare ya mabao 3-3 na Polisi Tanzania katikati ya wiki iliyopita.Hata hivyo, pamoja na ushindi huo, Yanga bado inaonekana haina muunganiko mzuri na safu yake ya ushambuliaji ni butu.Bao la ushindi la Yanga lilifungwa na Abdulazizi Makame katika dakika ya 50 akiunganisha mpira wa kona uliochongwa na Mrisho Ngassa kabla ya kutokea piga nikupige langoni mwa Coastal.Katika mechi hiyo Yanga ilikosa mabao kadhaa likiwemo lile la dakika ya 15 ambapo David Molinga alipiga mpira pembeni mwa lango akiunganisha pasi ya Juma Abdul.Coastal nayo ilijibu mashambulizi dakika ya 30 ambapo mchezaji wake, Ayoub Lyanga akiwa kwenye nafasi nzuri ya kufunga alipiga shuti hafifu lililoishia mikononi mwa mlinda mlango wa Yanga, Faruku Shikarlo.Matokeo hayo yanaifanya Yanga ifikishe pointi nne ikiwa nafasi ya 12 kwenye msimamo wa ligi hiyo inayoongozwa na Simba yenye pointi 12\",\n          \"['Makampuni ya kamari yameongeza dau juu ya uwezekano wa kocha wa Manchester United Ole Gunnar Solskjaer kufutwa kazi baada ya kukubali kichapo cha kushtukiza dhidi ya Newcastle. Kocha wa Tottenham Mauricio Pochettino anapigiwa upatu kuchukua mikoba ya Solskjaer. (Sun)', 'Kocha wa Liverpool Jurgen Klopp amedokeza kuwa mrithi wake klabuni hapo atakuwa kocha wa Rangers ya Uskochi Steven Gerrard ama kocha wa zamani wa klabu hiyo forme Kenny Dalglish. ', 'Gerrard na Dalgish wote wameichezea Liverpool kwa mafanikio makubwa. (Star)', 'Beki wa zamani wa Liverpool Glen Johnson amemshauri mshambuliaji wa Tottenham Harry Kane, 26, tkuihama klabu yake na kumpigia chapuo ajiunge na Man City. (Manchester Evening News)', 'Kocha wa Arsenal Unai Emery anapiga hesabu za kumnunua beki wa Wolves Willy Boly. Wolves wanaweza kutaka dau la pauni milioni 20, wao walimnunua nyota huyo raia wa Ivory Coast kwa pauni milioni 10. (Sun).', 'Winga wa zamani wa Manchester United Ryan Giggs anaamini Ole Gunnar Solskjaer anatakiwa kusajili wachezaji wengine watano ili timu irejee kwenye kiwango chake. (Sun)', \\\"Real Madrid wapo tayari kuchuana na Juventus ikatika kinyang'anyiro cha kutaka kumsajili kiungo mkabaji wa Chelsea N'Golo Kante. Vigogo hao wa La Liga wanaweza kulipa dau la uasajili la kufikia pauni milioni 70 ili kumnasa Mfaransa huyo. (Sport, via Mail)\\\", 'Kocha wa Bournemouth Eddie Howe amemtaka mshambuliaji wake Callum Wilson kuzipa kisogo tetesi kuwa Man United inataka kumsajili mwezi Januari. (Daily Echo)', 'Winga wa Chelsea Christian Pulisic,21, anaripotiwa kutaka kuomba kutolewa kwa mkopo kama hatapata muda mwingi zaidi wa kucheza klabuni hapo. (Sun)', 'AC Milan walikuwa kwenye mipango ya kutaka kumfuta kazi kocha Marco Giampaolo wakati wa mapumziko wa mechi dhidi ya Geonasiku ya Jumamosi. Mpaka mapumziko Genoa walikuwa wakiongoza kwa goli moja lakini mchezo uliisha kwa Milan kupata ushindi wa 2-1 (SempreMilan, via Star)', 'Beki wa zamani wa pembeni wa Manchester United Alexander Buttner, 30, amesema alikataa maombi ya usajili kutoka klabu za Uskochi za Celtic na Rangers kabla ya kuamua kutimkia Marekani katika klabu ya New England Revolution. (Goal)', 'Mshambuliaji wa zamani wa Aston Villa Gabriel Agbonlahor, ambaye ndiye mshika rekodi ya kupachika mabao mengi zaidi kwa Villa amefichua kuwa wapinzani wao wa jadi klabu ya Birmingham City  walijaribu kumsajili kutoka klabu ya Villa Park  wakati alipokuwa mdogo. (Birmingham Live)', 'Nyota wa zamani wa Liverpool Steve McMahon amemdokeza kocha Jurgen Klopp kumsajili kiungo wa Leicester City James Maddison kabla ya wapinzani wao . (Stadium Astro, via Express).', 'TETESI ZA SOKA JUMAPILI', 'Leicester City wanamsaka mchezaji atakayeichukua nafasi ya beki wa kushoto mwenye miaka 22 Ben Chilwell, huku Chelsea na Manchester City wakiongoza mvutano wa kumsajili mchezaji huyo wa timu ya taifa ya England. (Sun on Sunday)', 'Manchester United imekana kuwa mchezaji wa kiungo cha kati wa timu ya taifa ya Ufaransa Paul Pogba anaomba  \\u00a3600,000 kwa wiki ili kusaini mkataba mpya na klabu hiyo. Mkataba wa mchezaji huyo mwenye miaka 26 umesalia miaka miwili kabla ya kumalizika. (Sunday Mirror) ', 'United wanataka kumsajili mshambuliaji wa Bournemouth Callum Wilson ifikappo Januari  na wanapanga kumvutia mchezjai huyo mwenye miaka 27 kwa kumpa nafasi ya  kutimiza tuhuma zake za kufuzu katika klabu ya taifa ya England kwa michuano ya Euro 2020. (Sunday Express)', 'Arsenal itapambana na  AC Milan katika kumsjaili mchezaji wa miaka 20 PSV Eindhoven Donyell Malen, na wapo tayari kutoa Euro 56m kwa raia huyo wa Uholanzi. (Tuttosport, kupitia Calciomercato)', 'Meneja wa Sheffield United Chris Wilder ana hamu ya kumsajili mshambuliaji wa Brentford Ollie Watkins na atawasilisha obi la thamani ya  \\u00a315m kwa mchezaji huyo mwenye umri wa miaka 23. (Sun on Sunday)', 'Wakala wa mchezaji wa Tottenham Hotspur na timu ya taifa ya Korea kusini Son Heung-min, mwenye miaka 27, amekataa kuondoa uwezekano wa kuwepo uhamisho katika siku zijazo wa mchezaji huyo kwenda katika timu ya Italia, Napoli(Calciomercato)', \\\"Mshambuliaji wa Red Bull Salzburg Erling Braut Haaland anasema uvumi unaomhusisha na uhamisho kwenda Arsenal na Manchester United 'umechosha'. raia huyo mwenye umri w amiaka 19 kutoka Norway ameongeza kuwa anataka 'kulindwa' dhidi ya uvumi. (Football London) \\\", 'Meneja wa Chelsea Frank Lampard amemuambia winga mwenye umri wa miaka 21 wa Marekani Christian Pulisic - aliyesajiliwa kwa \\u00a353m kutoka Borussia Dortmund - kuwa ada ya uhamisho wake  haitoshi kupa nafasi ya kwenye kikosi cha kwanza katika timu hiyo (Sunday Mirror)', 'Mlinzi wa Brazil David Luiz, mwenye umri wa miaka 32, anasema \\\"hakufikiria mara mbili\\\" kuhusu kujiunga na Arsenal kutoka Chelsea msimu wa joto, kwasababu alikuwa na fikra tofuati ya mchezo huo katika siku zijazo kwa Lampard. (Metro)', 'Aliyekuwa meneja wa Arsenal, Arsene Wenger anafikiria kuhusu kuichukua nafasi ya kiufundi  katika shirikisho la soka duniani Fifa, lakini raia huyo wa Ufaransa mwenye umri wamiaka 68 haondoshi uwezekano wa yeye kurudi katika jukumu la usimamizi wa timu. (beIN Sports)', 'Mchezaji wa kiungo cha kati wa Newcastle United Sean Longstaff, mwenye umri wa miaka 21, ameambiwa asahahu ndoto yake ya uhamisho wa \\u00a340m kwenda Manchester United. (Sunday Mirror)', 'Meneja wa Manchester City Pep Guardiola anasema shinikizo la kushinda mataji linafanya kuwa vigumu kuwachezesha wachezaji chipukizi kutoka chuo cha mafunzo cha klabu hiyo. (Sunday Telegraph)', 'Aliyekuwa kapteni wa Arsenalna mlinzi Laurent Koscielny anasema aliiwacha Gunners akiwa anajivuni. raia huyo wa Ufaransa mwenye umri wa miaka 34 alijiunga na Bordeaux msimu wa joto.(Mail on Sunday)', 'Kipa wa Manchester United David de Gea ana hamu ya kuinunua klabu ya divisheni ya pili Uhispania Elche huku mchezaji huyo wa kimataifa mwenye umri wa miaka 28 akitakiwa kulipa \\u00a316m ili makubaliano hayo yafanikiwe. (Sport)']\"\n        ],\n        \"semantic_type\": \"\",\n        \"description\": \"\"\n      }\n    }\n  ]\n}"
            }
          },
          "metadata": {},
          "execution_count": 10
        }
      ],
      "source": [
        "df_lm"
      ]
    },
    {
      "cell_type": "code",
      "execution_count": null,
      "metadata": {
        "id": "IJbLIpLmozl2",
        "colab": {
          "base_uri": "https://localhost:8080/",
          "height": 17
        },
        "outputId": "d6dab163-f70e-4582-b697-14ec3ae0b3eb"
      },
      "outputs": [
        {
          "output_type": "display_data",
          "data": {
            "text/plain": [
              "<IPython.core.display.HTML object>"
            ],
            "text/html": [
              "\n",
              "<style>\n",
              "    /* Turns off some styling */\n",
              "    progress {\n",
              "        /* gets rid of default border in Firefox and Opera. */\n",
              "        border: none;\n",
              "        /* Needs to be in here for Safari polyfill so background images work as expected. */\n",
              "        background-size: auto;\n",
              "    }\n",
              "    progress:not([value]), progress:not([value])::-webkit-progress-bar {\n",
              "        background: repeating-linear-gradient(45deg, #7e7e7e, #7e7e7e 10px, #5c5c5c 10px, #5c5c5c 20px);\n",
              "    }\n",
              "    .progress-bar-interrupted, .progress-bar-interrupted::-webkit-progress-bar {\n",
              "        background: #F44336;\n",
              "    }\n",
              "</style>\n"
            ]
          },
          "metadata": {}
        },
        {
          "output_type": "display_data",
          "data": {
            "text/plain": [
              "<IPython.core.display.HTML object>"
            ],
            "text/html": []
          },
          "metadata": {}
        }
      ],
      "source": [
        "# Creating the dataloader.\n",
        "dls = dblock.dataloaders(df_lm, bs=4)"
      ]
    },
    {
      "cell_type": "code",
      "execution_count": null,
      "metadata": {
        "id": "44moMYBHGKTA",
        "colab": {
          "base_uri": "https://localhost:8080/",
          "height": 268
        },
        "outputId": "7bf34486-9abf-47ae-d8d0-8f601a1a1fe1"
      },
      "outputs": [
        {
          "output_type": "display_data",
          "data": {
            "text/plain": [
              "<IPython.core.display.HTML object>"
            ],
            "text/html": [
              "<table border=\"1\" class=\"dataframe\">\n",
              "  <thead>\n",
              "    <tr style=\"text-align: right;\">\n",
              "      <th></th>\n",
              "      <th>text</th>\n",
              "      <th>text_</th>\n",
              "    </tr>\n",
              "  </thead>\n",
              "  <tbody>\n",
              "    <tr>\n",
              "      <th>0</th>\n",
              "      <td>xxbos [ ' mkufunzi wa xxmaj man xxmaj united xxmaj ole xxmaj gunnar xxmaj solskjaer anahofia kwamba hatma ya kazi yake itakuwa haijulikani iwapo timu yake itashindwa kwa mabao mengi ugenini xxunk ) ' , ' baadhi ya wachezaji wamepoteza matumaini na raia huyo wa xxmaj norway anaamini baadhi yao wamekataa kumsikiliza . ( sun ) ' , ' solskjaer anahitaji kitita cha £ 300 m kutumia katika dirisha lijalo la uhamisho</td>\n",
              "      <td>[ ' mkufunzi wa xxmaj man xxmaj united xxmaj ole xxmaj gunnar xxmaj solskjaer anahofia kwamba hatma ya kazi yake itakuwa haijulikani iwapo timu yake itashindwa kwa mabao mengi ugenini xxunk ) ' , ' baadhi ya wachezaji wamepoteza matumaini na raia huyo wa xxmaj norway anaamini baadhi yao wamekataa kumsikiliza . ( sun ) ' , ' solskjaer anahitaji kitita cha £ 300 m kutumia katika dirisha lijalo la uhamisho na</td>\n",
              "    </tr>\n",
              "    <tr>\n",
              "      <th>1</th>\n",
              "      <td>unga wa xxunk kauli hiyo xxmaj ikulu , xxmaj dar es xxmaj salaam jana wakati akishuhudia makabidhiano ya fedha taslimu xxmaj sh milioni 170 za xxmaj tanzania , xxmaj sh xxunk za xxmaj kenya na xxmaj dola za xxmaj marekani xxunk zilizoibwa na majambazi mwezi xxmaj mei mwaka 2004 baada ya kuvamia xxmaj benki ya xxup nbc xxmaj tawi la xxmaj moshi pamoja na kilogramu 35.34 za dhahabu xxunk kutoka xxmaj tanzania</td>\n",
              "      <td>wa xxunk kauli hiyo xxmaj ikulu , xxmaj dar es xxmaj salaam jana wakati akishuhudia makabidhiano ya fedha taslimu xxmaj sh milioni 170 za xxmaj tanzania , xxmaj sh xxunk za xxmaj kenya na xxmaj dola za xxmaj marekani xxunk zilizoibwa na majambazi mwezi xxmaj mei mwaka 2004 baada ya kuvamia xxmaj benki ya xxup nbc xxmaj tawi la xxmaj moshi pamoja na kilogramu 35.34 za dhahabu xxunk kutoka xxmaj tanzania na</td>\n",
              "    </tr>\n",
              "  </tbody>\n",
              "</table>"
            ]
          },
          "metadata": {}
        }
      ],
      "source": [
        " dls.show_batch(max_n=2)"
      ]
    },
    {
      "cell_type": "code",
      "execution_count": null,
      "metadata": {
        "id": "8Ua8pmHEEP5N"
      },
      "outputs": [],
      "source": [
        "learn = language_model_learner(dls, AWD_LSTM, drop_mult=0.3, metrics=[accuracy]).to_fp16()"
      ]
    },
    {
      "cell_type": "code",
      "execution_count": null,
      "metadata": {
        "id": "qYa_9dZ1vEHd",
        "colab": {
          "base_uri": "https://localhost:8080/",
          "height": 472
        },
        "outputId": "27e9add2-92b8-4cb7-ad3e-1e53ddb8ddd5"
      },
      "outputs": [
        {
          "output_type": "display_data",
          "data": {
            "text/plain": [
              "<IPython.core.display.HTML object>"
            ],
            "text/html": [
              "\n",
              "<style>\n",
              "    /* Turns off some styling */\n",
              "    progress {\n",
              "        /* gets rid of default border in Firefox and Opera. */\n",
              "        border: none;\n",
              "        /* Needs to be in here for Safari polyfill so background images work as expected. */\n",
              "        background-size: auto;\n",
              "    }\n",
              "    progress:not([value]), progress:not([value])::-webkit-progress-bar {\n",
              "        background: repeating-linear-gradient(45deg, #7e7e7e, #7e7e7e 10px, #5c5c5c 10px, #5c5c5c 20px);\n",
              "    }\n",
              "    .progress-bar-interrupted, .progress-bar-interrupted::-webkit-progress-bar {\n",
              "        background: #F44336;\n",
              "    }\n",
              "</style>\n"
            ]
          },
          "metadata": {}
        },
        {
          "output_type": "display_data",
          "data": {
            "text/plain": [
              "<IPython.core.display.HTML object>"
            ],
            "text/html": []
          },
          "metadata": {}
        },
        {
          "output_type": "execute_result",
          "data": {
            "text/plain": [
              "SuggestedLRs(valley=0.02290867641568184)"
            ]
          },
          "metadata": {},
          "execution_count": 161
        },
        {
          "output_type": "display_data",
          "data": {
            "text/plain": [
              "<Figure size 640x480 with 1 Axes>"
            ],
            "image/png": "[encoded data removed]"
          },
          "metadata": {}
        }
      ],
      "source": [
        "learn.lr_find()"
      ]
    },
    {
      "cell_type": "code",
      "execution_count": null,
      "metadata": {
        "id": "YE3likAPETlz",
        "colab": {
          "base_uri": "https://localhost:8080/",
          "height": 491
        },
        "outputId": "182a3adf-e5bb-43a5-b738-513df5ea7de7"
      },
      "outputs": [
        {
          "output_type": "display_data",
          "data": {
            "text/plain": [
              "<IPython.core.display.HTML object>"
            ],
            "text/html": [
              "\n",
              "<style>\n",
              "    /* Turns off some styling */\n",
              "    progress {\n",
              "        /* gets rid of default border in Firefox and Opera. */\n",
              "        border: none;\n",
              "        /* Needs to be in here for Safari polyfill so background images work as expected. */\n",
              "        background-size: auto;\n",
              "    }\n",
              "    progress:not([value]), progress:not([value])::-webkit-progress-bar {\n",
              "        background: repeating-linear-gradient(45deg, #7e7e7e, #7e7e7e 10px, #5c5c5c 10px, #5c5c5c 20px);\n",
              "    }\n",
              "    .progress-bar-interrupted, .progress-bar-interrupted::-webkit-progress-bar {\n",
              "        background: #F44336;\n",
              "    }\n",
              "</style>\n"
            ]
          },
          "metadata": {}
        },
        {
          "output_type": "display_data",
          "data": {
            "text/plain": [
              "<IPython.core.display.HTML object>"
            ],
            "text/html": [
              "<table border=\"1\" class=\"dataframe\">\n",
              "  <thead>\n",
              "    <tr style=\"text-align: left;\">\n",
              "      <th>epoch</th>\n",
              "      <th>train_loss</th>\n",
              "      <th>valid_loss</th>\n",
              "      <th>accuracy</th>\n",
              "      <th>time</th>\n",
              "    </tr>\n",
              "  </thead>\n",
              "  <tbody>\n",
              "    <tr>\n",
              "      <td>0</td>\n",
              "      <td>6.813432</td>\n",
              "      <td>6.658162</td>\n",
              "      <td>0.266858</td>\n",
              "      <td>01:15</td>\n",
              "    </tr>\n",
              "  </tbody>\n",
              "</table>"
            ]
          },
          "metadata": {}
        },
        {
          "output_type": "display_data",
          "data": {
            "text/plain": [
              "<IPython.core.display.HTML object>"
            ],
            "text/html": [
              "\n",
              "<style>\n",
              "    /* Turns off some styling */\n",
              "    progress {\n",
              "        /* gets rid of default border in Firefox and Opera. */\n",
              "        border: none;\n",
              "        /* Needs to be in here for Safari polyfill so background images work as expected. */\n",
              "        background-size: auto;\n",
              "    }\n",
              "    progress:not([value]), progress:not([value])::-webkit-progress-bar {\n",
              "        background: repeating-linear-gradient(45deg, #7e7e7e, #7e7e7e 10px, #5c5c5c 10px, #5c5c5c 20px);\n",
              "    }\n",
              "    .progress-bar-interrupted, .progress-bar-interrupted::-webkit-progress-bar {\n",
              "        background: #F44336;\n",
              "    }\n",
              "</style>\n"
            ]
          },
          "metadata": {}
        },
        {
          "output_type": "display_data",
          "data": {
            "text/plain": [
              "<IPython.core.display.HTML object>"
            ],
            "text/html": [
              "\n",
              "    <div>\n",
              "      <progress value='1' class='' max='5' style='width:300px; height:20px; vertical-align: middle;'></progress>\n",
              "      20.00% [1/5 01:18&lt;05:13]\n",
              "    </div>\n",
              "    \n",
              "<table border=\"1\" class=\"dataframe\">\n",
              "  <thead>\n",
              "    <tr style=\"text-align: left;\">\n",
              "      <th>epoch</th>\n",
              "      <th>train_loss</th>\n",
              "      <th>valid_loss</th>\n",
              "      <th>accuracy</th>\n",
              "      <th>time</th>\n",
              "    </tr>\n",
              "  </thead>\n",
              "  <tbody>\n",
              "    <tr>\n",
              "      <td>0</td>\n",
              "      <td>6.762266</td>\n",
              "      <td>6.574886</td>\n",
              "      <td>0.275257</td>\n",
              "      <td>01:18</td>\n",
              "    </tr>\n",
              "  </tbody>\n",
              "</table><p>\n",
              "\n",
              "    <div>\n",
              "      <progress value='98' class='' max='399' style='width:300px; height:20px; vertical-align: middle;'></progress>\n",
              "      24.56% [98/399 00:17&lt;00:53 6.7528]\n",
              "    </div>\n",
              "    "
            ]
          },
          "metadata": {}
        },
        {
          "output_type": "error",
          "ename": "KeyboardInterrupt",
          "evalue": "",
          "traceback": [
            "\u001b[0;31m---------------------------------------------------------------------------\u001b[0m",
            "\u001b[0;31mKeyboardInterrupt\u001b[0m                         Traceback (most recent call last)",
            "\u001b[0;32m<ipython-input-163-79e986f7493c>\u001b[0m in \u001b[0;36m<cell line: 2>\u001b[0;34m()\u001b[0m\n\u001b[1;32m      1\u001b[0m \u001b[0;31m# train the learner object\u001b[0m\u001b[0;34m\u001b[0m\u001b[0;34m\u001b[0m\u001b[0m\n\u001b[0;32m----> 2\u001b[0;31m \u001b[0mlearn\u001b[0m\u001b[0;34m.\u001b[0m\u001b[0mfine_tune\u001b[0m\u001b[0;34m(\u001b[0m\u001b[0;36m5\u001b[0m\u001b[0;34m,\u001b[0m \u001b[0;36m5e-2\u001b[0m\u001b[0;34m)\u001b[0m\u001b[0;34m\u001b[0m\u001b[0;34m\u001b[0m\u001b[0m\n\u001b[0m",
            "\u001b[0;32m/usr/local/lib/python3.10/dist-packages/fastai/callback/schedule.py\u001b[0m in \u001b[0;36mfine_tune\u001b[0;34m(self, epochs, base_lr, freeze_epochs, lr_mult, pct_start, div, **kwargs)\u001b[0m\n\u001b[1;32m    166\u001b[0m     \u001b[0mbase_lr\u001b[0m \u001b[0;34m/=\u001b[0m \u001b[0;36m2\u001b[0m\u001b[0;34m\u001b[0m\u001b[0;34m\u001b[0m\u001b[0m\n\u001b[1;32m    167\u001b[0m     \u001b[0mself\u001b[0m\u001b[0;34m.\u001b[0m\u001b[0munfreeze\u001b[0m\u001b[0;34m(\u001b[0m\u001b[0;34m)\u001b[0m\u001b[0;34m\u001b[0m\u001b[0;34m\u001b[0m\u001b[0m\n\u001b[0;32m--> 168\u001b[0;31m     \u001b[0mself\u001b[0m\u001b[0;34m.\u001b[0m\u001b[0mfit_one_cycle\u001b[0m\u001b[0;34m(\u001b[0m\u001b[0mepochs\u001b[0m\u001b[0;34m,\u001b[0m \u001b[0mslice\u001b[0m\u001b[0;34m(\u001b[0m\u001b[0mbase_lr\u001b[0m\u001b[0;34m/\u001b[0m\u001b[0mlr_mult\u001b[0m\u001b[0;34m,\u001b[0m \u001b[0mbase_lr\u001b[0m\u001b[0;34m)\u001b[0m\u001b[0;34m,\u001b[0m \u001b[0mpct_start\u001b[0m\u001b[0;34m=\u001b[0m\u001b[0mpct_start\u001b[0m\u001b[0;34m,\u001b[0m \u001b[0mdiv\u001b[0m\u001b[0;34m=\u001b[0m\u001b[0mdiv\u001b[0m\u001b[0;34m,\u001b[0m \u001b[0;34m**\u001b[0m\u001b[0mkwargs\u001b[0m\u001b[0;34m)\u001b[0m\u001b[0;34m\u001b[0m\u001b[0;34m\u001b[0m\u001b[0m\n\u001b[0m\u001b[1;32m    169\u001b[0m \u001b[0;34m\u001b[0m\u001b[0m\n\u001b[1;32m    170\u001b[0m \u001b[0;31m# %% ../../nbs/14_callback.schedule.ipynb 67\u001b[0m\u001b[0;34m\u001b[0m\u001b[0;34m\u001b[0m\u001b[0m\n",
            "\u001b[0;32m/usr/local/lib/python3.10/dist-packages/fastai/callback/schedule.py\u001b[0m in \u001b[0;36mfit_one_cycle\u001b[0;34m(self, n_epoch, lr_max, div, div_final, pct_start, wd, moms, cbs, reset_opt, start_epoch)\u001b[0m\n\u001b[1;32m    117\u001b[0m     scheds = {'lr': combined_cos(pct_start, lr_max/div, lr_max, lr_max/div_final),\n\u001b[1;32m    118\u001b[0m               'mom': combined_cos(pct_start, *(self.moms if moms is None else moms))}\n\u001b[0;32m--> 119\u001b[0;31m     \u001b[0mself\u001b[0m\u001b[0;34m.\u001b[0m\u001b[0mfit\u001b[0m\u001b[0;34m(\u001b[0m\u001b[0mn_epoch\u001b[0m\u001b[0;34m,\u001b[0m \u001b[0mcbs\u001b[0m\u001b[0;34m=\u001b[0m\u001b[0mParamScheduler\u001b[0m\u001b[0;34m(\u001b[0m\u001b[0mscheds\u001b[0m\u001b[0;34m)\u001b[0m\u001b[0;34m+\u001b[0m\u001b[0mL\u001b[0m\u001b[0;34m(\u001b[0m\u001b[0mcbs\u001b[0m\u001b[0;34m)\u001b[0m\u001b[0;34m,\u001b[0m \u001b[0mreset_opt\u001b[0m\u001b[0;34m=\u001b[0m\u001b[0mreset_opt\u001b[0m\u001b[0;34m,\u001b[0m \u001b[0mwd\u001b[0m\u001b[0;34m=\u001b[0m\u001b[0mwd\u001b[0m\u001b[0;34m,\u001b[0m \u001b[0mstart_epoch\u001b[0m\u001b[0;34m=\u001b[0m\u001b[0mstart_epoch\u001b[0m\u001b[0;34m)\u001b[0m\u001b[0;34m\u001b[0m\u001b[0;34m\u001b[0m\u001b[0m\n\u001b[0m\u001b[1;32m    120\u001b[0m \u001b[0;34m\u001b[0m\u001b[0m\n\u001b[1;32m    121\u001b[0m \u001b[0;31m# %% ../../nbs/14_callback.schedule.ipynb 50\u001b[0m\u001b[0;34m\u001b[0m\u001b[0;34m\u001b[0m\u001b[0m\n",
            "\u001b[0;32m/usr/local/lib/python3.10/dist-packages/fastai/learner.py\u001b[0m in \u001b[0;36mfit\u001b[0;34m(self, n_epoch, lr, wd, cbs, reset_opt, start_epoch)\u001b[0m\n\u001b[1;32m    262\u001b[0m             \u001b[0mself\u001b[0m\u001b[0;34m.\u001b[0m\u001b[0mopt\u001b[0m\u001b[0;34m.\u001b[0m\u001b[0mset_hypers\u001b[0m\u001b[0;34m(\u001b[0m\u001b[0mlr\u001b[0m\u001b[0;34m=\u001b[0m\u001b[0mself\u001b[0m\u001b[0;34m.\u001b[0m\u001b[0mlr\u001b[0m \u001b[0;32mif\u001b[0m \u001b[0mlr\u001b[0m \u001b[0;32mis\u001b[0m \u001b[0;32mNone\u001b[0m \u001b[0;32melse\u001b[0m \u001b[0mlr\u001b[0m\u001b[0;34m)\u001b[0m\u001b[0;34m\u001b[0m\u001b[0;34m\u001b[0m\u001b[0m\n\u001b[1;32m    263\u001b[0m             \u001b[0mself\u001b[0m\u001b[0;34m.\u001b[0m\u001b[0mn_epoch\u001b[0m \u001b[0;34m=\u001b[0m \u001b[0mn_epoch\u001b[0m\u001b[0;34m\u001b[0m\u001b[0;34m\u001b[0m\u001b[0m\n\u001b[0;32m--> 264\u001b[0;31m             \u001b[0mself\u001b[0m\u001b[0;34m.\u001b[0m\u001b[0m_with_events\u001b[0m\u001b[0;34m(\u001b[0m\u001b[0mself\u001b[0m\u001b[0;34m.\u001b[0m\u001b[0m_do_fit\u001b[0m\u001b[0;34m,\u001b[0m \u001b[0;34m'fit'\u001b[0m\u001b[0;34m,\u001b[0m \u001b[0mCancelFitException\u001b[0m\u001b[0;34m,\u001b[0m \u001b[0mself\u001b[0m\u001b[0;34m.\u001b[0m\u001b[0m_end_cleanup\u001b[0m\u001b[0;34m)\u001b[0m\u001b[0;34m\u001b[0m\u001b[0;34m\u001b[0m\u001b[0m\n\u001b[0m\u001b[1;32m    265\u001b[0m \u001b[0;34m\u001b[0m\u001b[0m\n\u001b[1;32m    266\u001b[0m     \u001b[0;32mdef\u001b[0m \u001b[0m_end_cleanup\u001b[0m\u001b[0;34m(\u001b[0m\u001b[0mself\u001b[0m\u001b[0;34m)\u001b[0m\u001b[0;34m:\u001b[0m \u001b[0mself\u001b[0m\u001b[0;34m.\u001b[0m\u001b[0mdl\u001b[0m\u001b[0;34m,\u001b[0m\u001b[0mself\u001b[0m\u001b[0;34m.\u001b[0m\u001b[0mxb\u001b[0m\u001b[0;34m,\u001b[0m\u001b[0mself\u001b[0m\u001b[0;34m.\u001b[0m\u001b[0myb\u001b[0m\u001b[0;34m,\u001b[0m\u001b[0mself\u001b[0m\u001b[0;34m.\u001b[0m\u001b[0mpred\u001b[0m\u001b[0;34m,\u001b[0m\u001b[0mself\u001b[0m\u001b[0;34m.\u001b[0m\u001b[0mloss\u001b[0m \u001b[0;34m=\u001b[0m \u001b[0;32mNone\u001b[0m\u001b[0;34m,\u001b[0m\u001b[0;34m(\u001b[0m\u001b[0;32mNone\u001b[0m\u001b[0;34m,\u001b[0m\u001b[0;34m)\u001b[0m\u001b[0;34m,\u001b[0m\u001b[0;34m(\u001b[0m\u001b[0;32mNone\u001b[0m\u001b[0;34m,\u001b[0m\u001b[0;34m)\u001b[0m\u001b[0;34m,\u001b[0m\u001b[0;32mNone\u001b[0m\u001b[0;34m,\u001b[0m\u001b[0;32mNone\u001b[0m\u001b[0;34m\u001b[0m\u001b[0;34m\u001b[0m\u001b[0m\n",
            "\u001b[0;32m/usr/local/lib/python3.10/dist-packages/fastai/learner.py\u001b[0m in \u001b[0;36m_with_events\u001b[0;34m(self, f, event_type, ex, final)\u001b[0m\n\u001b[1;32m    197\u001b[0m \u001b[0;34m\u001b[0m\u001b[0m\n\u001b[1;32m    198\u001b[0m     \u001b[0;32mdef\u001b[0m \u001b[0m_with_events\u001b[0m\u001b[0;34m(\u001b[0m\u001b[0mself\u001b[0m\u001b[0;34m,\u001b[0m \u001b[0mf\u001b[0m\u001b[0;34m,\u001b[0m \u001b[0mevent_type\u001b[0m\u001b[0;34m,\u001b[0m \u001b[0mex\u001b[0m\u001b[0;34m,\u001b[0m \u001b[0mfinal\u001b[0m\u001b[0;34m=\u001b[0m\u001b[0mnoop\u001b[0m\u001b[0;34m)\u001b[0m\u001b[0;34m:\u001b[0m\u001b[0;34m\u001b[0m\u001b[0;34m\u001b[0m\u001b[0m\n\u001b[0;32m--> 199\u001b[0;31m         \u001b[0;32mtry\u001b[0m\u001b[0;34m:\u001b[0m \u001b[0mself\u001b[0m\u001b[0;34m(\u001b[0m\u001b[0;34mf'before_{event_type}'\u001b[0m\u001b[0;34m)\u001b[0m\u001b[0;34m;\u001b[0m  \u001b[0mf\u001b[0m\u001b[0;34m(\u001b[0m\u001b[0;34m)\u001b[0m\u001b[0;34m\u001b[0m\u001b[0;34m\u001b[0m\u001b[0m\n\u001b[0m\u001b[1;32m    200\u001b[0m         \u001b[0;32mexcept\u001b[0m \u001b[0mex\u001b[0m\u001b[0;34m:\u001b[0m \u001b[0mself\u001b[0m\u001b[0;34m(\u001b[0m\u001b[0;34mf'after_cancel_{event_type}'\u001b[0m\u001b[0;34m)\u001b[0m\u001b[0;34m\u001b[0m\u001b[0;34m\u001b[0m\u001b[0m\n\u001b[1;32m    201\u001b[0m         \u001b[0mself\u001b[0m\u001b[0;34m(\u001b[0m\u001b[0;34mf'after_{event_type}'\u001b[0m\u001b[0;34m)\u001b[0m\u001b[0;34m;\u001b[0m  \u001b[0mfinal\u001b[0m\u001b[0;34m(\u001b[0m\u001b[0;34m)\u001b[0m\u001b[0;34m\u001b[0m\u001b[0;34m\u001b[0m\u001b[0m\n",
            "\u001b[0;32m/usr/local/lib/python3.10/dist-packages/fastai/learner.py\u001b[0m in \u001b[0;36m_do_fit\u001b[0;34m(self)\u001b[0m\n\u001b[1;32m    251\u001b[0m         \u001b[0;32mfor\u001b[0m \u001b[0mepoch\u001b[0m \u001b[0;32min\u001b[0m \u001b[0mrange\u001b[0m\u001b[0;34m(\u001b[0m\u001b[0mself\u001b[0m\u001b[0;34m.\u001b[0m\u001b[0mn_epoch\u001b[0m\u001b[0;34m)\u001b[0m\u001b[0;34m:\u001b[0m\u001b[0;34m\u001b[0m\u001b[0;34m\u001b[0m\u001b[0m\n\u001b[1;32m    252\u001b[0m             \u001b[0mself\u001b[0m\u001b[0;34m.\u001b[0m\u001b[0mepoch\u001b[0m\u001b[0;34m=\u001b[0m\u001b[0mepoch\u001b[0m\u001b[0;34m\u001b[0m\u001b[0;34m\u001b[0m\u001b[0m\n\u001b[0;32m--> 253\u001b[0;31m             \u001b[0mself\u001b[0m\u001b[0;34m.\u001b[0m\u001b[0m_with_events\u001b[0m\u001b[0;34m(\u001b[0m\u001b[0mself\u001b[0m\u001b[0;34m.\u001b[0m\u001b[0m_do_epoch\u001b[0m\u001b[0;34m,\u001b[0m \u001b[0;34m'epoch'\u001b[0m\u001b[0;34m,\u001b[0m \u001b[0mCancelEpochException\u001b[0m\u001b[0;34m)\u001b[0m\u001b[0;34m\u001b[0m\u001b[0;34m\u001b[0m\u001b[0m\n\u001b[0m\u001b[1;32m    254\u001b[0m \u001b[0;34m\u001b[0m\u001b[0m\n\u001b[1;32m    255\u001b[0m     \u001b[0;32mdef\u001b[0m \u001b[0mfit\u001b[0m\u001b[0;34m(\u001b[0m\u001b[0mself\u001b[0m\u001b[0;34m,\u001b[0m \u001b[0mn_epoch\u001b[0m\u001b[0;34m,\u001b[0m \u001b[0mlr\u001b[0m\u001b[0;34m=\u001b[0m\u001b[0;32mNone\u001b[0m\u001b[0;34m,\u001b[0m \u001b[0mwd\u001b[0m\u001b[0;34m=\u001b[0m\u001b[0;32mNone\u001b[0m\u001b[0;34m,\u001b[0m \u001b[0mcbs\u001b[0m\u001b[0;34m=\u001b[0m\u001b[0;32mNone\u001b[0m\u001b[0;34m,\u001b[0m \u001b[0mreset_opt\u001b[0m\u001b[0;34m=\u001b[0m\u001b[0;32mFalse\u001b[0m\u001b[0;34m,\u001b[0m \u001b[0mstart_epoch\u001b[0m\u001b[0;34m=\u001b[0m\u001b[0;36m0\u001b[0m\u001b[0;34m)\u001b[0m\u001b[0;34m:\u001b[0m\u001b[0;34m\u001b[0m\u001b[0;34m\u001b[0m\u001b[0m\n",
            "\u001b[0;32m/usr/local/lib/python3.10/dist-packages/fastai/learner.py\u001b[0m in \u001b[0;36m_with_events\u001b[0;34m(self, f, event_type, ex, final)\u001b[0m\n\u001b[1;32m    197\u001b[0m \u001b[0;34m\u001b[0m\u001b[0m\n\u001b[1;32m    198\u001b[0m     \u001b[0;32mdef\u001b[0m \u001b[0m_with_events\u001b[0m\u001b[0;34m(\u001b[0m\u001b[0mself\u001b[0m\u001b[0;34m,\u001b[0m \u001b[0mf\u001b[0m\u001b[0;34m,\u001b[0m \u001b[0mevent_type\u001b[0m\u001b[0;34m,\u001b[0m \u001b[0mex\u001b[0m\u001b[0;34m,\u001b[0m \u001b[0mfinal\u001b[0m\u001b[0;34m=\u001b[0m\u001b[0mnoop\u001b[0m\u001b[0;34m)\u001b[0m\u001b[0;34m:\u001b[0m\u001b[0;34m\u001b[0m\u001b[0;34m\u001b[0m\u001b[0m\n\u001b[0;32m--> 199\u001b[0;31m         \u001b[0;32mtry\u001b[0m\u001b[0;34m:\u001b[0m \u001b[0mself\u001b[0m\u001b[0;34m(\u001b[0m\u001b[0;34mf'before_{event_type}'\u001b[0m\u001b[0;34m)\u001b[0m\u001b[0;34m;\u001b[0m  \u001b[0mf\u001b[0m\u001b[0;34m(\u001b[0m\u001b[0;34m)\u001b[0m\u001b[0;34m\u001b[0m\u001b[0;34m\u001b[0m\u001b[0m\n\u001b[0m\u001b[1;32m    200\u001b[0m         \u001b[0;32mexcept\u001b[0m \u001b[0mex\u001b[0m\u001b[0;34m:\u001b[0m \u001b[0mself\u001b[0m\u001b[0;34m(\u001b[0m\u001b[0;34mf'after_cancel_{event_type}'\u001b[0m\u001b[0;34m)\u001b[0m\u001b[0;34m\u001b[0m\u001b[0;34m\u001b[0m\u001b[0m\n\u001b[1;32m    201\u001b[0m         \u001b[0mself\u001b[0m\u001b[0;34m(\u001b[0m\u001b[0;34mf'after_{event_type}'\u001b[0m\u001b[0;34m)\u001b[0m\u001b[0;34m;\u001b[0m  \u001b[0mfinal\u001b[0m\u001b[0;34m(\u001b[0m\u001b[0;34m)\u001b[0m\u001b[0;34m\u001b[0m\u001b[0;34m\u001b[0m\u001b[0m\n",
            "\u001b[0;32m/usr/local/lib/python3.10/dist-packages/fastai/learner.py\u001b[0m in \u001b[0;36m_do_epoch\u001b[0;34m(self)\u001b[0m\n\u001b[1;32m    245\u001b[0m \u001b[0;34m\u001b[0m\u001b[0m\n\u001b[1;32m    246\u001b[0m     \u001b[0;32mdef\u001b[0m \u001b[0m_do_epoch\u001b[0m\u001b[0;34m(\u001b[0m\u001b[0mself\u001b[0m\u001b[0;34m)\u001b[0m\u001b[0;34m:\u001b[0m\u001b[0;34m\u001b[0m\u001b[0;34m\u001b[0m\u001b[0m\n\u001b[0;32m--> 247\u001b[0;31m         \u001b[0mself\u001b[0m\u001b[0;34m.\u001b[0m\u001b[0m_do_epoch_train\u001b[0m\u001b[0;34m(\u001b[0m\u001b[0;34m)\u001b[0m\u001b[0;34m\u001b[0m\u001b[0;34m\u001b[0m\u001b[0m\n\u001b[0m\u001b[1;32m    248\u001b[0m         \u001b[0mself\u001b[0m\u001b[0;34m.\u001b[0m\u001b[0m_do_epoch_validate\u001b[0m\u001b[0;34m(\u001b[0m\u001b[0;34m)\u001b[0m\u001b[0;34m\u001b[0m\u001b[0;34m\u001b[0m\u001b[0m\n\u001b[1;32m    249\u001b[0m \u001b[0;34m\u001b[0m\u001b[0m\n",
            "\u001b[0;32m/usr/local/lib/python3.10/dist-packages/fastai/learner.py\u001b[0m in \u001b[0;36m_do_epoch_train\u001b[0;34m(self)\u001b[0m\n\u001b[1;32m    237\u001b[0m     \u001b[0;32mdef\u001b[0m \u001b[0m_do_epoch_train\u001b[0m\u001b[0;34m(\u001b[0m\u001b[0mself\u001b[0m\u001b[0;34m)\u001b[0m\u001b[0;34m:\u001b[0m\u001b[0;34m\u001b[0m\u001b[0;34m\u001b[0m\u001b[0m\n\u001b[1;32m    238\u001b[0m         \u001b[0mself\u001b[0m\u001b[0;34m.\u001b[0m\u001b[0mdl\u001b[0m \u001b[0;34m=\u001b[0m \u001b[0mself\u001b[0m\u001b[0;34m.\u001b[0m\u001b[0mdls\u001b[0m\u001b[0;34m.\u001b[0m\u001b[0mtrain\u001b[0m\u001b[0;34m\u001b[0m\u001b[0;34m\u001b[0m\u001b[0m\n\u001b[0;32m--> 239\u001b[0;31m         \u001b[0mself\u001b[0m\u001b[0;34m.\u001b[0m\u001b[0m_with_events\u001b[0m\u001b[0;34m(\u001b[0m\u001b[0mself\u001b[0m\u001b[0;34m.\u001b[0m\u001b[0mall_batches\u001b[0m\u001b[0;34m,\u001b[0m \u001b[0;34m'train'\u001b[0m\u001b[0;34m,\u001b[0m \u001b[0mCancelTrainException\u001b[0m\u001b[0;34m)\u001b[0m\u001b[0;34m\u001b[0m\u001b[0;34m\u001b[0m\u001b[0m\n\u001b[0m\u001b[1;32m    240\u001b[0m \u001b[0;34m\u001b[0m\u001b[0m\n\u001b[1;32m    241\u001b[0m     \u001b[0;32mdef\u001b[0m \u001b[0m_do_epoch_validate\u001b[0m\u001b[0;34m(\u001b[0m\u001b[0mself\u001b[0m\u001b[0;34m,\u001b[0m \u001b[0mds_idx\u001b[0m\u001b[0;34m=\u001b[0m\u001b[0;36m1\u001b[0m\u001b[0;34m,\u001b[0m \u001b[0mdl\u001b[0m\u001b[0;34m=\u001b[0m\u001b[0;32mNone\u001b[0m\u001b[0;34m)\u001b[0m\u001b[0;34m:\u001b[0m\u001b[0;34m\u001b[0m\u001b[0;34m\u001b[0m\u001b[0m\n",
            "\u001b[0;32m/usr/local/lib/python3.10/dist-packages/fastai/learner.py\u001b[0m in \u001b[0;36m_with_events\u001b[0;34m(self, f, event_type, ex, final)\u001b[0m\n\u001b[1;32m    197\u001b[0m \u001b[0;34m\u001b[0m\u001b[0m\n\u001b[1;32m    198\u001b[0m     \u001b[0;32mdef\u001b[0m \u001b[0m_with_events\u001b[0m\u001b[0;34m(\u001b[0m\u001b[0mself\u001b[0m\u001b[0;34m,\u001b[0m \u001b[0mf\u001b[0m\u001b[0;34m,\u001b[0m \u001b[0mevent_type\u001b[0m\u001b[0;34m,\u001b[0m \u001b[0mex\u001b[0m\u001b[0;34m,\u001b[0m \u001b[0mfinal\u001b[0m\u001b[0;34m=\u001b[0m\u001b[0mnoop\u001b[0m\u001b[0;34m)\u001b[0m\u001b[0;34m:\u001b[0m\u001b[0;34m\u001b[0m\u001b[0;34m\u001b[0m\u001b[0m\n\u001b[0;32m--> 199\u001b[0;31m         \u001b[0;32mtry\u001b[0m\u001b[0;34m:\u001b[0m \u001b[0mself\u001b[0m\u001b[0;34m(\u001b[0m\u001b[0;34mf'before_{event_type}'\u001b[0m\u001b[0;34m)\u001b[0m\u001b[0;34m;\u001b[0m  \u001b[0mf\u001b[0m\u001b[0;34m(\u001b[0m\u001b[0;34m)\u001b[0m\u001b[0;34m\u001b[0m\u001b[0;34m\u001b[0m\u001b[0m\n\u001b[0m\u001b[1;32m    200\u001b[0m         \u001b[0;32mexcept\u001b[0m \u001b[0mex\u001b[0m\u001b[0;34m:\u001b[0m \u001b[0mself\u001b[0m\u001b[0;34m(\u001b[0m\u001b[0;34mf'after_cancel_{event_type}'\u001b[0m\u001b[0;34m)\u001b[0m\u001b[0;34m\u001b[0m\u001b[0;34m\u001b[0m\u001b[0m\n\u001b[1;32m    201\u001b[0m         \u001b[0mself\u001b[0m\u001b[0;34m(\u001b[0m\u001b[0;34mf'after_{event_type}'\u001b[0m\u001b[0;34m)\u001b[0m\u001b[0;34m;\u001b[0m  \u001b[0mfinal\u001b[0m\u001b[0;34m(\u001b[0m\u001b[0;34m)\u001b[0m\u001b[0;34m\u001b[0m\u001b[0;34m\u001b[0m\u001b[0m\n",
            "\u001b[0;32m/usr/local/lib/python3.10/dist-packages/fastai/learner.py\u001b[0m in \u001b[0;36mall_batches\u001b[0;34m(self)\u001b[0m\n\u001b[1;32m    203\u001b[0m     \u001b[0;32mdef\u001b[0m \u001b[0mall_batches\u001b[0m\u001b[0;34m(\u001b[0m\u001b[0mself\u001b[0m\u001b[0;34m)\u001b[0m\u001b[0;34m:\u001b[0m\u001b[0;34m\u001b[0m\u001b[0;34m\u001b[0m\u001b[0m\n\u001b[1;32m    204\u001b[0m         \u001b[0mself\u001b[0m\u001b[0;34m.\u001b[0m\u001b[0mn_iter\u001b[0m \u001b[0;34m=\u001b[0m \u001b[0mlen\u001b[0m\u001b[0;34m(\u001b[0m\u001b[0mself\u001b[0m\u001b[0;34m.\u001b[0m\u001b[0mdl\u001b[0m\u001b[0;34m)\u001b[0m\u001b[0;34m\u001b[0m\u001b[0;34m\u001b[0m\u001b[0m\n\u001b[0;32m--> 205\u001b[0;31m         \u001b[0;32mfor\u001b[0m \u001b[0mo\u001b[0m \u001b[0;32min\u001b[0m \u001b[0menumerate\u001b[0m\u001b[0;34m(\u001b[0m\u001b[0mself\u001b[0m\u001b[0;34m.\u001b[0m\u001b[0mdl\u001b[0m\u001b[0;34m)\u001b[0m\u001b[0;34m:\u001b[0m \u001b[0mself\u001b[0m\u001b[0;34m.\u001b[0m\u001b[0mone_batch\u001b[0m\u001b[0;34m(\u001b[0m\u001b[0;34m*\u001b[0m\u001b[0mo\u001b[0m\u001b[0;34m)\u001b[0m\u001b[0;34m\u001b[0m\u001b[0;34m\u001b[0m\u001b[0m\n\u001b[0m\u001b[1;32m    206\u001b[0m \u001b[0;34m\u001b[0m\u001b[0m\n\u001b[1;32m    207\u001b[0m     \u001b[0;32mdef\u001b[0m \u001b[0m_backward\u001b[0m\u001b[0;34m(\u001b[0m\u001b[0mself\u001b[0m\u001b[0;34m)\u001b[0m\u001b[0;34m:\u001b[0m \u001b[0mself\u001b[0m\u001b[0;34m.\u001b[0m\u001b[0mloss_grad\u001b[0m\u001b[0;34m.\u001b[0m\u001b[0mbackward\u001b[0m\u001b[0;34m(\u001b[0m\u001b[0;34m)\u001b[0m\u001b[0;34m\u001b[0m\u001b[0;34m\u001b[0m\u001b[0m\n",
            "\u001b[0;32m/usr/local/lib/python3.10/dist-packages/fastai/learner.py\u001b[0m in \u001b[0;36mone_batch\u001b[0;34m(self, i, b)\u001b[0m\n\u001b[1;32m    233\u001b[0m         \u001b[0mb\u001b[0m \u001b[0;34m=\u001b[0m \u001b[0mself\u001b[0m\u001b[0;34m.\u001b[0m\u001b[0m_set_device\u001b[0m\u001b[0;34m(\u001b[0m\u001b[0mb\u001b[0m\u001b[0;34m)\u001b[0m\u001b[0;34m\u001b[0m\u001b[0;34m\u001b[0m\u001b[0m\n\u001b[1;32m    234\u001b[0m         \u001b[0mself\u001b[0m\u001b[0;34m.\u001b[0m\u001b[0m_split\u001b[0m\u001b[0;34m(\u001b[0m\u001b[0mb\u001b[0m\u001b[0;34m)\u001b[0m\u001b[0;34m\u001b[0m\u001b[0;34m\u001b[0m\u001b[0m\n\u001b[0;32m--> 235\u001b[0;31m         \u001b[0mself\u001b[0m\u001b[0;34m.\u001b[0m\u001b[0m_with_events\u001b[0m\u001b[0;34m(\u001b[0m\u001b[0mself\u001b[0m\u001b[0;34m.\u001b[0m\u001b[0m_do_one_batch\u001b[0m\u001b[0;34m,\u001b[0m \u001b[0;34m'batch'\u001b[0m\u001b[0;34m,\u001b[0m \u001b[0mCancelBatchException\u001b[0m\u001b[0;34m)\u001b[0m\u001b[0;34m\u001b[0m\u001b[0;34m\u001b[0m\u001b[0m\n\u001b[0m\u001b[1;32m    236\u001b[0m \u001b[0;34m\u001b[0m\u001b[0m\n\u001b[1;32m    237\u001b[0m     \u001b[0;32mdef\u001b[0m \u001b[0m_do_epoch_train\u001b[0m\u001b[0;34m(\u001b[0m\u001b[0mself\u001b[0m\u001b[0;34m)\u001b[0m\u001b[0;34m:\u001b[0m\u001b[0;34m\u001b[0m\u001b[0;34m\u001b[0m\u001b[0m\n",
            "\u001b[0;32m/usr/local/lib/python3.10/dist-packages/fastai/learner.py\u001b[0m in \u001b[0;36m_with_events\u001b[0;34m(self, f, event_type, ex, final)\u001b[0m\n\u001b[1;32m    197\u001b[0m \u001b[0;34m\u001b[0m\u001b[0m\n\u001b[1;32m    198\u001b[0m     \u001b[0;32mdef\u001b[0m \u001b[0m_with_events\u001b[0m\u001b[0;34m(\u001b[0m\u001b[0mself\u001b[0m\u001b[0;34m,\u001b[0m \u001b[0mf\u001b[0m\u001b[0;34m,\u001b[0m \u001b[0mevent_type\u001b[0m\u001b[0;34m,\u001b[0m \u001b[0mex\u001b[0m\u001b[0;34m,\u001b[0m \u001b[0mfinal\u001b[0m\u001b[0;34m=\u001b[0m\u001b[0mnoop\u001b[0m\u001b[0;34m)\u001b[0m\u001b[0;34m:\u001b[0m\u001b[0;34m\u001b[0m\u001b[0;34m\u001b[0m\u001b[0m\n\u001b[0;32m--> 199\u001b[0;31m         \u001b[0;32mtry\u001b[0m\u001b[0;34m:\u001b[0m \u001b[0mself\u001b[0m\u001b[0;34m(\u001b[0m\u001b[0;34mf'before_{event_type}'\u001b[0m\u001b[0;34m)\u001b[0m\u001b[0;34m;\u001b[0m  \u001b[0mf\u001b[0m\u001b[0;34m(\u001b[0m\u001b[0;34m)\u001b[0m\u001b[0;34m\u001b[0m\u001b[0;34m\u001b[0m\u001b[0m\n\u001b[0m\u001b[1;32m    200\u001b[0m         \u001b[0;32mexcept\u001b[0m \u001b[0mex\u001b[0m\u001b[0;34m:\u001b[0m \u001b[0mself\u001b[0m\u001b[0;34m(\u001b[0m\u001b[0;34mf'after_cancel_{event_type}'\u001b[0m\u001b[0;34m)\u001b[0m\u001b[0;34m\u001b[0m\u001b[0;34m\u001b[0m\u001b[0m\n\u001b[1;32m    201\u001b[0m         \u001b[0mself\u001b[0m\u001b[0;34m(\u001b[0m\u001b[0;34mf'after_{event_type}'\u001b[0m\u001b[0;34m)\u001b[0m\u001b[0;34m;\u001b[0m  \u001b[0mfinal\u001b[0m\u001b[0;34m(\u001b[0m\u001b[0;34m)\u001b[0m\u001b[0;34m\u001b[0m\u001b[0;34m\u001b[0m\u001b[0m\n",
            "\u001b[0;32m/usr/local/lib/python3.10/dist-packages/fastai/learner.py\u001b[0m in \u001b[0;36m_do_one_batch\u001b[0;34m(self)\u001b[0m\n\u001b[1;32m    221\u001b[0m         \u001b[0mself\u001b[0m\u001b[0;34m(\u001b[0m\u001b[0;34m'after_loss'\u001b[0m\u001b[0;34m)\u001b[0m\u001b[0;34m\u001b[0m\u001b[0;34m\u001b[0m\u001b[0m\n\u001b[1;32m    222\u001b[0m         \u001b[0;32mif\u001b[0m \u001b[0;32mnot\u001b[0m \u001b[0mself\u001b[0m\u001b[0;34m.\u001b[0m\u001b[0mtraining\u001b[0m \u001b[0;32mor\u001b[0m \u001b[0;32mnot\u001b[0m \u001b[0mlen\u001b[0m\u001b[0;34m(\u001b[0m\u001b[0mself\u001b[0m\u001b[0;34m.\u001b[0m\u001b[0myb\u001b[0m\u001b[0;34m)\u001b[0m\u001b[0;34m:\u001b[0m \u001b[0;32mreturn\u001b[0m\u001b[0;34m\u001b[0m\u001b[0;34m\u001b[0m\u001b[0m\n\u001b[0;32m--> 223\u001b[0;31m         \u001b[0mself\u001b[0m\u001b[0;34m.\u001b[0m\u001b[0m_do_grad_opt\u001b[0m\u001b[0;34m(\u001b[0m\u001b[0;34m)\u001b[0m\u001b[0;34m\u001b[0m\u001b[0;34m\u001b[0m\u001b[0m\n\u001b[0m\u001b[1;32m    224\u001b[0m \u001b[0;34m\u001b[0m\u001b[0m\n\u001b[1;32m    225\u001b[0m     \u001b[0;32mdef\u001b[0m \u001b[0m_set_device\u001b[0m\u001b[0;34m(\u001b[0m\u001b[0mself\u001b[0m\u001b[0;34m,\u001b[0m \u001b[0mb\u001b[0m\u001b[0;34m)\u001b[0m\u001b[0;34m:\u001b[0m\u001b[0;34m\u001b[0m\u001b[0;34m\u001b[0m\u001b[0m\n",
            "\u001b[0;32m/usr/local/lib/python3.10/dist-packages/fastai/learner.py\u001b[0m in \u001b[0;36m_do_grad_opt\u001b[0;34m(self)\u001b[0m\n\u001b[1;32m    210\u001b[0m     \u001b[0;32mdef\u001b[0m \u001b[0m_do_grad_opt\u001b[0m\u001b[0;34m(\u001b[0m\u001b[0mself\u001b[0m\u001b[0;34m)\u001b[0m\u001b[0;34m:\u001b[0m\u001b[0;34m\u001b[0m\u001b[0;34m\u001b[0m\u001b[0m\n\u001b[1;32m    211\u001b[0m         \u001b[0mself\u001b[0m\u001b[0;34m.\u001b[0m\u001b[0m_with_events\u001b[0m\u001b[0;34m(\u001b[0m\u001b[0mself\u001b[0m\u001b[0;34m.\u001b[0m\u001b[0m_backward\u001b[0m\u001b[0;34m,\u001b[0m \u001b[0;34m'backward'\u001b[0m\u001b[0;34m,\u001b[0m \u001b[0mCancelBackwardException\u001b[0m\u001b[0;34m)\u001b[0m\u001b[0;34m\u001b[0m\u001b[0;34m\u001b[0m\u001b[0m\n\u001b[0;32m--> 212\u001b[0;31m         \u001b[0mself\u001b[0m\u001b[0;34m.\u001b[0m\u001b[0m_with_events\u001b[0m\u001b[0;34m(\u001b[0m\u001b[0mself\u001b[0m\u001b[0;34m.\u001b[0m\u001b[0m_step\u001b[0m\u001b[0;34m,\u001b[0m \u001b[0;34m'step'\u001b[0m\u001b[0;34m,\u001b[0m \u001b[0mCancelStepException\u001b[0m\u001b[0;34m)\u001b[0m\u001b[0;34m\u001b[0m\u001b[0;34m\u001b[0m\u001b[0m\n\u001b[0m\u001b[1;32m    213\u001b[0m         \u001b[0mself\u001b[0m\u001b[0;34m.\u001b[0m\u001b[0mopt\u001b[0m\u001b[0;34m.\u001b[0m\u001b[0mzero_grad\u001b[0m\u001b[0;34m(\u001b[0m\u001b[0;34m)\u001b[0m\u001b[0;34m\u001b[0m\u001b[0;34m\u001b[0m\u001b[0m\n\u001b[1;32m    214\u001b[0m \u001b[0;34m\u001b[0m\u001b[0m\n",
            "\u001b[0;32m/usr/local/lib/python3.10/dist-packages/fastai/learner.py\u001b[0m in \u001b[0;36m_with_events\u001b[0;34m(self, f, event_type, ex, final)\u001b[0m\n\u001b[1;32m    197\u001b[0m \u001b[0;34m\u001b[0m\u001b[0m\n\u001b[1;32m    198\u001b[0m     \u001b[0;32mdef\u001b[0m \u001b[0m_with_events\u001b[0m\u001b[0;34m(\u001b[0m\u001b[0mself\u001b[0m\u001b[0;34m,\u001b[0m \u001b[0mf\u001b[0m\u001b[0;34m,\u001b[0m \u001b[0mevent_type\u001b[0m\u001b[0;34m,\u001b[0m \u001b[0mex\u001b[0m\u001b[0;34m,\u001b[0m \u001b[0mfinal\u001b[0m\u001b[0;34m=\u001b[0m\u001b[0mnoop\u001b[0m\u001b[0;34m)\u001b[0m\u001b[0;34m:\u001b[0m\u001b[0;34m\u001b[0m\u001b[0;34m\u001b[0m\u001b[0m\n\u001b[0;32m--> 199\u001b[0;31m         \u001b[0;32mtry\u001b[0m\u001b[0;34m:\u001b[0m \u001b[0mself\u001b[0m\u001b[0;34m(\u001b[0m\u001b[0;34mf'before_{event_type}'\u001b[0m\u001b[0;34m)\u001b[0m\u001b[0;34m;\u001b[0m  \u001b[0mf\u001b[0m\u001b[0;34m(\u001b[0m\u001b[0;34m)\u001b[0m\u001b[0;34m\u001b[0m\u001b[0;34m\u001b[0m\u001b[0m\n\u001b[0m\u001b[1;32m    200\u001b[0m         \u001b[0;32mexcept\u001b[0m \u001b[0mex\u001b[0m\u001b[0;34m:\u001b[0m \u001b[0mself\u001b[0m\u001b[0;34m(\u001b[0m\u001b[0;34mf'after_cancel_{event_type}'\u001b[0m\u001b[0;34m)\u001b[0m\u001b[0;34m\u001b[0m\u001b[0;34m\u001b[0m\u001b[0m\n\u001b[1;32m    201\u001b[0m         \u001b[0mself\u001b[0m\u001b[0;34m(\u001b[0m\u001b[0;34mf'after_{event_type}'\u001b[0m\u001b[0;34m)\u001b[0m\u001b[0;34m;\u001b[0m  \u001b[0mfinal\u001b[0m\u001b[0;34m(\u001b[0m\u001b[0;34m)\u001b[0m\u001b[0;34m\u001b[0m\u001b[0;34m\u001b[0m\u001b[0m\n",
            "\u001b[0;32m/usr/local/lib/python3.10/dist-packages/fastai/learner.py\u001b[0m in \u001b[0;36m__call__\u001b[0;34m(self, event_name)\u001b[0m\n\u001b[1;32m    170\u001b[0m \u001b[0;34m\u001b[0m\u001b[0m\n\u001b[1;32m    171\u001b[0m     \u001b[0;32mdef\u001b[0m \u001b[0mordered_cbs\u001b[0m\u001b[0;34m(\u001b[0m\u001b[0mself\u001b[0m\u001b[0;34m,\u001b[0m \u001b[0mevent\u001b[0m\u001b[0;34m)\u001b[0m\u001b[0;34m:\u001b[0m \u001b[0;32mreturn\u001b[0m \u001b[0;34m[\u001b[0m\u001b[0mcb\u001b[0m \u001b[0;32mfor\u001b[0m \u001b[0mcb\u001b[0m \u001b[0;32min\u001b[0m \u001b[0mself\u001b[0m\u001b[0;34m.\u001b[0m\u001b[0mcbs\u001b[0m\u001b[0;34m.\u001b[0m\u001b[0msorted\u001b[0m\u001b[0;34m(\u001b[0m\u001b[0;34m'order'\u001b[0m\u001b[0;34m)\u001b[0m \u001b[0;32mif\u001b[0m \u001b[0mhasattr\u001b[0m\u001b[0;34m(\u001b[0m\u001b[0mcb\u001b[0m\u001b[0;34m,\u001b[0m \u001b[0mevent\u001b[0m\u001b[0;34m)\u001b[0m\u001b[0;34m]\u001b[0m\u001b[0;34m\u001b[0m\u001b[0;34m\u001b[0m\u001b[0m\n\u001b[0;32m--> 172\u001b[0;31m     \u001b[0;32mdef\u001b[0m \u001b[0m__call__\u001b[0m\u001b[0;34m(\u001b[0m\u001b[0mself\u001b[0m\u001b[0;34m,\u001b[0m \u001b[0mevent_name\u001b[0m\u001b[0;34m)\u001b[0m\u001b[0;34m:\u001b[0m \u001b[0mL\u001b[0m\u001b[0;34m(\u001b[0m\u001b[0mevent_name\u001b[0m\u001b[0;34m)\u001b[0m\u001b[0;34m.\u001b[0m\u001b[0mmap\u001b[0m\u001b[0;34m(\u001b[0m\u001b[0mself\u001b[0m\u001b[0;34m.\u001b[0m\u001b[0m_call_one\u001b[0m\u001b[0;34m)\u001b[0m\u001b[0;34m\u001b[0m\u001b[0;34m\u001b[0m\u001b[0m\n\u001b[0m\u001b[1;32m    173\u001b[0m \u001b[0;34m\u001b[0m\u001b[0m\n\u001b[1;32m    174\u001b[0m     \u001b[0;32mdef\u001b[0m \u001b[0m_call_one\u001b[0m\u001b[0;34m(\u001b[0m\u001b[0mself\u001b[0m\u001b[0;34m,\u001b[0m \u001b[0mevent_name\u001b[0m\u001b[0;34m)\u001b[0m\u001b[0;34m:\u001b[0m\u001b[0;34m\u001b[0m\u001b[0;34m\u001b[0m\u001b[0m\n",
            "\u001b[0;32m/usr/local/lib/python3.10/dist-packages/fastcore/foundation.py\u001b[0m in \u001b[0;36mmap\u001b[0;34m(self, f, *args, **kwargs)\u001b[0m\n\u001b[1;32m    154\u001b[0m     \u001b[0;32mdef\u001b[0m \u001b[0mrange\u001b[0m\u001b[0;34m(\u001b[0m\u001b[0mcls\u001b[0m\u001b[0;34m,\u001b[0m \u001b[0ma\u001b[0m\u001b[0;34m,\u001b[0m \u001b[0mb\u001b[0m\u001b[0;34m=\u001b[0m\u001b[0;32mNone\u001b[0m\u001b[0;34m,\u001b[0m \u001b[0mstep\u001b[0m\u001b[0;34m=\u001b[0m\u001b[0;32mNone\u001b[0m\u001b[0;34m)\u001b[0m\u001b[0;34m:\u001b[0m \u001b[0;32mreturn\u001b[0m \u001b[0mcls\u001b[0m\u001b[0;34m(\u001b[0m\u001b[0mrange_of\u001b[0m\u001b[0;34m(\u001b[0m\u001b[0ma\u001b[0m\u001b[0;34m,\u001b[0m \u001b[0mb\u001b[0m\u001b[0;34m=\u001b[0m\u001b[0mb\u001b[0m\u001b[0;34m,\u001b[0m \u001b[0mstep\u001b[0m\u001b[0;34m=\u001b[0m\u001b[0mstep\u001b[0m\u001b[0;34m)\u001b[0m\u001b[0;34m)\u001b[0m\u001b[0;34m\u001b[0m\u001b[0;34m\u001b[0m\u001b[0m\n\u001b[1;32m    155\u001b[0m \u001b[0;34m\u001b[0m\u001b[0m\n\u001b[0;32m--> 156\u001b[0;31m     \u001b[0;32mdef\u001b[0m \u001b[0mmap\u001b[0m\u001b[0;34m(\u001b[0m\u001b[0mself\u001b[0m\u001b[0;34m,\u001b[0m \u001b[0mf\u001b[0m\u001b[0;34m,\u001b[0m \u001b[0;34m*\u001b[0m\u001b[0margs\u001b[0m\u001b[0;34m,\u001b[0m \u001b[0;34m**\u001b[0m\u001b[0mkwargs\u001b[0m\u001b[0;34m)\u001b[0m\u001b[0;34m:\u001b[0m \u001b[0;32mreturn\u001b[0m \u001b[0mself\u001b[0m\u001b[0;34m.\u001b[0m\u001b[0m_new\u001b[0m\u001b[0;34m(\u001b[0m\u001b[0mmap_ex\u001b[0m\u001b[0;34m(\u001b[0m\u001b[0mself\u001b[0m\u001b[0;34m,\u001b[0m \u001b[0mf\u001b[0m\u001b[0;34m,\u001b[0m \u001b[0;34m*\u001b[0m\u001b[0margs\u001b[0m\u001b[0;34m,\u001b[0m \u001b[0mgen\u001b[0m\u001b[0;34m=\u001b[0m\u001b[0;32mFalse\u001b[0m\u001b[0;34m,\u001b[0m \u001b[0;34m**\u001b[0m\u001b[0mkwargs\u001b[0m\u001b[0;34m)\u001b[0m\u001b[0;34m)\u001b[0m\u001b[0;34m\u001b[0m\u001b[0;34m\u001b[0m\u001b[0m\n\u001b[0m\u001b[1;32m    157\u001b[0m     \u001b[0;32mdef\u001b[0m \u001b[0margwhere\u001b[0m\u001b[0;34m(\u001b[0m\u001b[0mself\u001b[0m\u001b[0;34m,\u001b[0m \u001b[0mf\u001b[0m\u001b[0;34m,\u001b[0m \u001b[0mnegate\u001b[0m\u001b[0;34m=\u001b[0m\u001b[0;32mFalse\u001b[0m\u001b[0;34m,\u001b[0m \u001b[0;34m**\u001b[0m\u001b[0mkwargs\u001b[0m\u001b[0;34m)\u001b[0m\u001b[0;34m:\u001b[0m \u001b[0;32mreturn\u001b[0m \u001b[0mself\u001b[0m\u001b[0;34m.\u001b[0m\u001b[0m_new\u001b[0m\u001b[0;34m(\u001b[0m\u001b[0margwhere\u001b[0m\u001b[0;34m(\u001b[0m\u001b[0mself\u001b[0m\u001b[0;34m,\u001b[0m \u001b[0mf\u001b[0m\u001b[0;34m,\u001b[0m \u001b[0mnegate\u001b[0m\u001b[0;34m,\u001b[0m \u001b[0;34m**\u001b[0m\u001b[0mkwargs\u001b[0m\u001b[0;34m)\u001b[0m\u001b[0;34m)\u001b[0m\u001b[0;34m\u001b[0m\u001b[0;34m\u001b[0m\u001b[0m\n\u001b[1;32m    158\u001b[0m     \u001b[0;32mdef\u001b[0m \u001b[0margfirst\u001b[0m\u001b[0;34m(\u001b[0m\u001b[0mself\u001b[0m\u001b[0;34m,\u001b[0m \u001b[0mf\u001b[0m\u001b[0;34m,\u001b[0m \u001b[0mnegate\u001b[0m\u001b[0;34m=\u001b[0m\u001b[0;32mFalse\u001b[0m\u001b[0;34m)\u001b[0m\u001b[0;34m:\u001b[0m\u001b[0;34m\u001b[0m\u001b[0;34m\u001b[0m\u001b[0m\n",
            "\u001b[0;32m/usr/local/lib/python3.10/dist-packages/fastcore/basics.py\u001b[0m in \u001b[0;36mmap_ex\u001b[0;34m(iterable, f, gen, *args, **kwargs)\u001b[0m\n\u001b[1;32m    848\u001b[0m     \u001b[0mres\u001b[0m \u001b[0;34m=\u001b[0m \u001b[0mmap\u001b[0m\u001b[0;34m(\u001b[0m\u001b[0mg\u001b[0m\u001b[0;34m,\u001b[0m \u001b[0miterable\u001b[0m\u001b[0;34m)\u001b[0m\u001b[0;34m\u001b[0m\u001b[0;34m\u001b[0m\u001b[0m\n\u001b[1;32m    849\u001b[0m     \u001b[0;32mif\u001b[0m \u001b[0mgen\u001b[0m\u001b[0;34m:\u001b[0m \u001b[0;32mreturn\u001b[0m \u001b[0mres\u001b[0m\u001b[0;34m\u001b[0m\u001b[0;34m\u001b[0m\u001b[0m\n\u001b[0;32m--> 850\u001b[0;31m     \u001b[0;32mreturn\u001b[0m \u001b[0mlist\u001b[0m\u001b[0;34m(\u001b[0m\u001b[0mres\u001b[0m\u001b[0;34m)\u001b[0m\u001b[0;34m\u001b[0m\u001b[0;34m\u001b[0m\u001b[0m\n\u001b[0m\u001b[1;32m    851\u001b[0m \u001b[0;34m\u001b[0m\u001b[0m\n\u001b[1;32m    852\u001b[0m \u001b[0;31m# %% ../nbs/01_basics.ipynb 342\u001b[0m\u001b[0;34m\u001b[0m\u001b[0;34m\u001b[0m\u001b[0m\n",
            "\u001b[0;32m/usr/local/lib/python3.10/dist-packages/fastcore/basics.py\u001b[0m in \u001b[0;36m__call__\u001b[0;34m(self, *args, **kwargs)\u001b[0m\n\u001b[1;32m    833\u001b[0m             \u001b[0;32mif\u001b[0m \u001b[0misinstance\u001b[0m\u001b[0;34m(\u001b[0m\u001b[0mv\u001b[0m\u001b[0;34m,\u001b[0m\u001b[0m_Arg\u001b[0m\u001b[0;34m)\u001b[0m\u001b[0;34m:\u001b[0m \u001b[0mkwargs\u001b[0m\u001b[0;34m[\u001b[0m\u001b[0mk\u001b[0m\u001b[0;34m]\u001b[0m \u001b[0;34m=\u001b[0m \u001b[0margs\u001b[0m\u001b[0;34m.\u001b[0m\u001b[0mpop\u001b[0m\u001b[0;34m(\u001b[0m\u001b[0mv\u001b[0m\u001b[0;34m.\u001b[0m\u001b[0mi\u001b[0m\u001b[0;34m)\u001b[0m\u001b[0;34m\u001b[0m\u001b[0;34m\u001b[0m\u001b[0m\n\u001b[1;32m    834\u001b[0m         \u001b[0mfargs\u001b[0m \u001b[0;34m=\u001b[0m \u001b[0;34m[\u001b[0m\u001b[0margs\u001b[0m\u001b[0;34m[\u001b[0m\u001b[0mx\u001b[0m\u001b[0;34m.\u001b[0m\u001b[0mi\u001b[0m\u001b[0;34m]\u001b[0m \u001b[0;32mif\u001b[0m \u001b[0misinstance\u001b[0m\u001b[0;34m(\u001b[0m\u001b[0mx\u001b[0m\u001b[0;34m,\u001b[0m \u001b[0m_Arg\u001b[0m\u001b[0;34m)\u001b[0m \u001b[0;32melse\u001b[0m \u001b[0mx\u001b[0m \u001b[0;32mfor\u001b[0m \u001b[0mx\u001b[0m \u001b[0;32min\u001b[0m \u001b[0mself\u001b[0m\u001b[0;34m.\u001b[0m\u001b[0mpargs\u001b[0m\u001b[0;34m]\u001b[0m \u001b[0;34m+\u001b[0m \u001b[0margs\u001b[0m\u001b[0;34m[\u001b[0m\u001b[0mself\u001b[0m\u001b[0;34m.\u001b[0m\u001b[0mmaxi\u001b[0m\u001b[0;34m+\u001b[0m\u001b[0;36m1\u001b[0m\u001b[0;34m:\u001b[0m\u001b[0;34m]\u001b[0m\u001b[0;34m\u001b[0m\u001b[0;34m\u001b[0m\u001b[0m\n\u001b[0;32m--> 835\u001b[0;31m         \u001b[0;32mreturn\u001b[0m \u001b[0mself\u001b[0m\u001b[0;34m.\u001b[0m\u001b[0mfunc\u001b[0m\u001b[0;34m(\u001b[0m\u001b[0;34m*\u001b[0m\u001b[0mfargs\u001b[0m\u001b[0;34m,\u001b[0m \u001b[0;34m**\u001b[0m\u001b[0mkwargs\u001b[0m\u001b[0;34m)\u001b[0m\u001b[0;34m\u001b[0m\u001b[0;34m\u001b[0m\u001b[0m\n\u001b[0m\u001b[1;32m    836\u001b[0m \u001b[0;34m\u001b[0m\u001b[0m\n\u001b[1;32m    837\u001b[0m \u001b[0;31m# %% ../nbs/01_basics.ipynb 332\u001b[0m\u001b[0;34m\u001b[0m\u001b[0;34m\u001b[0m\u001b[0m\n",
            "\u001b[0;32m/usr/local/lib/python3.10/dist-packages/fastai/learner.py\u001b[0m in \u001b[0;36m_call_one\u001b[0;34m(self, event_name)\u001b[0m\n\u001b[1;32m    174\u001b[0m     \u001b[0;32mdef\u001b[0m \u001b[0m_call_one\u001b[0m\u001b[0;34m(\u001b[0m\u001b[0mself\u001b[0m\u001b[0;34m,\u001b[0m \u001b[0mevent_name\u001b[0m\u001b[0;34m)\u001b[0m\u001b[0;34m:\u001b[0m\u001b[0;34m\u001b[0m\u001b[0;34m\u001b[0m\u001b[0m\n\u001b[1;32m    175\u001b[0m         \u001b[0;32mif\u001b[0m \u001b[0;32mnot\u001b[0m \u001b[0mhasattr\u001b[0m\u001b[0;34m(\u001b[0m\u001b[0mevent\u001b[0m\u001b[0;34m,\u001b[0m \u001b[0mevent_name\u001b[0m\u001b[0;34m)\u001b[0m\u001b[0;34m:\u001b[0m \u001b[0;32mraise\u001b[0m \u001b[0mException\u001b[0m\u001b[0;34m(\u001b[0m\u001b[0;34mf'missing {event_name}'\u001b[0m\u001b[0;34m)\u001b[0m\u001b[0;34m\u001b[0m\u001b[0;34m\u001b[0m\u001b[0m\n\u001b[0;32m--> 176\u001b[0;31m         \u001b[0;32mfor\u001b[0m \u001b[0mcb\u001b[0m \u001b[0;32min\u001b[0m \u001b[0mself\u001b[0m\u001b[0;34m.\u001b[0m\u001b[0mcbs\u001b[0m\u001b[0;34m.\u001b[0m\u001b[0msorted\u001b[0m\u001b[0;34m(\u001b[0m\u001b[0;34m'order'\u001b[0m\u001b[0;34m)\u001b[0m\u001b[0;34m:\u001b[0m \u001b[0mcb\u001b[0m\u001b[0;34m(\u001b[0m\u001b[0mevent_name\u001b[0m\u001b[0;34m)\u001b[0m\u001b[0;34m\u001b[0m\u001b[0;34m\u001b[0m\u001b[0m\n\u001b[0m\u001b[1;32m    177\u001b[0m \u001b[0;34m\u001b[0m\u001b[0m\n\u001b[1;32m    178\u001b[0m     \u001b[0;32mdef\u001b[0m \u001b[0m_bn_bias_state\u001b[0m\u001b[0;34m(\u001b[0m\u001b[0mself\u001b[0m\u001b[0;34m,\u001b[0m \u001b[0mwith_bias\u001b[0m\u001b[0;34m)\u001b[0m\u001b[0;34m:\u001b[0m \u001b[0;32mreturn\u001b[0m \u001b[0mnorm_bias_params\u001b[0m\u001b[0;34m(\u001b[0m\u001b[0mself\u001b[0m\u001b[0;34m.\u001b[0m\u001b[0mmodel\u001b[0m\u001b[0;34m,\u001b[0m \u001b[0mwith_bias\u001b[0m\u001b[0;34m)\u001b[0m\u001b[0;34m.\u001b[0m\u001b[0mmap\u001b[0m\u001b[0;34m(\u001b[0m\u001b[0mself\u001b[0m\u001b[0;34m.\u001b[0m\u001b[0mopt\u001b[0m\u001b[0;34m.\u001b[0m\u001b[0mstate\u001b[0m\u001b[0;34m)\u001b[0m\u001b[0;34m\u001b[0m\u001b[0;34m\u001b[0m\u001b[0m\n",
            "\u001b[0;32m/usr/local/lib/python3.10/dist-packages/fastai/callback/core.py\u001b[0m in \u001b[0;36m__call__\u001b[0;34m(self, event_name)\u001b[0m\n\u001b[1;32m     58\u001b[0m         \u001b[0mres\u001b[0m \u001b[0;34m=\u001b[0m \u001b[0;32mNone\u001b[0m\u001b[0;34m\u001b[0m\u001b[0;34m\u001b[0m\u001b[0m\n\u001b[1;32m     59\u001b[0m         \u001b[0;32mif\u001b[0m \u001b[0mself\u001b[0m\u001b[0;34m.\u001b[0m\u001b[0mrun\u001b[0m \u001b[0;32mand\u001b[0m \u001b[0m_run\u001b[0m\u001b[0;34m:\u001b[0m\u001b[0;34m\u001b[0m\u001b[0;34m\u001b[0m\u001b[0m\n\u001b[0;32m---> 60\u001b[0;31m             \u001b[0;32mtry\u001b[0m\u001b[0;34m:\u001b[0m \u001b[0mres\u001b[0m \u001b[0;34m=\u001b[0m \u001b[0mgetcallable\u001b[0m\u001b[0;34m(\u001b[0m\u001b[0mself\u001b[0m\u001b[0;34m,\u001b[0m \u001b[0mevent_name\u001b[0m\u001b[0;34m)\u001b[0m\u001b[0;34m(\u001b[0m\u001b[0;34m)\u001b[0m\u001b[0;34m\u001b[0m\u001b[0;34m\u001b[0m\u001b[0m\n\u001b[0m\u001b[1;32m     61\u001b[0m             \u001b[0;32mexcept\u001b[0m \u001b[0;34m(\u001b[0m\u001b[0mCancelBatchException\u001b[0m\u001b[0;34m,\u001b[0m \u001b[0mCancelBackwardException\u001b[0m\u001b[0;34m,\u001b[0m \u001b[0mCancelEpochException\u001b[0m\u001b[0;34m,\u001b[0m \u001b[0mCancelFitException\u001b[0m\u001b[0;34m,\u001b[0m \u001b[0mCancelStepException\u001b[0m\u001b[0;34m,\u001b[0m \u001b[0mCancelTrainException\u001b[0m\u001b[0;34m,\u001b[0m \u001b[0mCancelValidException\u001b[0m\u001b[0;34m)\u001b[0m\u001b[0;34m:\u001b[0m \u001b[0;32mraise\u001b[0m\u001b[0;34m\u001b[0m\u001b[0;34m\u001b[0m\u001b[0m\n\u001b[1;32m     62\u001b[0m             \u001b[0;32mexcept\u001b[0m \u001b[0mException\u001b[0m \u001b[0;32mas\u001b[0m \u001b[0me\u001b[0m\u001b[0;34m:\u001b[0m \u001b[0;32mraise\u001b[0m \u001b[0mmodify_exception\u001b[0m\u001b[0;34m(\u001b[0m\u001b[0me\u001b[0m\u001b[0;34m,\u001b[0m \u001b[0;34mf'Exception occured in `{self.__class__.__name__}` when calling event `{event_name}`:\\n\\t{e.args[0]}'\u001b[0m\u001b[0;34m,\u001b[0m \u001b[0mreplace\u001b[0m\u001b[0;34m=\u001b[0m\u001b[0;32mTrue\u001b[0m\u001b[0;34m)\u001b[0m\u001b[0;34m\u001b[0m\u001b[0;34m\u001b[0m\u001b[0m\n",
            "\u001b[0;32m/usr/local/lib/python3.10/dist-packages/fastai/callback/fp16.py\u001b[0m in \u001b[0;36mbefore_step\u001b[0;34m(self)\u001b[0m\n\u001b[1;32m     53\u001b[0m         \u001b[0;34m\"Use `self` as a fake optimizer. `self.skipped` will be set to True `after_step` if gradients overflow.\"\u001b[0m\u001b[0;34m\u001b[0m\u001b[0;34m\u001b[0m\u001b[0m\n\u001b[1;32m     54\u001b[0m         \u001b[0mself\u001b[0m\u001b[0;34m.\u001b[0m\u001b[0mskipped\u001b[0m\u001b[0;34m=\u001b[0m\u001b[0;32mTrue\u001b[0m\u001b[0;34m\u001b[0m\u001b[0;34m\u001b[0m\u001b[0m\n\u001b[0;32m---> 55\u001b[0;31m         \u001b[0mself\u001b[0m\u001b[0;34m.\u001b[0m\u001b[0mscaler\u001b[0m\u001b[0;34m.\u001b[0m\u001b[0mstep\u001b[0m\u001b[0;34m(\u001b[0m\u001b[0mself\u001b[0m\u001b[0;34m)\u001b[0m\u001b[0;34m\u001b[0m\u001b[0;34m\u001b[0m\u001b[0m\n\u001b[0m\u001b[1;32m     56\u001b[0m         \u001b[0;32mif\u001b[0m \u001b[0mself\u001b[0m\u001b[0;34m.\u001b[0m\u001b[0mskipped\u001b[0m\u001b[0;34m:\u001b[0m \u001b[0;32mraise\u001b[0m \u001b[0mCancelStepException\u001b[0m\u001b[0;34m(\u001b[0m\u001b[0;34m)\u001b[0m\u001b[0;34m\u001b[0m\u001b[0;34m\u001b[0m\u001b[0m\n\u001b[1;32m     57\u001b[0m         \u001b[0mself\u001b[0m\u001b[0;34m.\u001b[0m\u001b[0mscales\u001b[0m\u001b[0;34m.\u001b[0m\u001b[0mappend\u001b[0m\u001b[0;34m(\u001b[0m\u001b[0mself\u001b[0m\u001b[0;34m.\u001b[0m\u001b[0mscaler\u001b[0m\u001b[0;34m.\u001b[0m\u001b[0mget_scale\u001b[0m\u001b[0;34m(\u001b[0m\u001b[0;34m)\u001b[0m\u001b[0;34m)\u001b[0m\u001b[0;34m\u001b[0m\u001b[0;34m\u001b[0m\u001b[0m\n",
            "\u001b[0;32m/usr/local/lib/python3.10/dist-packages/torch/cuda/amp/grad_scaler.py\u001b[0m in \u001b[0;36mstep\u001b[0;34m(self, optimizer, *args, **kwargs)\u001b[0m\n\u001b[1;32m    450\u001b[0m         ), \"No inf checks were recorded for this optimizer.\"\n\u001b[1;32m    451\u001b[0m \u001b[0;34m\u001b[0m\u001b[0m\n\u001b[0;32m--> 452\u001b[0;31m         \u001b[0mretval\u001b[0m \u001b[0;34m=\u001b[0m \u001b[0mself\u001b[0m\u001b[0;34m.\u001b[0m\u001b[0m_maybe_opt_step\u001b[0m\u001b[0;34m(\u001b[0m\u001b[0moptimizer\u001b[0m\u001b[0;34m,\u001b[0m \u001b[0moptimizer_state\u001b[0m\u001b[0;34m,\u001b[0m \u001b[0;34m*\u001b[0m\u001b[0margs\u001b[0m\u001b[0;34m,\u001b[0m \u001b[0;34m**\u001b[0m\u001b[0mkwargs\u001b[0m\u001b[0;34m)\u001b[0m\u001b[0;34m\u001b[0m\u001b[0;34m\u001b[0m\u001b[0m\n\u001b[0m\u001b[1;32m    453\u001b[0m \u001b[0;34m\u001b[0m\u001b[0m\n\u001b[1;32m    454\u001b[0m         \u001b[0moptimizer_state\u001b[0m\u001b[0;34m[\u001b[0m\u001b[0;34m\"stage\"\u001b[0m\u001b[0;34m]\u001b[0m \u001b[0;34m=\u001b[0m \u001b[0mOptState\u001b[0m\u001b[0;34m.\u001b[0m\u001b[0mSTEPPED\u001b[0m\u001b[0;34m\u001b[0m\u001b[0;34m\u001b[0m\u001b[0m\n",
            "\u001b[0;32m/usr/local/lib/python3.10/dist-packages/torch/cuda/amp/grad_scaler.py\u001b[0m in \u001b[0;36m_maybe_opt_step\u001b[0;34m(self, optimizer, optimizer_state, *args, **kwargs)\u001b[0m\n\u001b[1;32m    347\u001b[0m     ) -> Optional[float]:\n\u001b[1;32m    348\u001b[0m         \u001b[0mretval\u001b[0m\u001b[0;34m:\u001b[0m \u001b[0mOptional\u001b[0m\u001b[0;34m[\u001b[0m\u001b[0mfloat\u001b[0m\u001b[0;34m]\u001b[0m \u001b[0;34m=\u001b[0m \u001b[0;32mNone\u001b[0m\u001b[0;34m\u001b[0m\u001b[0;34m\u001b[0m\u001b[0m\n\u001b[0;32m--> 349\u001b[0;31m         \u001b[0;32mif\u001b[0m \u001b[0;32mnot\u001b[0m \u001b[0msum\u001b[0m\u001b[0;34m(\u001b[0m\u001b[0mv\u001b[0m\u001b[0;34m.\u001b[0m\u001b[0mitem\u001b[0m\u001b[0;34m(\u001b[0m\u001b[0;34m)\u001b[0m \u001b[0;32mfor\u001b[0m \u001b[0mv\u001b[0m \u001b[0;32min\u001b[0m \u001b[0moptimizer_state\u001b[0m\u001b[0;34m[\u001b[0m\u001b[0;34m\"found_inf_per_device\"\u001b[0m\u001b[0;34m]\u001b[0m\u001b[0;34m.\u001b[0m\u001b[0mvalues\u001b[0m\u001b[0;34m(\u001b[0m\u001b[0;34m)\u001b[0m\u001b[0;34m)\u001b[0m\u001b[0;34m:\u001b[0m\u001b[0;34m\u001b[0m\u001b[0;34m\u001b[0m\u001b[0m\n\u001b[0m\u001b[1;32m    350\u001b[0m             \u001b[0mretval\u001b[0m \u001b[0;34m=\u001b[0m \u001b[0moptimizer\u001b[0m\u001b[0;34m.\u001b[0m\u001b[0mstep\u001b[0m\u001b[0;34m(\u001b[0m\u001b[0;34m*\u001b[0m\u001b[0margs\u001b[0m\u001b[0;34m,\u001b[0m \u001b[0;34m**\u001b[0m\u001b[0mkwargs\u001b[0m\u001b[0;34m)\u001b[0m\u001b[0;34m\u001b[0m\u001b[0;34m\u001b[0m\u001b[0m\n\u001b[1;32m    351\u001b[0m         \u001b[0;32mreturn\u001b[0m \u001b[0mretval\u001b[0m\u001b[0;34m\u001b[0m\u001b[0;34m\u001b[0m\u001b[0m\n",
            "\u001b[0;32m/usr/local/lib/python3.10/dist-packages/torch/cuda/amp/grad_scaler.py\u001b[0m in \u001b[0;36m<genexpr>\u001b[0;34m(.0)\u001b[0m\n\u001b[1;32m    347\u001b[0m     ) -> Optional[float]:\n\u001b[1;32m    348\u001b[0m         \u001b[0mretval\u001b[0m\u001b[0;34m:\u001b[0m \u001b[0mOptional\u001b[0m\u001b[0;34m[\u001b[0m\u001b[0mfloat\u001b[0m\u001b[0;34m]\u001b[0m \u001b[0;34m=\u001b[0m \u001b[0;32mNone\u001b[0m\u001b[0;34m\u001b[0m\u001b[0;34m\u001b[0m\u001b[0m\n\u001b[0;32m--> 349\u001b[0;31m         \u001b[0;32mif\u001b[0m \u001b[0;32mnot\u001b[0m \u001b[0msum\u001b[0m\u001b[0;34m(\u001b[0m\u001b[0mv\u001b[0m\u001b[0;34m.\u001b[0m\u001b[0mitem\u001b[0m\u001b[0;34m(\u001b[0m\u001b[0;34m)\u001b[0m \u001b[0;32mfor\u001b[0m \u001b[0mv\u001b[0m \u001b[0;32min\u001b[0m \u001b[0moptimizer_state\u001b[0m\u001b[0;34m[\u001b[0m\u001b[0;34m\"found_inf_per_device\"\u001b[0m\u001b[0;34m]\u001b[0m\u001b[0;34m.\u001b[0m\u001b[0mvalues\u001b[0m\u001b[0;34m(\u001b[0m\u001b[0;34m)\u001b[0m\u001b[0;34m)\u001b[0m\u001b[0;34m:\u001b[0m\u001b[0;34m\u001b[0m\u001b[0;34m\u001b[0m\u001b[0m\n\u001b[0m\u001b[1;32m    350\u001b[0m             \u001b[0mretval\u001b[0m \u001b[0;34m=\u001b[0m \u001b[0moptimizer\u001b[0m\u001b[0;34m.\u001b[0m\u001b[0mstep\u001b[0m\u001b[0;34m(\u001b[0m\u001b[0;34m*\u001b[0m\u001b[0margs\u001b[0m\u001b[0;34m,\u001b[0m \u001b[0;34m**\u001b[0m\u001b[0mkwargs\u001b[0m\u001b[0;34m)\u001b[0m\u001b[0;34m\u001b[0m\u001b[0;34m\u001b[0m\u001b[0m\n\u001b[1;32m    351\u001b[0m         \u001b[0;32mreturn\u001b[0m \u001b[0mretval\u001b[0m\u001b[0;34m\u001b[0m\u001b[0;34m\u001b[0m\u001b[0m\n",
            "\u001b[0;31mKeyboardInterrupt\u001b[0m: "
          ]
        }
      ],
      "source": [
        "# train the learner object\n",
        "learn.fine_tune(5, 1e-2)"
      ]
    },
    {
      "cell_type": "code",
      "execution_count": null,
      "metadata": {
        "id": "x7fO0cuVET8W"
      },
      "outputs": [],
      "source": [
        "learn.save_encoder('finetuned')"
      ]
    },
    {
      "cell_type": "code",
      "source": [
        "blocks=(TextBlock.from_df('content', seq_len=dls.seq_len, vocab=dls.vocab), CategoryBlock())"
      ],
      "metadata": {
        "id": "NIwiWSQ6oGtM"
      },
      "execution_count": null,
      "outputs": []
    },
    {
      "cell_type": "code",
      "execution_count": null,
      "metadata": {
        "id": "wnqgcWDGwWtZ"
      },
      "outputs": [],
      "source": [
        "\n",
        "dls = DataBlock(blocks=blocks,\n",
        "                          get_x=ColReader('text'),\n",
        "                          get_y=ColReader('category'),\n",
        "                          splitter=RandomSplitter(0.2))"
      ]
    },
    {
      "cell_type": "code",
      "execution_count": null,
      "metadata": {
        "id": "BXZqnfMzyDi1",
        "colab": {
          "base_uri": "https://localhost:8080/",
          "height": 17
        },
        "outputId": "73e61a63-7985-4933-d0ea-d1a1174c589d"
      },
      "outputs": [
        {
          "output_type": "display_data",
          "data": {
            "text/plain": [
              "<IPython.core.display.HTML object>"
            ],
            "text/html": [
              "\n",
              "<style>\n",
              "    /* Turns off some styling */\n",
              "    progress {\n",
              "        /* gets rid of default border in Firefox and Opera. */\n",
              "        border: none;\n",
              "        /* Needs to be in here for Safari polyfill so background images work as expected. */\n",
              "        background-size: auto;\n",
              "    }\n",
              "    progress:not([value]), progress:not([value])::-webkit-progress-bar {\n",
              "        background: repeating-linear-gradient(45deg, #7e7e7e, #7e7e7e 10px, #5c5c5c 10px, #5c5c5c 20px);\n",
              "    }\n",
              "    .progress-bar-interrupted, .progress-bar-interrupted::-webkit-progress-bar {\n",
              "        background: #F44336;\n",
              "    }\n",
              "</style>\n"
            ]
          },
          "metadata": {}
        },
        {
          "output_type": "display_data",
          "data": {
            "text/plain": [
              "<IPython.core.display.HTML object>"
            ],
            "text/html": []
          },
          "metadata": {}
        }
      ],
      "source": [
        "dls =dls.dataloaders(df_trn, bs=64)"
      ]
    },
    {
      "cell_type": "code",
      "execution_count": null,
      "metadata": {
        "id": "sEvq0Ektyw7-",
        "colab": {
          "base_uri": "https://localhost:8080/",
          "height": 439
        },
        "outputId": "7a7feaed-b9e8-4bda-b24f-749fe8bbc6f8"
      },
      "outputs": [
        {
          "output_type": "display_data",
          "data": {
            "text/plain": [
              "<IPython.core.display.HTML object>"
            ],
            "text/html": [
              "<table border=\"1\" class=\"dataframe\">\n",
              "  <thead>\n",
              "    <tr style=\"text-align: right;\">\n",
              "      <th></th>\n",
              "      <th>text</th>\n",
              "      <th>category</th>\n",
              "    </tr>\n",
              "  </thead>\n",
              "  <tbody>\n",
              "    <tr>\n",
              "      <th>0</th>\n",
              "      <td>xxbos xxup rais xxmaj john xxmaj magufuli amewaagiza wafanyabiashara kulipa kodi kwa wakati , kutotoa rushwa na kuripoti xxunk rushwa . xxmaj akizungumza na wafanyabiasha xxmaj ikulu jana , xxmaj rais xxmaj magufuli aliwapongeza wafanyabiashara hao kufika katika mkutano huo kwa gharama zao na pia kutoa michango yao kwa lengo la kuboresha huduma za serikali lakini pia mazingira ya biashara.alisema lengo la mkutano huo ilikuwa ni kueleza changamoto mbalimbali zinazosababisha kodi xxunk ipasavyo ambapo alikumbusha kuwa kazi ya xxmaj mamlaka ya xxmaj mapato ( tra ) ni kukusanya kodi . xxmaj aliwashukuru wafanyabiashara hao kwa kusema ukweli na wameeleza kodi inayokusanywa labda asilimia tatu ndio inakwenda serikali na asilimia kubwa inapotea kutokana na rushwa.alisema kodi xxunk kama nchi itaingia katika matatizo makubwa na kuongeza kuwa maendelo yote yanayofanyika ni kutokana na kodi za wananchi . “ vituo vya afya , hospitali vyote vinajengwa kwa kodi za wananchi . xxmaj kuna</td>\n",
              "      <td>Kitaifa</td>\n",
              "    </tr>\n",
              "    <tr>\n",
              "      <th>1</th>\n",
              "      <td>xxbos [ \" tottenham huenda xxunk kiungo wa kati wa xxmaj denmark xxmaj christian xxmaj eriksen , 27 , na mshambuliaji wa xxmaj juventus ' raia wa xxmaj argentina xxmaj paulo xxmaj dybala , 25 , wakati wa dirisha la uhamisho la mwezi xxmaj januari . ( tuttosport , via xxmaj express ) \" , ' kiungo wa kati wa xxmaj manchester xxmaj paul xxmaj pogba , 26 , amekubali malipo ya xxunk wa £ xxunk , xxrep 3 0 kwa wiki na xxmaj paris st - germain kabla ya siku ya mwisho ya dirisha la uhamisho lakini uhamisho huo uligonga mwamba baada ya xxmaj neymar kushindwa kuhamia xxmaj barcelona . ( calciomercato , via xxmaj sun ) ' , \" real xxmaj madrid na xxmaj chelsea wameafikiana makubaliano ya uhamisho wa kiungo n'golo xxmaj kante , 28 , ambapo klabu hiyo xxunk klabu hiyo ya xxmaj uhispania iwapo watapokea</td>\n",
              "      <td>michezo</td>\n",
              "    </tr>\n",
              "    <tr>\n",
              "      <th>2</th>\n",
              "      <td>xxbos xxup wakati xxmaj tanzania ikiweka mikakati mbalimbali ya kuinua soka kwa kutunga sera na kuweka mipango kadha wa kadha , imebainika kuwa viongozi , watalaamu na wachezaji wanahusika kwa kiasi kikubwa katika xxunk maendeleo mchezo huo xxunk la habarileo xxunk kwa kina sakata la hongo kwenye soka ikiwa ni siku chache tangu aliyekuwa xxmaj kiungo wa xxmaj klabu ya xxup kmc inayoshiriki xxmaj ligi xxmaj kuu xxmaj bara , xxmaj abdulhalim xxmaj humud kutoka hadharani na kudai kuwa viongozi klabu za soka nchini wanadai hongo huku wachezaji nao wakitoa xxunk wapate kusajiliwa au kupata nafasi ya kucheza kwenye klabu xxunk huyo wa zamani wa xxmaj simba , xxmaj mtibwa na xxmaj azam xxup fc anabainisha kuwa xxunk hongo katika soka ni viongozi na makocha kutaka kunufaika kupitia mchakato mzima wa usajili unaohusisha mikataba ya xxunk hivyo anaeleza kuwa baadhi ya wachezaji xxunk ndani ya iliyokuwa klabu yake wamekuwa wepesi</td>\n",
              "      <td>michezo</td>\n",
              "    </tr>\n",
              "  </tbody>\n",
              "</table>"
            ]
          },
          "metadata": {}
        }
      ],
      "source": [
        "dls.show_batch(max_n=3)"
      ]
    },
    {
      "cell_type": "code",
      "execution_count": null,
      "metadata": {
        "id": "uSkXI7HJET_r",
        "colab": {
          "base_uri": "https://localhost:8080/"
        },
        "outputId": "e39d5145-a606-408a-e058-775d4cec0989"
      },
      "outputs": [
        {
          "output_type": "execute_result",
          "data": {
            "text/plain": [
              "<fastai.text.learner.TextLearner at 0x7d497f688fa0>"
            ]
          },
          "metadata": {},
          "execution_count": 189
        }
      ],
      "source": [
        "learn_2 = text_classifier_learner(dls, AWD_LSTM, metrics=[accuracy]).to_fp16()\n",
        "learn_2.load_encoder('finetuned')"
      ]
    },
    {
      "cell_type": "code",
      "execution_count": null,
      "metadata": {
        "id": "1VaunwDAMmLV",
        "colab": {
          "base_uri": "https://localhost:8080/",
          "height": 472
        },
        "outputId": "6ee9fc0b-6bfa-4754-a6a1-6daf8873ce39"
      },
      "outputs": [
        {
          "output_type": "display_data",
          "data": {
            "text/plain": [
              "<IPython.core.display.HTML object>"
            ],
            "text/html": [
              "\n",
              "<style>\n",
              "    /* Turns off some styling */\n",
              "    progress {\n",
              "        /* gets rid of default border in Firefox and Opera. */\n",
              "        border: none;\n",
              "        /* Needs to be in here for Safari polyfill so background images work as expected. */\n",
              "        background-size: auto;\n",
              "    }\n",
              "    progress:not([value]), progress:not([value])::-webkit-progress-bar {\n",
              "        background: repeating-linear-gradient(45deg, #7e7e7e, #7e7e7e 10px, #5c5c5c 10px, #5c5c5c 20px);\n",
              "    }\n",
              "    .progress-bar-interrupted, .progress-bar-interrupted::-webkit-progress-bar {\n",
              "        background: #F44336;\n",
              "    }\n",
              "</style>\n"
            ]
          },
          "metadata": {}
        },
        {
          "output_type": "display_data",
          "data": {
            "text/plain": [
              "<IPython.core.display.HTML object>"
            ],
            "text/html": []
          },
          "metadata": {}
        },
        {
          "output_type": "execute_result",
          "data": {
            "text/plain": [
              "SuggestedLRs(valley=0.04786301031708717)"
            ]
          },
          "metadata": {},
          "execution_count": 190
        },
        {
          "output_type": "display_data",
          "data": {
            "text/plain": [
              "<Figure size 640x480 with 1 Axes>"
            ],
            "image/png": "[encoded data removed]"
          },
          "metadata": {}
        }
      ],
      "source": [
        "learn_2.lr_find()\n"
      ]
    },
    {
      "cell_type": "code",
      "execution_count": null,
      "metadata": {
        "id": "s7GTTw1GMl2F",
        "colab": {
          "base_uri": "https://localhost:8080/",
          "height": 206
        },
        "outputId": "2646743c-27aa-4030-d7da-a815968d6276"
      },
      "outputs": [
        {
          "output_type": "display_data",
          "data": {
            "text/plain": [
              "<IPython.core.display.HTML object>"
            ],
            "text/html": [
              "\n",
              "<style>\n",
              "    /* Turns off some styling */\n",
              "    progress {\n",
              "        /* gets rid of default border in Firefox and Opera. */\n",
              "        border: none;\n",
              "        /* Needs to be in here for Safari polyfill so background images work as expected. */\n",
              "        background-size: auto;\n",
              "    }\n",
              "    progress:not([value]), progress:not([value])::-webkit-progress-bar {\n",
              "        background: repeating-linear-gradient(45deg, #7e7e7e, #7e7e7e 10px, #5c5c5c 10px, #5c5c5c 20px);\n",
              "    }\n",
              "    .progress-bar-interrupted, .progress-bar-interrupted::-webkit-progress-bar {\n",
              "        background: #F44336;\n",
              "    }\n",
              "</style>\n"
            ]
          },
          "metadata": {}
        },
        {
          "output_type": "display_data",
          "data": {
            "text/plain": [
              "<IPython.core.display.HTML object>"
            ],
            "text/html": [
              "<table border=\"1\" class=\"dataframe\">\n",
              "  <thead>\n",
              "    <tr style=\"text-align: left;\">\n",
              "      <th>epoch</th>\n",
              "      <th>train_loss</th>\n",
              "      <th>valid_loss</th>\n",
              "      <th>accuracy</th>\n",
              "      <th>time</th>\n",
              "    </tr>\n",
              "  </thead>\n",
              "  <tbody>\n",
              "    <tr>\n",
              "      <td>0</td>\n",
              "      <td>0.504461</td>\n",
              "      <td>0.305427</td>\n",
              "      <td>0.884882</td>\n",
              "      <td>00:09</td>\n",
              "    </tr>\n",
              "    <tr>\n",
              "      <td>1</td>\n",
              "      <td>0.526603</td>\n",
              "      <td>0.311792</td>\n",
              "      <td>0.877947</td>\n",
              "      <td>00:09</td>\n",
              "    </tr>\n",
              "    <tr>\n",
              "      <td>2</td>\n",
              "      <td>0.509559</td>\n",
              "      <td>0.301252</td>\n",
              "      <td>0.883495</td>\n",
              "      <td>00:09</td>\n",
              "    </tr>\n",
              "    <tr>\n",
              "      <td>3</td>\n",
              "      <td>0.502577</td>\n",
              "      <td>0.292524</td>\n",
              "      <td>0.890430</td>\n",
              "      <td>00:09</td>\n",
              "    </tr>\n",
              "    <tr>\n",
              "      <td>4</td>\n",
              "      <td>0.504612</td>\n",
              "      <td>0.293297</td>\n",
              "      <td>0.887656</td>\n",
              "      <td>00:09</td>\n",
              "    </tr>\n",
              "  </tbody>\n",
              "</table>"
            ]
          },
          "metadata": {}
        }
      ],
      "source": [
        "learn_2.fit_one_cycle(5,5e-2)"
      ]
    },
    {
      "cell_type": "code",
      "execution_count": null,
      "metadata": {
        "id": "fcbBNZB617rK",
        "colab": {
          "base_uri": "https://localhost:8080/",
          "height": 206
        },
        "outputId": "03024e11-fddd-49ea-cbdd-bc6cf68def9a"
      },
      "outputs": [
        {
          "output_type": "display_data",
          "data": {
            "text/plain": [
              "<IPython.core.display.HTML object>"
            ],
            "text/html": [
              "\n",
              "<style>\n",
              "    /* Turns off some styling */\n",
              "    progress {\n",
              "        /* gets rid of default border in Firefox and Opera. */\n",
              "        border: none;\n",
              "        /* Needs to be in here for Safari polyfill so background images work as expected. */\n",
              "        background-size: auto;\n",
              "    }\n",
              "    progress:not([value]), progress:not([value])::-webkit-progress-bar {\n",
              "        background: repeating-linear-gradient(45deg, #7e7e7e, #7e7e7e 10px, #5c5c5c 10px, #5c5c5c 20px);\n",
              "    }\n",
              "    .progress-bar-interrupted, .progress-bar-interrupted::-webkit-progress-bar {\n",
              "        background: #F44336;\n",
              "    }\n",
              "</style>\n"
            ]
          },
          "metadata": {}
        },
        {
          "output_type": "display_data",
          "data": {
            "text/plain": [
              "<IPython.core.display.HTML object>"
            ],
            "text/html": [
              "<table border=\"1\" class=\"dataframe\">\n",
              "  <thead>\n",
              "    <tr style=\"text-align: left;\">\n",
              "      <th>epoch</th>\n",
              "      <th>train_loss</th>\n",
              "      <th>valid_loss</th>\n",
              "      <th>accuracy</th>\n",
              "      <th>time</th>\n",
              "    </tr>\n",
              "  </thead>\n",
              "  <tbody>\n",
              "    <tr>\n",
              "      <td>0</td>\n",
              "      <td>0.488014</td>\n",
              "      <td>0.319271</td>\n",
              "      <td>0.875173</td>\n",
              "      <td>00:10</td>\n",
              "    </tr>\n",
              "    <tr>\n",
              "      <td>1</td>\n",
              "      <td>0.480367</td>\n",
              "      <td>0.276842</td>\n",
              "      <td>0.890430</td>\n",
              "      <td>00:10</td>\n",
              "    </tr>\n",
              "    <tr>\n",
              "      <td>2</td>\n",
              "      <td>0.424701</td>\n",
              "      <td>0.265596</td>\n",
              "      <td>0.908460</td>\n",
              "      <td>00:10</td>\n",
              "    </tr>\n",
              "    <tr>\n",
              "      <td>3</td>\n",
              "      <td>0.367108</td>\n",
              "      <td>0.249356</td>\n",
              "      <td>0.911234</td>\n",
              "      <td>00:10</td>\n",
              "    </tr>\n",
              "    <tr>\n",
              "      <td>4</td>\n",
              "      <td>0.330675</td>\n",
              "      <td>0.252874</td>\n",
              "      <td>0.911234</td>\n",
              "      <td>00:11</td>\n",
              "    </tr>\n",
              "  </tbody>\n",
              "</table>"
            ]
          },
          "metadata": {}
        }
      ],
      "source": [
        "learn_2.freeze_to(-2)\n",
        "learn_2.fit_one_cycle(5, slice(1e-3/(2.6**4),5e-2))"
      ]
    },
    {
      "cell_type": "code",
      "execution_count": null,
      "metadata": {
        "id": "pfGp810n2_w0",
        "colab": {
          "base_uri": "https://localhost:8080/",
          "height": 206
        },
        "outputId": "ef450b2d-1d3a-43a3-bf74-e36aaded97c9"
      },
      "outputs": [
        {
          "output_type": "display_data",
          "data": {
            "text/plain": [
              "<IPython.core.display.HTML object>"
            ],
            "text/html": [
              "\n",
              "<style>\n",
              "    /* Turns off some styling */\n",
              "    progress {\n",
              "        /* gets rid of default border in Firefox and Opera. */\n",
              "        border: none;\n",
              "        /* Needs to be in here for Safari polyfill so background images work as expected. */\n",
              "        background-size: auto;\n",
              "    }\n",
              "    progress:not([value]), progress:not([value])::-webkit-progress-bar {\n",
              "        background: repeating-linear-gradient(45deg, #7e7e7e, #7e7e7e 10px, #5c5c5c 10px, #5c5c5c 20px);\n",
              "    }\n",
              "    .progress-bar-interrupted, .progress-bar-interrupted::-webkit-progress-bar {\n",
              "        background: #F44336;\n",
              "    }\n",
              "</style>\n"
            ]
          },
          "metadata": {}
        },
        {
          "output_type": "display_data",
          "data": {
            "text/plain": [
              "<IPython.core.display.HTML object>"
            ],
            "text/html": [
              "<table border=\"1\" class=\"dataframe\">\n",
              "  <thead>\n",
              "    <tr style=\"text-align: left;\">\n",
              "      <th>epoch</th>\n",
              "      <th>train_loss</th>\n",
              "      <th>valid_loss</th>\n",
              "      <th>accuracy</th>\n",
              "      <th>time</th>\n",
              "    </tr>\n",
              "  </thead>\n",
              "  <tbody>\n",
              "    <tr>\n",
              "      <td>0</td>\n",
              "      <td>0.347971</td>\n",
              "      <td>0.276328</td>\n",
              "      <td>0.904300</td>\n",
              "      <td>00:13</td>\n",
              "    </tr>\n",
              "    <tr>\n",
              "      <td>1</td>\n",
              "      <td>0.408930</td>\n",
              "      <td>0.239025</td>\n",
              "      <td>0.908460</td>\n",
              "      <td>00:14</td>\n",
              "    </tr>\n",
              "    <tr>\n",
              "      <td>2</td>\n",
              "      <td>0.377612</td>\n",
              "      <td>0.227485</td>\n",
              "      <td>0.926491</td>\n",
              "      <td>00:13</td>\n",
              "    </tr>\n",
              "    <tr>\n",
              "      <td>3</td>\n",
              "      <td>0.319120</td>\n",
              "      <td>0.217326</td>\n",
              "      <td>0.925104</td>\n",
              "      <td>00:13</td>\n",
              "    </tr>\n",
              "    <tr>\n",
              "      <td>4</td>\n",
              "      <td>0.268735</td>\n",
              "      <td>0.226587</td>\n",
              "      <td>0.920943</td>\n",
              "      <td>00:13</td>\n",
              "    </tr>\n",
              "  </tbody>\n",
              "</table>"
            ]
          },
          "metadata": {}
        }
      ],
      "source": [
        "learn_2.freeze_to(-3)\n",
        "learn_2.fit_one_cycle(5, slice(5e-3/(2.6**4),5e-2))"
      ]
    },
    {
      "cell_type": "code",
      "execution_count": null,
      "metadata": {
        "id": "D12hTZi23fJf",
        "colab": {
          "base_uri": "https://localhost:8080/",
          "height": 95
        },
        "outputId": "2a3b9ef9-252d-423b-cca9-5b6a89cb2cce"
      },
      "outputs": [
        {
          "output_type": "display_data",
          "data": {
            "text/plain": [
              "<IPython.core.display.HTML object>"
            ],
            "text/html": [
              "\n",
              "<style>\n",
              "    /* Turns off some styling */\n",
              "    progress {\n",
              "        /* gets rid of default border in Firefox and Opera. */\n",
              "        border: none;\n",
              "        /* Needs to be in here for Safari polyfill so background images work as expected. */\n",
              "        background-size: auto;\n",
              "    }\n",
              "    progress:not([value]), progress:not([value])::-webkit-progress-bar {\n",
              "        background: repeating-linear-gradient(45deg, #7e7e7e, #7e7e7e 10px, #5c5c5c 10px, #5c5c5c 20px);\n",
              "    }\n",
              "    .progress-bar-interrupted, .progress-bar-interrupted::-webkit-progress-bar {\n",
              "        background: #F44336;\n",
              "    }\n",
              "</style>\n"
            ]
          },
          "metadata": {}
        },
        {
          "output_type": "display_data",
          "data": {
            "text/plain": [
              "<IPython.core.display.HTML object>"
            ],
            "text/html": [
              "\n",
              "    <div>\n",
              "      <progress value='0' class='' max='5' style='width:300px; height:20px; vertical-align: middle;'></progress>\n",
              "      0.00% [0/5 00:00&lt;?]\n",
              "    </div>\n",
              "    \n",
              "<table border=\"1\" class=\"dataframe\">\n",
              "  <thead>\n",
              "    <tr style=\"text-align: left;\">\n",
              "      <th>epoch</th>\n",
              "      <th>train_loss</th>\n",
              "      <th>valid_loss</th>\n",
              "      <th>accuracy</th>\n",
              "      <th>time</th>\n",
              "    </tr>\n",
              "  </thead>\n",
              "  <tbody>\n",
              "  </tbody>\n",
              "</table><p>\n",
              "\n",
              "    <div>\n",
              "      <progress value='44' class='' max='45' style='width:300px; height:20px; vertical-align: middle;'></progress>\n",
              "      97.78% [44/45 00:14&lt;00:00 0.2258]\n",
              "    </div>\n",
              "    "
            ]
          },
          "metadata": {}
        }
      ],
      "source": [
        "learn_2.unfreeze()\n",
        "learn_2.fit_one_cycle(5, slice(1e-3/(2.6**4),3e-2))"
      ]
    },
    {
      "cell_type": "code",
      "execution_count": null,
      "metadata": {
        "id": "ExppBjILOa4c",
        "colab": {
          "base_uri": "https://localhost:8080/",
          "height": 37
        },
        "outputId": "3c1950c9-61f5-4db6-807e-13ae8f84df54"
      },
      "outputs": [
        {
          "output_type": "display_data",
          "data": {
            "text/plain": [
              "<IPython.core.display.HTML object>"
            ],
            "text/html": [
              "\n",
              "<style>\n",
              "    /* Turns off some styling */\n",
              "    progress {\n",
              "        /* gets rid of default border in Firefox and Opera. */\n",
              "        border: none;\n",
              "        /* Needs to be in here for Safari polyfill so background images work as expected. */\n",
              "        background-size: auto;\n",
              "    }\n",
              "    progress:not([value]), progress:not([value])::-webkit-progress-bar {\n",
              "        background: repeating-linear-gradient(45deg, #7e7e7e, #7e7e7e 10px, #5c5c5c 10px, #5c5c5c 20px);\n",
              "    }\n",
              "    .progress-bar-interrupted, .progress-bar-interrupted::-webkit-progress-bar {\n",
              "        background: #F44336;\n",
              "    }\n",
              "</style>\n"
            ]
          },
          "metadata": {}
        },
        {
          "output_type": "display_data",
          "data": {
            "text/plain": [
              "<IPython.core.display.HTML object>"
            ],
            "text/html": [
              "\n",
              "    <div>\n",
              "      <progress value='0' class='' max='4' style='width:300px; height:20px; vertical-align: middle;'></progress>\n",
              "      \n",
              "    </div>\n",
              "    \n"
            ]
          },
          "metadata": {}
        },
        {
          "output_type": "display_data",
          "data": {
            "text/plain": [
              "<IPython.core.display.HTML object>"
            ],
            "text/html": [
              "\n",
              "<style>\n",
              "    /* Turns off some styling */\n",
              "    progress {\n",
              "        /* gets rid of default border in Firefox and Opera. */\n",
              "        border: none;\n",
              "        /* Needs to be in here for Safari polyfill so background images work as expected. */\n",
              "        background-size: auto;\n",
              "    }\n",
              "    progress:not([value]), progress:not([value])::-webkit-progress-bar {\n",
              "        background: repeating-linear-gradient(45deg, #7e7e7e, #7e7e7e 10px, #5c5c5c 10px, #5c5c5c 20px);\n",
              "    }\n",
              "    .progress-bar-interrupted, .progress-bar-interrupted::-webkit-progress-bar {\n",
              "        background: #F44336;\n",
              "    }\n",
              "</style>\n"
            ]
          },
          "metadata": {}
        },
        {
          "output_type": "display_data",
          "data": {
            "text/plain": [
              "<IPython.core.display.HTML object>"
            ],
            "text/html": []
          },
          "metadata": {}
        }
      ],
      "source": [
        "tdl = learn_2.dls.test_dl(test['content'])\n",
        "test_preds_tta, test_labels_tta = learn_2.tta(dl=tdl)"
      ]
    },
    {
      "cell_type": "code",
      "execution_count": null,
      "metadata": {
        "id": "8fpyd1VyOdcU"
      },
      "outputs": [],
      "source": [
        "preds_test = test_preds_tta"
      ]
    },
    {
      "cell_type": "code",
      "execution_count": null,
      "metadata": {
        "id": "-s1W7j7DOkUe",
        "colab": {
          "base_uri": "https://localhost:8080/"
        },
        "outputId": "ed000dab-9c76-4836-ca56-9f3214ad8e94"
      },
      "outputs": [
        {
          "output_type": "execute_result",
          "data": {
            "text/plain": [
              "tensor([5.7430e-04, 4.8550e-04, 5.5881e-04, 9.9468e-01, 3.6995e-03])"
            ]
          },
          "metadata": {},
          "execution_count": 175
        }
      ],
      "source": [
        "preds_test[0]"
      ]
    },
    {
      "cell_type": "code",
      "execution_count": null,
      "metadata": {
        "id": "EUfkQxCeOpAX",
        "colab": {
          "base_uri": "https://localhost:8080/",
          "height": 206
        },
        "outputId": "a90491a7-4462-49fa-c7ed-11315dc9e708"
      },
      "outputs": [
        {
          "output_type": "execute_result",
          "data": {
            "text/plain": [
              "                                 swahili_id   Kitaifa   michezo  Biashara  \\\n",
              "0  001dd47ac202d9db6624a5ff734a5e7dddafeaf2  0.994682  0.003699  0.000574   \n",
              "1  0043d97f7690e9bc02f0ed8bb2b260d1d44bad92  0.008035  0.990510  0.000340   \n",
              "2  00579c2307b5c11003d21c40c3ecff5e922c3fd8  0.405924  0.000416  0.590616   \n",
              "3  00868eeee349e286303706ef0ffd851f39708d37  0.976108  0.016680  0.000517   \n",
              "4  00a5cb12d3058dcf2e42f277eee599992db32412  0.733807  0.016339  0.248207   \n",
              "\n",
              "   Kimataifa  Burudani  \n",
              "0   0.000559  0.000485  \n",
              "1   0.000159  0.000956  \n",
              "2   0.002254  0.000790  \n",
              "3   0.004452  0.002242  \n",
              "4   0.000522  0.001125  "
            ],
            "text/html": [
              "\n",
              "  <div id=\"df-0be55051-2691-4360-8403-aa0196a97f5d\" class=\"colab-df-container\">\n",
              "    <div>\n",
              "<style scoped>\n",
              "    .dataframe tbody tr th:only-of-type {\n",
              "        vertical-align: middle;\n",
              "    }\n",
              "\n",
              "    .dataframe tbody tr th {\n",
              "        vertical-align: top;\n",
              "    }\n",
              "\n",
              "    .dataframe thead th {\n",
              "        text-align: right;\n",
              "    }\n",
              "</style>\n",
              "<table border=\"1\" class=\"dataframe\">\n",
              "  <thead>\n",
              "    <tr style=\"text-align: right;\">\n",
              "      <th></th>\n",
              "      <th>swahili_id</th>\n",
              "      <th>Kitaifa</th>\n",
              "      <th>michezo</th>\n",
              "      <th>Biashara</th>\n",
              "      <th>Kimataifa</th>\n",
              "      <th>Burudani</th>\n",
              "    </tr>\n",
              "  </thead>\n",
              "  <tbody>\n",
              "    <tr>\n",
              "      <th>0</th>\n",
              "      <td>001dd47ac202d9db6624a5ff734a5e7dddafeaf2</td>\n",
              "      <td>0.994682</td>\n",
              "      <td>0.003699</td>\n",
              "      <td>0.000574</td>\n",
              "      <td>0.000559</td>\n",
              "      <td>0.000485</td>\n",
              "    </tr>\n",
              "    <tr>\n",
              "      <th>1</th>\n",
              "      <td>0043d97f7690e9bc02f0ed8bb2b260d1d44bad92</td>\n",
              "      <td>0.008035</td>\n",
              "      <td>0.990510</td>\n",
              "      <td>0.000340</td>\n",
              "      <td>0.000159</td>\n",
              "      <td>0.000956</td>\n",
              "    </tr>\n",
              "    <tr>\n",
              "      <th>2</th>\n",
              "      <td>00579c2307b5c11003d21c40c3ecff5e922c3fd8</td>\n",
              "      <td>0.405924</td>\n",
              "      <td>0.000416</td>\n",
              "      <td>0.590616</td>\n",
              "      <td>0.002254</td>\n",
              "      <td>0.000790</td>\n",
              "    </tr>\n",
              "    <tr>\n",
              "      <th>3</th>\n",
              "      <td>00868eeee349e286303706ef0ffd851f39708d37</td>\n",
              "      <td>0.976108</td>\n",
              "      <td>0.016680</td>\n",
              "      <td>0.000517</td>\n",
              "      <td>0.004452</td>\n",
              "      <td>0.002242</td>\n",
              "    </tr>\n",
              "    <tr>\n",
              "      <th>4</th>\n",
              "      <td>00a5cb12d3058dcf2e42f277eee599992db32412</td>\n",
              "      <td>0.733807</td>\n",
              "      <td>0.016339</td>\n",
              "      <td>0.248207</td>\n",
              "      <td>0.000522</td>\n",
              "      <td>0.001125</td>\n",
              "    </tr>\n",
              "  </tbody>\n",
              "</table>\n",
              "</div>\n",
              "    <div class=\"colab-df-buttons\">\n",
              "\n",
              "  <div class=\"colab-df-container\">\n",
              "    <button class=\"colab-df-convert\" onclick=\"convertToInteractive('df-0be55051-2691-4360-8403-aa0196a97f5d')\"\n",
              "            title=\"Convert this dataframe to an interactive table.\"\n",
              "            style=\"display:none;\">\n",
              "\n",
              "  <svg xmlns=\"http://www.w3.org/2000/svg\" height=\"24px\" viewBox=\"0 -960 960 960\">\n",
              "    <path d=\"M120-120v-720h720v720H120Zm60-500h600v-160H180v160Zm220 220h160v-160H400v160Zm0 220h160v-160H400v160ZM180-400h160v-160H180v160Zm440 0h160v-160H620v160ZM180-180h160v-160H180v160Zm440 0h160v-160H620v160Z\"/>\n",
              "  </svg>\n",
              "    </button>\n",
              "\n",
              "  <style>\n",
              "    .colab-df-container {\n",
              "      display:flex;\n",
              "      gap: 12px;\n",
              "    }\n",
              "\n",
              "    .colab-df-convert {\n",
              "      background-color: #E8F0FE;\n",
              "      border: none;\n",
              "      border-radius: 50%;\n",
              "      cursor: pointer;\n",
              "      display: none;\n",
              "      fill: #1967D2;\n",
              "      height: 32px;\n",
              "      padding: 0 0 0 0;\n",
              "      width: 32px;\n",
              "    }\n",
              "\n",
              "    .colab-df-convert:hover {\n",
              "      background-color: #E2EBFA;\n",
              "      box-shadow: 0px 1px 2px rgba(60, 64, 67, 0.3), 0px 1px 3px 1px rgba(60, 64, 67, 0.15);\n",
              "      fill: #174EA6;\n",
              "    }\n",
              "\n",
              "    .colab-df-buttons div {\n",
              "      margin-bottom: 4px;\n",
              "    }\n",
              "\n",
              "    [theme=dark] .colab-df-convert {\n",
              "      background-color: #3B4455;\n",
              "      fill: #D2E3FC;\n",
              "    }\n",
              "\n",
              "    [theme=dark] .colab-df-convert:hover {\n",
              "      background-color: #434B5C;\n",
              "      box-shadow: 0px 1px 3px 1px rgba(0, 0, 0, 0.15);\n",
              "      filter: drop-shadow(0px 1px 2px rgba(0, 0, 0, 0.3));\n",
              "      fill: #FFFFFF;\n",
              "    }\n",
              "  </style>\n",
              "\n",
              "    <script>\n",
              "      const buttonEl =\n",
              "        document.querySelector('#df-0be55051-2691-4360-8403-aa0196a97f5d button.colab-df-convert');\n",
              "      buttonEl.style.display =\n",
              "        google.colab.kernel.accessAllowed ? 'block' : 'none';\n",
              "\n",
              "      async function convertToInteractive(key) {\n",
              "        const element = document.querySelector('#df-0be55051-2691-4360-8403-aa0196a97f5d');\n",
              "        const dataTable =\n",
              "          await google.colab.kernel.invokeFunction('convertToInteractive',\n",
              "                                                    [key], {});\n",
              "        if (!dataTable) return;\n",
              "\n",
              "        const docLinkHtml = 'Like what you see? Visit the ' +\n",
              "          '<a target=\"_blank\" href=https://colab.research.google.com/notebooks/data_table.ipynb>data table notebook</a>'\n",
              "          + ' to learn more about interactive tables.';\n",
              "        element.innerHTML = '';\n",
              "        dataTable['output_type'] = 'display_data';\n",
              "        await google.colab.output.renderOutput(dataTable, element);\n",
              "        const docLink = document.createElement('div');\n",
              "        docLink.innerHTML = docLinkHtml;\n",
              "        element.appendChild(docLink);\n",
              "      }\n",
              "    </script>\n",
              "  </div>\n",
              "\n",
              "\n",
              "<div id=\"df-7abd7233-1eba-45fa-97e0-03ae56cc486c\">\n",
              "  <button class=\"colab-df-quickchart\" onclick=\"quickchart('df-7abd7233-1eba-45fa-97e0-03ae56cc486c')\"\n",
              "            title=\"Suggest charts\"\n",
              "            style=\"display:none;\">\n",
              "\n",
              "<svg xmlns=\"http://www.w3.org/2000/svg\" height=\"24px\"viewBox=\"0 0 24 24\"\n",
              "     width=\"24px\">\n",
              "    <g>\n",
              "        <path d=\"M19 3H5c-1.1 0-2 .9-2 2v14c0 1.1.9 2 2 2h14c1.1 0 2-.9 2-2V5c0-1.1-.9-2-2-2zM9 17H7v-7h2v7zm4 0h-2V7h2v10zm4 0h-2v-4h2v4z\"/>\n",
              "    </g>\n",
              "</svg>\n",
              "  </button>\n",
              "\n",
              "<style>\n",
              "  .colab-df-quickchart {\n",
              "      --bg-color: #E8F0FE;\n",
              "      --fill-color: #1967D2;\n",
              "      --hover-bg-color: #E2EBFA;\n",
              "      --hover-fill-color: #174EA6;\n",
              "      --disabled-fill-color: #AAA;\n",
              "      --disabled-bg-color: #DDD;\n",
              "  }\n",
              "\n",
              "  [theme=dark] .colab-df-quickchart {\n",
              "      --bg-color: #3B4455;\n",
              "      --fill-color: #D2E3FC;\n",
              "      --hover-bg-color: #434B5C;\n",
              "      --hover-fill-color: #FFFFFF;\n",
              "      --disabled-bg-color: #3B4455;\n",
              "      --disabled-fill-color: #666;\n",
              "  }\n",
              "\n",
              "  .colab-df-quickchart {\n",
              "    background-color: var(--bg-color);\n",
              "    border: none;\n",
              "    border-radius: 50%;\n",
              "    cursor: pointer;\n",
              "    display: none;\n",
              "    fill: var(--fill-color);\n",
              "    height: 32px;\n",
              "    padding: 0;\n",
              "    width: 32px;\n",
              "  }\n",
              "\n",
              "  .colab-df-quickchart:hover {\n",
              "    background-color: var(--hover-bg-color);\n",
              "    box-shadow: 0 1px 2px rgba(60, 64, 67, 0.3), 0 1px 3px 1px rgba(60, 64, 67, 0.15);\n",
              "    fill: var(--button-hover-fill-color);\n",
              "  }\n",
              "\n",
              "  .colab-df-quickchart-complete:disabled,\n",
              "  .colab-df-quickchart-complete:disabled:hover {\n",
              "    background-color: var(--disabled-bg-color);\n",
              "    fill: var(--disabled-fill-color);\n",
              "    box-shadow: none;\n",
              "  }\n",
              "\n",
              "  .colab-df-spinner {\n",
              "    border: 2px solid var(--fill-color);\n",
              "    border-color: transparent;\n",
              "    border-bottom-color: var(--fill-color);\n",
              "    animation:\n",
              "      spin 1s steps(1) infinite;\n",
              "  }\n",
              "\n",
              "  @keyframes spin {\n",
              "    0% {\n",
              "      border-color: transparent;\n",
              "      border-bottom-color: var(--fill-color);\n",
              "      border-left-color: var(--fill-color);\n",
              "    }\n",
              "    20% {\n",
              "      border-color: transparent;\n",
              "      border-left-color: var(--fill-color);\n",
              "      border-top-color: var(--fill-color);\n",
              "    }\n",
              "    30% {\n",
              "      border-color: transparent;\n",
              "      border-left-color: var(--fill-color);\n",
              "      border-top-color: var(--fill-color);\n",
              "      border-right-color: var(--fill-color);\n",
              "    }\n",
              "    40% {\n",
              "      border-color: transparent;\n",
              "      border-right-color: var(--fill-color);\n",
              "      border-top-color: var(--fill-color);\n",
              "    }\n",
              "    60% {\n",
              "      border-color: transparent;\n",
              "      border-right-color: var(--fill-color);\n",
              "    }\n",
              "    80% {\n",
              "      border-color: transparent;\n",
              "      border-right-color: var(--fill-color);\n",
              "      border-bottom-color: var(--fill-color);\n",
              "    }\n",
              "    90% {\n",
              "      border-color: transparent;\n",
              "      border-bottom-color: var(--fill-color);\n",
              "    }\n",
              "  }\n",
              "</style>\n",
              "\n",
              "  <script>\n",
              "    async function quickchart(key) {\n",
              "      const quickchartButtonEl =\n",
              "        document.querySelector('#' + key + ' button');\n",
              "      quickchartButtonEl.disabled = true;  // To prevent multiple clicks.\n",
              "      quickchartButtonEl.classList.add('colab-df-spinner');\n",
              "      try {\n",
              "        const charts = await google.colab.kernel.invokeFunction(\n",
              "            'suggestCharts', [key], {});\n",
              "      } catch (error) {\n",
              "        console.error('Error during call to suggestCharts:', error);\n",
              "      }\n",
              "      quickchartButtonEl.classList.remove('colab-df-spinner');\n",
              "      quickchartButtonEl.classList.add('colab-df-quickchart-complete');\n",
              "    }\n",
              "    (() => {\n",
              "      let quickchartButtonEl =\n",
              "        document.querySelector('#df-7abd7233-1eba-45fa-97e0-03ae56cc486c button');\n",
              "      quickchartButtonEl.style.display =\n",
              "        google.colab.kernel.accessAllowed ? 'block' : 'none';\n",
              "    })();\n",
              "  </script>\n",
              "</div>\n",
              "\n",
              "    </div>\n",
              "  </div>\n"
            ],
            "application/vnd.google.colaboratory.intrinsic+json": {
              "type": "dataframe",
              "variable_name": "submission",
              "summary": "{\n  \"name\": \"submission\",\n  \"rows\": 1288,\n  \"fields\": [\n    {\n      \"column\": \"swahili_id\",\n      \"properties\": {\n        \"dtype\": \"string\",\n        \"num_unique_values\": 1288,\n        \"samples\": [\n          \"de72e8c4c5a713eb29d2f3adfe3fbbf98d60dcbb\",\n          \"ec476f53f999ad8c6632c829df4afc927e7efc53\",\n          \"5cbeb23ec37cd92586317894971a58371c66dd5e\"\n        ],\n        \"semantic_type\": \"\",\n        \"description\": \"\"\n      }\n    },\n    {\n      \"column\": \"Kitaifa\",\n      \"properties\": {\n        \"dtype\": \"float32\",\n        \"num_unique_values\": 1288,\n        \"samples\": [\n          0.9521704912185669,\n          0.0672234520316124,\n          0.9688565731048584\n        ],\n        \"semantic_type\": \"\",\n        \"description\": \"\"\n      }\n    },\n    {\n      \"column\": \"michezo\",\n      \"properties\": {\n        \"dtype\": \"float32\",\n        \"num_unique_values\": 1286,\n        \"samples\": [\n          0.0034128190018236637,\n          0.0026872800663113594,\n          0.0001976165804080665\n        ],\n        \"semantic_type\": \"\",\n        \"description\": \"\"\n      }\n    },\n    {\n      \"column\": \"Biashara\",\n      \"properties\": {\n        \"dtype\": \"float32\",\n        \"num_unique_values\": 1288,\n        \"samples\": [\n          0.04253578186035156,\n          0.00040840599103830755,\n          0.002686989028006792\n        ],\n        \"semantic_type\": \"\",\n        \"description\": \"\"\n      }\n    },\n    {\n      \"column\": \"Kimataifa\",\n      \"properties\": {\n        \"dtype\": \"float32\",\n        \"num_unique_values\": 1288,\n        \"samples\": [\n          0.0012857242254540324,\n          0.0013856732985004783,\n          0.024781588464975357\n        ],\n        \"semantic_type\": \"\",\n        \"description\": \"\"\n      }\n    },\n    {\n      \"column\": \"Burudani\",\n      \"properties\": {\n        \"dtype\": \"float32\",\n        \"num_unique_values\": 1288,\n        \"samples\": [\n          0.0005806543631479144,\n          0.0029913280159235,\n          0.0009133096318691969\n        ],\n        \"semantic_type\": \"\",\n        \"description\": \"\"\n      }\n    }\n  ]\n}"
            }
          },
          "metadata": {},
          "execution_count": 176
        }
      ],
      "source": [
        "k = np.unique(train.category).tolist()\n",
        "import os\n",
        "submission = ss.copy()\n",
        "for i, c in enumerate(k):\n",
        "  submission[c] = preds_test[:,i]\n",
        "submission = submission[['swahili_id', \"Kitaifa\"   ,\"michezo\"   ,\"Biashara\"   ,\"Kimataifa\"   ,\"Burudani\"]] # Get same order as sample sub\n",
        "submission.head()"
      ]
    },
    {
      "cell_type": "code",
      "execution_count": null,
      "metadata": {
        "id": "hRLhrI_GOw4M"
      },
      "outputs": [],
      "source": [
        "class_list = k\n",
        "class_indexes = np.argmax(preds_test, axis=1)\n",
        "classes = [class_list[idx] for idx in class_indexes]"
      ]
    },
    {
      "cell_type": "code",
      "execution_count": null,
      "metadata": {
        "id": "bJov_JrDOzyZ",
        "colab": {
          "base_uri": "https://localhost:8080/"
        },
        "outputId": "1cfbebd9-dba8-4f71-fd18-4aa0479587b5"
      },
      "outputs": [
        {
          "output_type": "execute_result",
          "data": {
            "text/plain": [
              "Kitaifa      518\n",
              "michezo      442\n",
              "Biashara     320\n",
              "Kimataifa      8\n",
              "Name: count, dtype: int64"
            ]
          },
          "metadata": {},
          "execution_count": 178
        }
      ],
      "source": [
        "pd.Series(classes).value_counts()"
      ]
    },
    {
      "cell_type": "code",
      "execution_count": null,
      "metadata": {
        "id": "a4YXWgPpO4Ow",
        "colab": {
          "base_uri": "https://localhost:8080/"
        },
        "outputId": "4d0d68dc-e4bd-478c-ad4a-b6858c6810eb"
      },
      "outputs": [
        {
          "output_type": "execute_result",
          "data": {
            "text/plain": [
              "category\n",
              "Kitaifa      2000\n",
              "michezo      1720\n",
              "Biashara     1360\n",
              "Kimataifa      54\n",
              "Burudani       17\n",
              "Name: count, dtype: int64"
            ]
          },
          "metadata": {},
          "execution_count": 179
        }
      ],
      "source": [
        "train.category.value_counts()"
      ]
    },
    {
      "cell_type": "code",
      "source": [
        "name = \"FastAI x Blurr.csv\"\n",
        "submission.to_csv(name, index=False)"
      ],
      "metadata": {
        "id": "uUR24Aqp3FwA"
      },
      "execution_count": null,
      "outputs": []
    },
    {
      "cell_type": "code",
      "execution_count": null,
      "metadata": {
        "id": "57PVcyu1O-J2"
      },
      "outputs": [],
      "source": [
        "# name = \"FastAI x Blurr.csv\"\n",
        "# submission.to_csv(name, index=False)\n",
        "# from google.colab import files\n",
        "# files.download(name)"
      ]
    }
  ],
  "metadata": {
    "accelerator": "GPU",
    "colab": {
      "gpuType": "T4",
      "provenance": [],
      "include_colab_link": true
    },
    "kernelspec": {
      "display_name": "Python 3",
      "name": "python3"
    }
  },
  "nbformat": 4,
  "nbformat_minor": 0
}