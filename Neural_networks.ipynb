{
  "nbformat": 4,
  "nbformat_minor": 0,
  "metadata": {
    "colab": {
      "provenance": [],
      "authorship_tag": "ABX9TyMMeodIrDKlKIcCWUtmNacN",
      "include_colab_link": true
    },
    "kernelspec": {
      "name": "python3",
      "display_name": "Python 3"
    },
    "language_info": {
      "name": "python"
    }
  },
  "cells": [
    {
      "cell_type": "markdown",
      "metadata": {
        "id": "view-in-github",
        "colab_type": "text"
      },
      "source": [
        "<a href=\"https://colab.research.google.com/github/ghisford/Machine_learning/blob/main/Neural_networks.ipynb\" target=\"_parent\"><img src=\"https://colab.research.google.com/assets/colab-badge.svg\" alt=\"Open In Colab\"/></a>"
      ]
    },
    {
      "cell_type": "markdown",
      "source": [
        "### Training a perceptron to do a Classification Task\n",
        "1. A perceptron is one of the simplest Artificial Neural networks\n",
        "\n",
        " 1. it contains a summation and activation function\n",
        " 2. inputs are the features\n",
        " 3. The weighted sum determines the strength of connections and determines the output value(not a probability)\n",
        " 4. step functions used mostly are heaviside function and sign function.\n",
        "\n",
        "2. It is based on an artificial neuron called a Threshold Logic Unit(TLU) or Linear Threshold Unit. all the TLUs that make up the perceptron are fully connected\n",
        "3. It uses a step function instead of a logistic regression function\n",
        "4. the commonest step function in perceptrons is the heaviside step function.\n",
        "5. Other times the sign function is used instead"
      ],
      "metadata": {
        "id": "4lR2DPo_Di-B"
      }
    },
    {
      "cell_type": "code",
      "execution_count": null,
      "metadata": {
        "colab": {
          "base_uri": "https://localhost:8080/"
        },
        "id": "vmKoZUXmC_jk",
        "outputId": "44a7cbc6-8d1d-44f8-ff0c-3605d67ddf2f"
      },
      "outputs": [
        {
          "output_type": "execute_result",
          "data": {
            "text/plain": [
              "array([ True, False])"
            ]
          },
          "metadata": {},
          "execution_count": 2
        }
      ],
      "source": [
        "import numpy as np\n",
        "from sklearn.datasets import load_iris\n",
        "from sklearn.linear_model import Perceptron\n",
        "\n",
        "iris = load_iris(as_frame= True)\n",
        "X = iris.data[['petal length (cm)', 'petal width (cm)']].values\n",
        "y = (iris.target== 0)\n",
        "\n",
        "per_clf = Perceptron(random_state= 42)\n",
        "per_clf.fit(X, y)\n",
        "\n",
        "X_new = [[1, 0.5], [3, 1]]\n",
        "y_pred = per_clf.predict(X_new)\n",
        "y_pred"
      ]
    },
    {
      "cell_type": "markdown",
      "source": [
        "1. Unlike logistic regression, perceptrons do not output class probabilities, a reason to prefer logistic regression.\n",
        "2. Perceptrons may train a little faster\n",
        "3. Perceptrons might be more prone to overfitting since they arent regularized and their training stops the moment the prediction error on the dataset is zero.\n",
        "4. The decision boundary of each neuron is linear, so perceptrons are incapable of learning complex patterns- Unless the features are linearly separable, then Rosenblatt demonstrated that this algorithm would converge to a solution.- A theorem known as the Perceptron convergence theorem\n"
      ],
      "metadata": {
        "id": "CMgxWuVvHzuX"
      }
    },
    {
      "cell_type": "markdown",
      "source": [
        "## The Multilayer Perceptron and Backpropagation\n",
        "consists of:\n",
        "1. One input layer\n",
        "2. One or more layers of TLUs called Hidden layers(lower and upper layers)\n",
        "3. one final output layers"
      ],
      "metadata": {
        "id": "luCPSpXiP3SX"
      }
    },
    {
      "cell_type": "markdown",
      "source": [
        "# Neural Networks\n",
        "1. Deep Neural and shallow neural networks\n",
        "2. Initialize all the connections weights of the hidden layers randomly so that they dont end up into one layer.\n",
        "3. reverse-mode automatic differentiation\n",
        "4. Backpropagation ie. measure how much of these errors came from each connection in the layer below it.\n",
        "5. sigmoid(0,1), hyperbolic tangent(-1,1), Rectified Linear Unit(0, infinity)\n",
        "6. weights and biases of each layer updated using gradient descent"
      ],
      "metadata": {
        "id": "mrDrgkR5eEEh"
      }
    },
    {
      "cell_type": "markdown",
      "source": [
        "# Building a Multilayer Perceptron for a Regression problem\n",
        "\n",
        "1. It will consist of 3 hidden layers\n",
        "2. Each layer will have 50 neurons\n",
        "3. The output layer will have 1 neuron since the predicted value is only one.ie price of the building.\n",
        "4. Scaling features is extremely crucial since the training relies on gradient descent algorithm.\n",
        "5. The model uses ReLU activation function in the hidden layers\n",
        "6. It uses a version of gradient descent called Adam to minimize the mean squared error, plus a bit of l2 regularization (via the hyperparameter)"
      ],
      "metadata": {
        "id": "ZIlxzIpqKqvh"
      }
    },
    {
      "cell_type": "markdown",
      "source": [
        "### splitting the data"
      ],
      "metadata": {
        "id": "9mBaj8ttRE61"
      }
    },
    {
      "cell_type": "code",
      "source": [
        "from sklearn.datasets import fetch_california_housing\n",
        "from sklearn.metrics import mean_squared_error\n",
        "from sklearn.model_selection import train_test_split\n",
        "from sklearn.neural_network import MLPRegressor\n",
        "from sklearn.pipeline import make_pipeline\n",
        "from sklearn.preprocessing import StandardScaler\n",
        "\n",
        "\n",
        "housing = fetch_california_housing()\n",
        "X_train_full, X_test, y_train_full,y_test = train_test_split(housing.data,\n",
        "                                                             housing.target, random_state= 42)\n",
        "X_train, X_valid, y_train, y_valid = train_test_split(X_train_full, y_train_full, random_state= 42)"
      ],
      "metadata": {
        "id": "knPH_XMnKrzY"
      },
      "execution_count": null,
      "outputs": []
    },
    {
      "cell_type": "markdown",
      "source": [
        "### Training the model"
      ],
      "metadata": {
        "id": "z2tIMSlxRJxM"
      }
    },
    {
      "cell_type": "code",
      "source": [
        "mlp_reg = MLPRegressor(hidden_layer_sizes= [50,50,50], random_state= 42)\n",
        "pipeline = make_pipeline(StandardScaler(), mlp_reg)\n",
        "pipeline.fit(X_train, y_train)\n",
        "y_pred = pipeline.predict(X_valid)\n",
        "rmse = mean_squared_error(y_valid, y_pred, squared= False)"
      ],
      "metadata": {
        "id": "pQXA0XlvKzdM"
      },
      "execution_count": null,
      "outputs": []
    },
    {
      "cell_type": "markdown",
      "source": [
        "1. The MLPRegressor class uses the mean squared error- good choice\n",
        "2. If we have a lot of outliers in the training set, we may prefer mean absolute error instead.\n",
        "3. Or just use the Huber Loss, which is a combination of both\n",
        "  1. It is quadratic when the error is smaller than a threshold(typically 1)\n",
        "  2. But linear when the error is larger than threshold."
      ],
      "metadata": {
        "id": "dE8c4wwrnhZB"
      }
    },
    {
      "cell_type": "code",
      "source": [
        "# we get 0.505 which is comparable to the value gotten from a random forest classifier\n",
        "rmse"
      ],
      "metadata": {
        "colab": {
          "base_uri": "https://localhost:8080/"
        },
        "id": "tDPDmDO7R7H-",
        "outputId": "69aa59e1-02d5-48f0-fc53-5150305740bc"
      },
      "execution_count": null,
      "outputs": [
        {
          "output_type": "execute_result",
          "data": {
            "text/plain": [
              "0.5053326657968679"
            ]
          },
          "metadata": {},
          "execution_count": 4
        }
      ]
    },
    {
      "cell_type": "markdown",
      "source": [
        "## Important note\n",
        "1. This model does not use any activation function in its output layer. As a result, it outputs any value it wants.\n",
        "2. Generally, its okay. But we only want positive prices and for that reason we shall use a ReLU activation func or a softplus activation func( smooth version of ReLU)\n",
        "    1. softplus is close to zero when value(z) is -ve\n",
        "    2. it is close to z if z is +ve\n",
        "3. if you want the values to always fall within a certain range:  a. use sigmoid(0,1) or hyperbolic tangent(-1,1)  b. scale the targets to the appropriate range.\n",
        "\n",
        "4. Using scikit-learn to build neural nets in a few lines is convinient but limiting interms of features we have access to. That is why we'll go to Keras later."
      ],
      "metadata": {
        "id": "RF3NxczBSvQC"
      }
    },
    {
      "cell_type": "markdown",
      "source": [],
      "metadata": {
        "id": "GNLqzj85lk5-"
      }
    },
    {
      "cell_type": "markdown",
      "source": [
        "# Classification MLPs\n",
        "1. A binary classifier will consist of just 1 output neuron using a sigmoid activation function\n",
        "2. Output will be btn 0-1. Think about it as a probability of the +ve class. you know what to do to get the prob of the -ve class\n",
        "3. They can also handle Mutlilabel binary classification tasks. eg spam or ham, urgent and not-urgent( one email can be both spam and not-urgent)\n",
        "    1. You would need 2 neurons both using sigmoid activation for this one\n",
        "    2. note that the probabilities for the 2 classes do not add up to 1. Each output is independent This lets the model to output any combination of labels\n",
        "4. If each class can only belong to 1 class, then each class need an output neuron.\n",
        "    1. The whole output layer will require a softmax activation function\n",
        "    2. It will ensure that all outputs are btn 0-1 and that they add up to 1.\n",
        "    3. This, ladies and gentlemen, is what we call multiclass classification"
      ],
      "metadata": {
        "id": "aVP-kP9TtA2T"
      }
    },
    {
      "cell_type": "markdown",
      "source": [
        "## Loss Function\n",
        "Since we are predicting probability distributions, the cross-entropy is a good choice"
      ],
      "metadata": {
        "id": "XGcHlQDH1lcE"
      }
    },
    {
      "cell_type": "markdown",
      "source": [
        "### Training an MLPClassifier from sklearn.neural_network"
      ],
      "metadata": {
        "id": "dDv6rxy62Ec9"
      }
    },
    {
      "cell_type": "code",
      "source": [
        "from sklearn.datasets import load_iris\n",
        "from sklearn.neural_network import MLPClassifier\n",
        "from sklearn.metrics import log_loss\n",
        "from sklearn.model_selection import train_test_split\n",
        "from sklearn.pipeline import make_pipeline\n",
        "import numpy as np\n",
        "\n",
        "iris = load_iris(as_frame = True)\n",
        "\n",
        "X = iris.data[['petal length (cm)', 'petal width (cm)']].values\n",
        "y = (iris.target == 0).astype(int) # convert to binary\n",
        "\n",
        "X_train, X_test, y_train, y_test = train_test_split(X, y, random_state= 42)\n",
        "\n",
        "mlp_clf = MLPClassifier(hidden_layer_sizes= [50,50,50], random_state= 42)\n",
        "mlp_clf.fit(X_train,y_train)\n",
        "\n",
        "X_new = np.array([[1, 0.5], [3, 0.1]])\n",
        "\n",
        "y_prob = mlp_clf.predict_proba(X_test)\n",
        "\n",
        "# calculating log loss\n",
        "\n",
        "loss = log_loss(y_test, y_prob)\n",
        "\n",
        "\n",
        "loss\n",
        "# Fuckin WOW that is a relatively small loss!"
      ],
      "metadata": {
        "id": "Zv3UXGfASU2A",
        "colab": {
          "base_uri": "https://localhost:8080/"
        },
        "outputId": "d625ff87-7e99-48b5-8662-0f0bb446f35c"
      },
      "execution_count": null,
      "outputs": [
        {
          "output_type": "execute_result",
          "data": {
            "text/plain": [
              "0.0019826372700932206"
            ]
          },
          "metadata": {},
          "execution_count": 1
        }
      ]
    },
    {
      "cell_type": "markdown",
      "source": [
        "# Implementing MLPs with Keras\n",
        "Keras and Tensorflow are happily married.One wont work without the other.\n",
        "Also, we'll use the Fashion MNIST dataset. colab has them preinstalled but your IDE will need a fresh installation"
      ],
      "metadata": {
        "id": "h0xo1ZUU4nDc"
      }
    },
    {
      "cell_type": "markdown",
      "source": [
        "## Building an image classifier Using the sequential API\n"
      ],
      "metadata": {
        "id": "9-z7E-bpCaSZ"
      }
    },
    {
      "cell_type": "markdown",
      "source": [
        "## Loading data using keras\n",
        "1. The dataset comes split into train and test sets\n",
        "2. We are going to remove 5,000 instances from the train set to create the validation set"
      ],
      "metadata": {
        "id": "XNvJSOIS8N69"
      }
    },
    {
      "cell_type": "code",
      "source": [
        "import tensorflow as tf\n",
        "\n",
        "fashion_mnist = tf.keras.datasets.fashion_mnist.load_data()\n",
        "(X_train_full, y_train_full), (X_test, y_test) = fashion_mnist\n",
        "X_train, y_train = X_train_full[:-5000], y_train_full[:-5000]\n",
        "X_valid, y_valid = X_train_full[-5000:], y_train_full[-5000:]"
      ],
      "metadata": {
        "id": "XZ9HHxSF5p03",
        "colab": {
          "base_uri": "https://localhost:8080/"
        },
        "outputId": "8704752a-4c1c-47da-a2ae-c05935ea620e"
      },
      "execution_count": 2,
      "outputs": [
        {
          "output_type": "stream",
          "name": "stdout",
          "text": [
            "Downloading data from https://storage.googleapis.com/tensorflow/tf-keras-datasets/train-labels-idx1-ubyte.gz\n",
            "29515/29515 [==============================] - 0s 0us/step\n",
            "Downloading data from https://storage.googleapis.com/tensorflow/tf-keras-datasets/train-images-idx3-ubyte.gz\n",
            "26421880/26421880 [==============================] - 0s 0us/step\n",
            "Downloading data from https://storage.googleapis.com/tensorflow/tf-keras-datasets/t10k-labels-idx1-ubyte.gz\n",
            "5148/5148 [==============================] - 0s 0us/step\n",
            "Downloading data from https://storage.googleapis.com/tensorflow/tf-keras-datasets/t10k-images-idx3-ubyte.gz\n",
            "4422102/4422102 [==============================] - 0s 0us/step\n"
          ]
        }
      ]
    },
    {
      "cell_type": "markdown",
      "source": [
        "## Differences in data representation under the hood.\n",
        "keras: image is a 28 x 28 array\n",
        "      : Pixel intensities are integers(0 - 255)\n",
        "\n",
        "scikit learn: 1 x 784 array(1D array)\n",
        "            : pixel intensities are floats(0.0 - 255.0)  "
      ],
      "metadata": {
        "id": "HjY0tY4BC6Ye"
      }
    },
    {
      "cell_type": "code",
      "source": [
        "# checking the shape and datatype of the train set\n",
        "X_train.shape"
      ],
      "metadata": {
        "colab": {
          "base_uri": "https://localhost:8080/"
        },
        "id": "ZbDPQe9sYZJK",
        "outputId": "558c3d69-5ccc-4258-b22a-a750c0f66e7b"
      },
      "execution_count": 5,
      "outputs": [
        {
          "output_type": "execute_result",
          "data": {
            "text/plain": [
              "(55000, 28, 28)"
            ]
          },
          "metadata": {},
          "execution_count": 5
        }
      ]
    },
    {
      "cell_type": "code",
      "source": [
        "X_train.dtype"
      ],
      "metadata": {
        "colab": {
          "base_uri": "https://localhost:8080/"
        },
        "id": "dsJbLBUBYyZr",
        "outputId": "013cfe6f-91ba-4b0d-9dd8-39781a84ec7c"
      },
      "execution_count": 6,
      "outputs": [
        {
          "output_type": "execute_result",
          "data": {
            "text/plain": [
              "dtype('uint8')"
            ]
          },
          "metadata": {},
          "execution_count": 6
        }
      ]
    },
    {
      "cell_type": "markdown",
      "source": [
        "## Scaling the pixel intensities\n",
        "We scale all sets that contain the features"
      ],
      "metadata": {
        "id": "tbxfW-ElZtrx"
      }
    },
    {
      "cell_type": "code",
      "source": [
        "X_train, X_valid, X_test = X_train/255, X_valid/255, X_test/255"
      ],
      "metadata": {
        "id": "sJGu4Cw-ZpyL"
      },
      "execution_count": 3,
      "outputs": []
    },
    {
      "cell_type": "markdown",
      "source": [
        "For the Fashion MNIST we need a list of class names to know the names of the instances. We make sure they are the same. so this list of classnames is not random."
      ],
      "metadata": {
        "id": "mtq91Ofvaqhk"
      }
    },
    {
      "cell_type": "code",
      "source": [
        "class_names = [\"T-shirt/tip\", \"Trouser\", \"Pullover\", \"Dress\", \"Coat\",\n",
        "               \"Sandal\", \"Shirt\", \"Sneaker\", \"Bag\", \"Ankle boot\"]"
      ],
      "metadata": {
        "id": "957Ny_k4adM4"
      },
      "execution_count": 4,
      "outputs": []
    },
    {
      "cell_type": "code",
      "source": [
        "class_names[y_train[0]]\n",
        "# y_train[0]"
      ],
      "metadata": {
        "colab": {
          "base_uri": "https://localhost:8080/"
        },
        "id": "Sz_oDld-bAO8",
        "outputId": "2f15cddf-2f25-47be-cf09-bbab8c912640"
      },
      "execution_count": 11,
      "outputs": [
        {
          "output_type": "execute_result",
          "data": {
            "text/plain": [
              "9"
            ]
          },
          "metadata": {},
          "execution_count": 11
        }
      ]
    },
    {
      "cell_type": "markdown",
      "source": [
        "# **Creating the model using the sequential API**"
      ],
      "metadata": {
        "id": "u0MH8yMqbnPQ"
      }
    },
    {
      "cell_type": "markdown",
      "source": [
        "### Hidden layers"
      ],
      "metadata": {
        "id": "4DCfbN0scGrZ"
      }
    },
    {
      "cell_type": "code",
      "source": [
        "tf.random.set_seed(42)\n",
        "model = tf.keras.Sequential()\n",
        "model.add(tf.keras.layers.Input(shape= [28, 28]))\n",
        "model.add(tf.keras.layers.Flatten())\n",
        "model.add(tf.keras.layers.Dense(300,activation= \"relu\"))\n",
        "model.add(tf.keras.layers.Dense(100, activation= \"relu\"))\n",
        "model.add(tf.keras.layers.Dense(10, activation= \"softmax\"))"
      ],
      "metadata": {
        "id": "dySbI2Htbek-"
      },
      "execution_count": null,
      "outputs": []
    },
    {
      "cell_type": "code",
      "source": [
        "# another more convinient way to skin this same cat is to pass the list of layers\n",
        "# when creating a sequential model\n",
        "tf.random.set_seed(42)\n",
        "model = tf.keras.Sequential([\n",
        "    tf.keras.layers.Flatten(input_shape= [28, 28]),\n",
        "    tf.keras.layers.Dense(300, activation= \"relu\"),\n",
        "    tf.keras.layers.Dense(100, activation= \"relu\"),\n",
        "    tf.keras.layers.Dense(10, activation= \"softmax\")\n",
        "])"
      ],
      "metadata": {
        "id": "MTdduzF5hcEP"
      },
      "execution_count": 5,
      "outputs": []
    },
    {
      "cell_type": "markdown",
      "source": [
        "## The summary method\n",
        "1. displays model's layers and names, shape(None means the shape can be anything), and its number of parameters.Summary ends with the total number of parameters. This includes trainable and non-trainable parameters."
      ],
      "metadata": {
        "id": "RDWHZNAeijSJ"
      }
    },
    {
      "cell_type": "code",
      "source": [
        "model.summary()"
      ],
      "metadata": {
        "colab": {
          "base_uri": "https://localhost:8080/"
        },
        "id": "ftfU5pJGj545",
        "outputId": "ed0f42ba-0933-47a8-cf4b-433309cbe5c7"
      },
      "execution_count": 15,
      "outputs": [
        {
          "output_type": "stream",
          "name": "stdout",
          "text": [
            "Model: \"sequential\"\n",
            "_________________________________________________________________\n",
            " Layer (type)                Output Shape              Param #   \n",
            "=================================================================\n",
            " flatten (Flatten)           (None, 784)               0         \n",
            "                                                                 \n",
            " dense (Dense)               (None, 300)               235500    \n",
            "                                                                 \n",
            " dense_1 (Dense)             (None, 100)               30100     \n",
            "                                                                 \n",
            " dense_2 (Dense)             (None, 10)                1010      \n",
            "                                                                 \n",
            "=================================================================\n",
            "Total params: 266610 (1.02 MB)\n",
            "Trainable params: 266610 (1.02 MB)\n",
            "Non-trainable params: 0 (0.00 Byte)\n",
            "_________________________________________________________________\n"
          ]
        }
      ]
    },
    {
      "cell_type": "markdown",
      "source": [
        "## The Dense layers have a lot of parameters.\n",
        "1. 784 x 300(connection weights) + 300(bias terms) = 235,500 parameters\n",
        "2. This gives it the flexibility to fit the training data But also to overfit if the data is little.\n",
        "3. Allow keras name the layers. it makes them unique across models so that there\n",
        "arent any name conflicts when models are merged.\n",
        "4. Always specify the input_shape bse the number of parameters depend on it."
      ],
      "metadata": {
        "id": "Zpp7xUGTkdBz"
      }
    },
    {
      "cell_type": "code",
      "source": [
        "# getting a list of the layers of the model using \"layers\" attribute\n",
        "model.layers"
      ],
      "metadata": {
        "colab": {
          "base_uri": "https://localhost:8080/"
        },
        "id": "n_bMnkhgj9nx",
        "outputId": "431e03d2-7114-4111-e934-489f68debd18"
      },
      "execution_count": 16,
      "outputs": [
        {
          "output_type": "execute_result",
          "data": {
            "text/plain": [
              "[<keras.src.layers.reshaping.flatten.Flatten at 0x7b21f09736a0>,\n",
              " <keras.src.layers.core.dense.Dense at 0x7b21f447c970>,\n",
              " <keras.src.layers.core.dense.Dense at 0x7b21f447eec0>,\n",
              " <keras.src.layers.core.dense.Dense at 0x7b21f447eda0>]"
            ]
          },
          "metadata": {},
          "execution_count": 16
        }
      ]
    },
    {
      "cell_type": "code",
      "source": [
        "# or use get_layer() method to access a layer's address\n",
        "hidden1 = model.layers[1]\n",
        "#  getting the name of the layer stored at that position\n",
        "hidden1.name\n",
        "# output: 'dense'\n",
        "# checking whether the 2 objects are identical(occupy same memory location)\n",
        "model.get_layer(\"dense\") is hidden1"
      ],
      "metadata": {
        "colab": {
          "base_uri": "https://localhost:8080/"
        },
        "id": "9fijKLj9m4rw",
        "outputId": "b3783cf2-4906-47ca-8833-d5d3b9b39c23"
      },
      "execution_count": 22,
      "outputs": [
        {
          "output_type": "execute_result",
          "data": {
            "text/plain": [
              "True"
            ]
          },
          "metadata": {},
          "execution_count": 22
        }
      ]
    },
    {
      "cell_type": "code",
      "source": [
        "# getting the parameters(weights and biases) of a layer using the \"get_weights()\" and set_weights() methods\n",
        "weights, biases = hidden1.get_weights()\n",
        "weights\n",
        "# Notice that the layer initialized the connection weights randomly which is\n",
        "# needed to break symmetry.\n",
        "# use kernel_initializer if you want to use a different method of initialization\n"
      ],
      "metadata": {
        "colab": {
          "base_uri": "https://localhost:8080/"
        },
        "id": "C_jc6Dxpngek",
        "outputId": "76c07c27-f325-4e92-cf76-1c3cdca6eec1"
      },
      "execution_count": 23,
      "outputs": [
        {
          "output_type": "execute_result",
          "data": {
            "text/plain": [
              "array([[ 1.22443363e-02,  7.24657625e-02,  4.80433106e-02, ...,\n",
              "        -1.31331794e-02, -6.74126223e-02, -1.68635361e-02],\n",
              "       [-3.20654809e-02, -4.29520719e-02, -7.22041130e-02, ...,\n",
              "         4.57987860e-02,  1.27706006e-02, -5.07416651e-02],\n",
              "       [-3.62110138e-02,  4.26918715e-02, -7.37451464e-02, ...,\n",
              "        -2.48345733e-03, -4.08971421e-02,  6.74963892e-02],\n",
              "       ...,\n",
              "       [-2.24947743e-02, -2.51596011e-02, -1.19369365e-02, ...,\n",
              "         4.59834188e-02,  7.16703683e-02, -6.56470656e-05],\n",
              "       [-5.68307340e-02,  7.62648135e-03,  5.18959612e-02, ...,\n",
              "        -6.46120459e-02, -9.06471908e-03, -3.45457830e-02],\n",
              "       [-7.26968944e-02,  5.02415821e-02, -5.35906143e-02, ...,\n",
              "        -7.18618929e-03,  5.97420335e-02, -1.66833401e-03]], dtype=float32)"
            ]
          },
          "metadata": {},
          "execution_count": 23
        }
      ]
    },
    {
      "cell_type": "code",
      "source": [
        "# 784 rows and 300 columns\n",
        "weights.shape"
      ],
      "metadata": {
        "colab": {
          "base_uri": "https://localhost:8080/"
        },
        "id": "J0Fub4LqqYN-",
        "outputId": "88535f7f-1ab1-4a9f-8471-82c62ac80498"
      },
      "execution_count": 24,
      "outputs": [
        {
          "output_type": "execute_result",
          "data": {
            "text/plain": [
              "(784, 300)"
            ]
          },
          "metadata": {},
          "execution_count": 24
        }
      ]
    },
    {
      "cell_type": "code",
      "source": [
        "biases"
      ],
      "metadata": {
        "colab": {
          "base_uri": "https://localhost:8080/"
        },
        "id": "yEJ4Fvx0qgip",
        "outputId": "98635b63-0b56-48f4-e748-6574544cd2d2"
      },
      "execution_count": 25,
      "outputs": [
        {
          "output_type": "execute_result",
          "data": {
            "text/plain": [
              "array([0., 0., 0., 0., 0., 0., 0., 0., 0., 0., 0., 0., 0., 0., 0., 0., 0.,\n",
              "       0., 0., 0., 0., 0., 0., 0., 0., 0., 0., 0., 0., 0., 0., 0., 0., 0.,\n",
              "       0., 0., 0., 0., 0., 0., 0., 0., 0., 0., 0., 0., 0., 0., 0., 0., 0.,\n",
              "       0., 0., 0., 0., 0., 0., 0., 0., 0., 0., 0., 0., 0., 0., 0., 0., 0.,\n",
              "       0., 0., 0., 0., 0., 0., 0., 0., 0., 0., 0., 0., 0., 0., 0., 0., 0.,\n",
              "       0., 0., 0., 0., 0., 0., 0., 0., 0., 0., 0., 0., 0., 0., 0., 0., 0.,\n",
              "       0., 0., 0., 0., 0., 0., 0., 0., 0., 0., 0., 0., 0., 0., 0., 0., 0.,\n",
              "       0., 0., 0., 0., 0., 0., 0., 0., 0., 0., 0., 0., 0., 0., 0., 0., 0.,\n",
              "       0., 0., 0., 0., 0., 0., 0., 0., 0., 0., 0., 0., 0., 0., 0., 0., 0.,\n",
              "       0., 0., 0., 0., 0., 0., 0., 0., 0., 0., 0., 0., 0., 0., 0., 0., 0.,\n",
              "       0., 0., 0., 0., 0., 0., 0., 0., 0., 0., 0., 0., 0., 0., 0., 0., 0.,\n",
              "       0., 0., 0., 0., 0., 0., 0., 0., 0., 0., 0., 0., 0., 0., 0., 0., 0.,\n",
              "       0., 0., 0., 0., 0., 0., 0., 0., 0., 0., 0., 0., 0., 0., 0., 0., 0.,\n",
              "       0., 0., 0., 0., 0., 0., 0., 0., 0., 0., 0., 0., 0., 0., 0., 0., 0.,\n",
              "       0., 0., 0., 0., 0., 0., 0., 0., 0., 0., 0., 0., 0., 0., 0., 0., 0.,\n",
              "       0., 0., 0., 0., 0., 0., 0., 0., 0., 0., 0., 0., 0., 0., 0., 0., 0.,\n",
              "       0., 0., 0., 0., 0., 0., 0., 0., 0., 0., 0., 0., 0., 0., 0., 0., 0.,\n",
              "       0., 0., 0., 0., 0., 0., 0., 0., 0., 0., 0.], dtype=float32)"
            ]
          },
          "metadata": {},
          "execution_count": 25
        }
      ]
    },
    {
      "cell_type": "code",
      "source": [
        "# 300 rows of biases\n",
        "biases.shape"
      ],
      "metadata": {
        "colab": {
          "base_uri": "https://localhost:8080/"
        },
        "id": "nKsqXdj3qr9v",
        "outputId": "70e0c60b-6f34-4ce4-b452-8fac6d6ff523"
      },
      "execution_count": 26,
      "outputs": [
        {
          "output_type": "execute_result",
          "data": {
            "text/plain": [
              "(300,)"
            ]
          },
          "metadata": {},
          "execution_count": 26
        }
      ]
    },
    {
      "cell_type": "markdown",
      "source": [
        "## Compiling the Model\n",
        "1. After a model is created, we must call its compile() method to specify the loss function and the optimizer to use\n",
        "2. Optionally, you can specify a list of extra metrics to compute during training and evaluation."
      ],
      "metadata": {
        "id": "0oC4uzUTylxs"
      }
    },
    {
      "cell_type": "code",
      "source": [
        "model.compile(loss= \"sparse_categorical_crossentropy\",\n",
        "              optimizer= tf.keras.optimizers.SGD(learning_rate= 0.01),\n",
        "              metrics= [\"accuracy\"])\n",
        "# it is better to specify your own learning rate and stop relying on the standard\n",
        "# 0.01 of tensorflow(optimizer= 'sgd')\n",
        "\n",
        "# optimizer = tf.keras.optimizers.SGD(learning_rate= 0.001)"
      ],
      "metadata": {
        "id": "lEyCQIXequQG"
      },
      "execution_count": 6,
      "outputs": []
    },
    {
      "cell_type": "markdown",
      "source": [
        "we have used the sparse_categorical_crossentropy bse the target is just an index for the class it belongs to. and not a one-hot-encoded probability. Each class also happens to be exclusive"
      ],
      "metadata": {
        "id": "WlF_q-v81ar8"
      }
    },
    {
      "cell_type": "markdown",
      "source": [
        "## Training and evaluating the model"
      ],
      "metadata": {
        "id": "SFQuZNPfAIb7"
      }
    },
    {
      "cell_type": "code",
      "source": [
        "history = model.fit(X_train, y_train, epochs= 30, validation_data= (X_valid, y_valid))"
      ],
      "metadata": {
        "colab": {
          "base_uri": "https://localhost:8080/"
        },
        "id": "AazDHlsVAPxH",
        "outputId": "440947e9-4f8e-4bfe-d1a0-1fff314ecbf5"
      },
      "execution_count": 7,
      "outputs": [
        {
          "output_type": "stream",
          "name": "stdout",
          "text": [
            "Epoch 1/30\n",
            "1719/1719 [==============================] - 6s 3ms/step - loss: 0.7000 - accuracy: 0.7693 - val_loss: 0.5037 - val_accuracy: 0.8290\n",
            "Epoch 2/30\n",
            "1719/1719 [==============================] - 6s 4ms/step - loss: 0.4852 - accuracy: 0.8314 - val_loss: 0.4738 - val_accuracy: 0.8318\n",
            "Epoch 3/30\n",
            "1719/1719 [==============================] - 5s 3ms/step - loss: 0.4397 - accuracy: 0.8461 - val_loss: 0.4304 - val_accuracy: 0.8496\n",
            "Epoch 4/30\n",
            "1719/1719 [==============================] - 6s 4ms/step - loss: 0.4152 - accuracy: 0.8549 - val_loss: 0.3974 - val_accuracy: 0.8610\n",
            "Epoch 5/30\n",
            "1719/1719 [==============================] - 5s 3ms/step - loss: 0.3947 - accuracy: 0.8619 - val_loss: 0.3940 - val_accuracy: 0.8566\n",
            "Epoch 6/30\n",
            "1719/1719 [==============================] - 6s 3ms/step - loss: 0.3784 - accuracy: 0.8667 - val_loss: 0.4050 - val_accuracy: 0.8610\n",
            "Epoch 7/30\n",
            "1719/1719 [==============================] - 5s 3ms/step - loss: 0.3654 - accuracy: 0.8703 - val_loss: 0.3757 - val_accuracy: 0.8682\n",
            "Epoch 8/30\n",
            "1719/1719 [==============================] - 5s 3ms/step - loss: 0.3539 - accuracy: 0.8753 - val_loss: 0.3766 - val_accuracy: 0.8644\n",
            "Epoch 9/30\n",
            "1719/1719 [==============================] - 6s 4ms/step - loss: 0.3428 - accuracy: 0.8785 - val_loss: 0.3540 - val_accuracy: 0.8762\n",
            "Epoch 10/30\n",
            "1719/1719 [==============================] - 5s 3ms/step - loss: 0.3323 - accuracy: 0.8815 - val_loss: 0.3525 - val_accuracy: 0.8768\n",
            "Epoch 11/30\n",
            "1719/1719 [==============================] - 6s 4ms/step - loss: 0.3236 - accuracy: 0.8843 - val_loss: 0.3657 - val_accuracy: 0.8678\n",
            "Epoch 12/30\n",
            "1719/1719 [==============================] - 5s 3ms/step - loss: 0.3153 - accuracy: 0.8874 - val_loss: 0.3516 - val_accuracy: 0.8712\n",
            "Epoch 13/30\n",
            "1719/1719 [==============================] - 5s 3ms/step - loss: 0.3080 - accuracy: 0.8910 - val_loss: 0.3317 - val_accuracy: 0.8820\n",
            "Epoch 14/30\n",
            "1719/1719 [==============================] - 6s 3ms/step - loss: 0.3008 - accuracy: 0.8914 - val_loss: 0.3442 - val_accuracy: 0.8778\n",
            "Epoch 15/30\n",
            "1719/1719 [==============================] - 5s 3ms/step - loss: 0.2943 - accuracy: 0.8961 - val_loss: 0.3441 - val_accuracy: 0.8778\n",
            "Epoch 16/30\n",
            "1719/1719 [==============================] - 6s 4ms/step - loss: 0.2871 - accuracy: 0.8966 - val_loss: 0.3336 - val_accuracy: 0.8798\n",
            "Epoch 17/30\n",
            "1719/1719 [==============================] - 5s 3ms/step - loss: 0.2819 - accuracy: 0.8989 - val_loss: 0.3380 - val_accuracy: 0.8774\n",
            "Epoch 18/30\n",
            "1719/1719 [==============================] - 6s 4ms/step - loss: 0.2758 - accuracy: 0.9007 - val_loss: 0.3282 - val_accuracy: 0.8796\n",
            "Epoch 19/30\n",
            "1719/1719 [==============================] - 5s 3ms/step - loss: 0.2710 - accuracy: 0.9035 - val_loss: 0.3496 - val_accuracy: 0.8702\n",
            "Epoch 20/30\n",
            "1719/1719 [==============================] - 5s 3ms/step - loss: 0.2658 - accuracy: 0.9045 - val_loss: 0.3199 - val_accuracy: 0.8842\n",
            "Epoch 21/30\n",
            "1719/1719 [==============================] - 6s 4ms/step - loss: 0.2603 - accuracy: 0.9064 - val_loss: 0.3180 - val_accuracy: 0.8854\n",
            "Epoch 22/30\n",
            "1719/1719 [==============================] - 5s 3ms/step - loss: 0.2551 - accuracy: 0.9080 - val_loss: 0.3163 - val_accuracy: 0.8880\n",
            "Epoch 23/30\n",
            "1719/1719 [==============================] - 6s 4ms/step - loss: 0.2511 - accuracy: 0.9104 - val_loss: 0.3449 - val_accuracy: 0.8742\n",
            "Epoch 24/30\n",
            "1719/1719 [==============================] - 5s 3ms/step - loss: 0.2461 - accuracy: 0.9122 - val_loss: 0.3199 - val_accuracy: 0.8840\n",
            "Epoch 25/30\n",
            "1719/1719 [==============================] - 6s 3ms/step - loss: 0.2413 - accuracy: 0.9128 - val_loss: 0.3200 - val_accuracy: 0.8868\n",
            "Epoch 26/30\n",
            "1719/1719 [==============================] - 6s 3ms/step - loss: 0.2378 - accuracy: 0.9149 - val_loss: 0.3165 - val_accuracy: 0.8866\n",
            "Epoch 27/30\n",
            "1719/1719 [==============================] - 5s 3ms/step - loss: 0.2328 - accuracy: 0.9160 - val_loss: 0.3260 - val_accuracy: 0.8854\n",
            "Epoch 28/30\n",
            "1719/1719 [==============================] - 8s 5ms/step - loss: 0.2296 - accuracy: 0.9174 - val_loss: 0.3144 - val_accuracy: 0.8890\n",
            "Epoch 29/30\n",
            "1719/1719 [==============================] - 5s 3ms/step - loss: 0.2253 - accuracy: 0.9188 - val_loss: 0.3180 - val_accuracy: 0.8830\n",
            "Epoch 30/30\n",
            "1719/1719 [==============================] - 6s 4ms/step - loss: 0.2217 - accuracy: 0.9203 - val_loss: 0.3116 - val_accuracy: 0.8880\n"
          ]
        }
      ]
    },
    {
      "cell_type": "markdown",
      "source": [
        "1. Training accuracy is 0.92 and validation accuracy is 0.88 which means there is a little bit of overfitting going on in the model.\n",
        "2. Another way to create a validation set is to use the \"validation_split= 0.2\" which would use the last 20% of the training data for validation"
      ],
      "metadata": {
        "id": "2FSWv2SpCcMH"
      }
    },
    {
      "cell_type": "markdown",
      "source": [
        "## For skewed data\n",
        "1. if our data has an underrepresented class, it would be usefull to set the \"class_weight\" argument when calling the fit()  method, to give a larger weight and lower weight accordingly. The classes would be used by keras when computing the weights\n",
        "2. If there is a portion of data(say labelled by experts) that you would like keras to give more weight, set the \"sample_weight\" argument.\n",
        "\n",
        "3. if both weights are provided, keras multiplies them.\n",
        "4. You can also provide sample weights and not class weights for the validation set by adding them as a third item in the validation_data tuple."
      ],
      "metadata": {
        "id": "_P7YbXhbDaYZ"
      }
    },
    {
      "cell_type": "markdown",
      "source": [
        "## Visualize training details\n",
        "1. the fit() method returns a History object containing the training parameters\n",
        "    1. history.params - training parameters\n",
        "    2. history.epoch - list of epochs it went through\n",
        "    3. history.history - contains loss and extra training metrics measures the the end of each epoch on the training and validation sets"
      ],
      "metadata": {
        "id": "rK5oK1TlqBY0"
      }
    },
    {
      "cell_type": "code",
      "source": [
        "import matplotlib.pyplot as plt\n",
        "import pandas as pd\n",
        "\n",
        "pd.DataFrame(history.history).plot(figsize= (8, 5), xlim= [0, 29], ylim= [0, 1],\n",
        "                                   grid= True, xlabel= \"Epoch\",\n",
        "                                   style= [\"r-+\",\"r--\",\"b-\",\"b-*\"])\n",
        "plt.show()"
      ],
      "metadata": {
        "colab": {
          "base_uri": "https://localhost:8080/",
          "height": 470
        },
        "id": "-YjzKCPfAegJ",
        "outputId": "d9bf6c78-fcbe-4ac7-ee8a-d6330f18ebe2"
      },
      "execution_count": 9,
      "outputs": [
        {
          "output_type": "display_data",
          "data": {
            "text/plain": [
              "<Figure size 800x500 with 1 Axes>"
            ],
            "image/png": "[encoded data removed]"
          },
          "metadata": {}
        }
      ]
    },
    {
      "cell_type": "markdown",
      "source": [
        "## Key points\n",
        "1. The validation accuracy is measured at the end of each epoch while the training accuracy is computed using a running mean during each epoch- the curves overlap perfectly if the training accuracy curve is shifted by half an epoch\n",
        "2. You can tell that the model has not converged yet given that the validation loss is still going down town.\n",
        "3. To continue the training,just call the fit() method and the keras will pick up from where it left off.\n",
        "4. If you want to squeeze more juice from the model. Tune some hyperparameters   \n",
        "\n",
        "    1.   Learning rate\n",
        "    2.   Optimizer change\n",
        "    3.   Number of layers\n",
        "    4.   Number of neurons per layer\n",
        "    5.   Type of activation func for each hidden layer\n",
        "    6.   batch size - using the batch_size argument(default= 32)\n"
      ],
      "metadata": {
        "id": "loDlV0Y-xPp-"
      }
    },
    {
      "cell_type": "code",
      "source": [],
      "metadata": {
        "id": "Uk0dDDttsZF3"
      },
      "execution_count": null,
      "outputs": []
    }
  ]
}